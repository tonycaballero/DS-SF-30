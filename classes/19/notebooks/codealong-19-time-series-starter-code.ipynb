{
 "cells": [
  {
   "cell_type": "markdown",
   "metadata": {},
   "source": [
    "# DS-SF-30 | Codealong 19: Time Series"
   ]
  },
  {
   "cell_type": "code",
<<<<<<< HEAD
   "execution_count": 1,
=======
   "execution_count": null,
>>>>>>> upstream/master
   "metadata": {
    "collapsed": false
   },
   "outputs": [],
   "source": [
    "import os\n",
    "\n",
    "import numpy as np\n",
    "import pandas as pd\n",
    "pd.set_option('display.max_rows', 10)\n",
    "pd.set_option('display.notebook_repr_html', True)\n",
    "pd.set_option('display.max_columns', 10)\n",
    "\n",
    "from statsmodels.tsa import arima_model\n",
    "from statsmodels.graphics.tsaplots import plot_acf\n",
    "\n",
    "import matplotlib.pyplot as plt\n",
    "%matplotlib inline\n",
    "plt.style.use('ggplot')\n",
    "\n",
    "import seaborn as sb"
   ]
  },
  {
   "cell_type": "markdown",
   "metadata": {},
   "source": [
    "## Time Series Analysis"
   ]
  },
  {
   "cell_type": "markdown",
   "metadata": {},
   "source": [
    "## Part A - Data Exploration"
   ]
  },
  {
   "cell_type": "code",
<<<<<<< HEAD
   "execution_count": 26,
=======
   "execution_count": null,
>>>>>>> upstream/master
   "metadata": {
    "collapsed": false
   },
   "outputs": [],
   "source": [
    "df = pd.read_csv(os.path.join('..', 'datasets', 'dataset-19-rossmann.csv'),\n",
    "    skipinitialspace = True,\n",
    "    low_memory = False)"
   ]
  },
  {
   "cell_type": "code",
<<<<<<< HEAD
   "execution_count": 27,
   "metadata": {
    "collapsed": false
   },
   "outputs": [
    {
     "data": {
      "text/html": [
       "<div>\n",
       "<table border=\"1\" class=\"dataframe\">\n",
       "  <thead>\n",
       "    <tr style=\"text-align: right;\">\n",
       "      <th></th>\n",
       "      <th>Store</th>\n",
       "      <th>DayOfWeek</th>\n",
       "      <th>Date</th>\n",
       "      <th>Sales</th>\n",
       "      <th>Customers</th>\n",
       "      <th>Open</th>\n",
       "      <th>Promo</th>\n",
       "      <th>StateHoliday</th>\n",
       "      <th>SchoolHoliday</th>\n",
       "    </tr>\n",
       "  </thead>\n",
       "  <tbody>\n",
       "    <tr>\n",
       "      <th>0</th>\n",
       "      <td>1</td>\n",
       "      <td>5</td>\n",
       "      <td>2015-07-31</td>\n",
       "      <td>5263</td>\n",
       "      <td>555</td>\n",
       "      <td>1</td>\n",
       "      <td>1</td>\n",
       "      <td>0</td>\n",
       "      <td>1</td>\n",
       "    </tr>\n",
       "    <tr>\n",
       "      <th>1</th>\n",
       "      <td>2</td>\n",
       "      <td>5</td>\n",
       "      <td>2015-07-31</td>\n",
       "      <td>6064</td>\n",
       "      <td>625</td>\n",
       "      <td>1</td>\n",
       "      <td>1</td>\n",
       "      <td>0</td>\n",
       "      <td>1</td>\n",
       "    </tr>\n",
       "    <tr>\n",
       "      <th>2</th>\n",
       "      <td>3</td>\n",
       "      <td>5</td>\n",
       "      <td>2015-07-31</td>\n",
       "      <td>8314</td>\n",
       "      <td>821</td>\n",
       "      <td>1</td>\n",
       "      <td>1</td>\n",
       "      <td>0</td>\n",
       "      <td>1</td>\n",
       "    </tr>\n",
       "    <tr>\n",
       "      <th>3</th>\n",
       "      <td>4</td>\n",
       "      <td>5</td>\n",
       "      <td>2015-07-31</td>\n",
       "      <td>13995</td>\n",
       "      <td>1498</td>\n",
       "      <td>1</td>\n",
       "      <td>1</td>\n",
       "      <td>0</td>\n",
       "      <td>1</td>\n",
       "    </tr>\n",
       "    <tr>\n",
       "      <th>4</th>\n",
       "      <td>5</td>\n",
       "      <td>5</td>\n",
       "      <td>2015-07-31</td>\n",
       "      <td>4822</td>\n",
       "      <td>559</td>\n",
       "      <td>1</td>\n",
       "      <td>1</td>\n",
       "      <td>0</td>\n",
       "      <td>1</td>\n",
       "    </tr>\n",
       "    <tr>\n",
       "      <th>...</th>\n",
       "      <td>...</td>\n",
       "      <td>...</td>\n",
       "      <td>...</td>\n",
       "      <td>...</td>\n",
       "      <td>...</td>\n",
       "      <td>...</td>\n",
       "      <td>...</td>\n",
       "      <td>...</td>\n",
       "      <td>...</td>\n",
       "    </tr>\n",
       "    <tr>\n",
       "      <th>1017204</th>\n",
       "      <td>1111</td>\n",
       "      <td>2</td>\n",
       "      <td>2013-01-01</td>\n",
       "      <td>0</td>\n",
       "      <td>0</td>\n",
       "      <td>0</td>\n",
       "      <td>0</td>\n",
       "      <td>a</td>\n",
       "      <td>1</td>\n",
       "    </tr>\n",
       "    <tr>\n",
       "      <th>1017205</th>\n",
       "      <td>1112</td>\n",
       "      <td>2</td>\n",
       "      <td>2013-01-01</td>\n",
       "      <td>0</td>\n",
       "      <td>0</td>\n",
       "      <td>0</td>\n",
       "      <td>0</td>\n",
       "      <td>a</td>\n",
       "      <td>1</td>\n",
       "    </tr>\n",
       "    <tr>\n",
       "      <th>1017206</th>\n",
       "      <td>1113</td>\n",
       "      <td>2</td>\n",
       "      <td>2013-01-01</td>\n",
       "      <td>0</td>\n",
       "      <td>0</td>\n",
       "      <td>0</td>\n",
       "      <td>0</td>\n",
       "      <td>a</td>\n",
       "      <td>1</td>\n",
       "    </tr>\n",
       "    <tr>\n",
       "      <th>1017207</th>\n",
       "      <td>1114</td>\n",
       "      <td>2</td>\n",
       "      <td>2013-01-01</td>\n",
       "      <td>0</td>\n",
       "      <td>0</td>\n",
       "      <td>0</td>\n",
       "      <td>0</td>\n",
       "      <td>a</td>\n",
       "      <td>1</td>\n",
       "    </tr>\n",
       "    <tr>\n",
       "      <th>1017208</th>\n",
       "      <td>1115</td>\n",
       "      <td>2</td>\n",
       "      <td>2013-01-01</td>\n",
       "      <td>0</td>\n",
       "      <td>0</td>\n",
       "      <td>0</td>\n",
       "      <td>0</td>\n",
       "      <td>a</td>\n",
       "      <td>1</td>\n",
       "    </tr>\n",
       "  </tbody>\n",
       "</table>\n",
       "<p>1017209 rows × 9 columns</p>\n",
       "</div>"
      ],
      "text/plain": [
       "         Store  DayOfWeek        Date  Sales  Customers  Open  Promo  \\\n",
       "0            1          5  2015-07-31   5263        555     1      1   \n",
       "1            2          5  2015-07-31   6064        625     1      1   \n",
       "2            3          5  2015-07-31   8314        821     1      1   \n",
       "3            4          5  2015-07-31  13995       1498     1      1   \n",
       "4            5          5  2015-07-31   4822        559     1      1   \n",
       "...        ...        ...         ...    ...        ...   ...    ...   \n",
       "1017204   1111          2  2013-01-01      0          0     0      0   \n",
       "1017205   1112          2  2013-01-01      0          0     0      0   \n",
       "1017206   1113          2  2013-01-01      0          0     0      0   \n",
       "1017207   1114          2  2013-01-01      0          0     0      0   \n",
       "1017208   1115          2  2013-01-01      0          0     0      0   \n",
       "\n",
       "        StateHoliday  SchoolHoliday  \n",
       "0                  0              1  \n",
       "1                  0              1  \n",
       "2                  0              1  \n",
       "3                  0              1  \n",
       "4                  0              1  \n",
       "...              ...            ...  \n",
       "1017204            a              1  \n",
       "1017205            a              1  \n",
       "1017206            a              1  \n",
       "1017207            a              1  \n",
       "1017208            a              1  \n",
       "\n",
       "[1017209 rows x 9 columns]"
      ]
     },
     "execution_count": 27,
     "metadata": {},
     "output_type": "execute_result"
    }
   ],
=======
   "execution_count": null,
   "metadata": {
    "collapsed": false
   },
   "outputs": [],
>>>>>>> upstream/master
   "source": [
    "df"
   ]
  },
  {
   "cell_type": "code",
<<<<<<< HEAD
   "execution_count": 4,
   "metadata": {
    "collapsed": false
   },
   "outputs": [
    {
     "data": {
      "text/plain": [
       "Index([u'Store', u'DayOfWeek', u'Date', u'Sales', u'Customers', u'Open',\n",
       "       u'Promo', u'StateHoliday', u'SchoolHoliday'],\n",
       "      dtype='object')"
      ]
     },
     "execution_count": 4,
     "metadata": {},
     "output_type": "execute_result"
    }
   ],
=======
   "execution_count": null,
   "metadata": {
    "collapsed": false
   },
   "outputs": [],
>>>>>>> upstream/master
   "source": [
    "df.columns"
   ]
  },
  {
<<<<<<< HEAD
   "cell_type": "code",
   "execution_count": 8,
   "metadata": {
    "collapsed": false
   },
   "outputs": [
    {
     "data": {
      "text/html": [
       "<div>\n",
       "<table border=\"1\" class=\"dataframe\">\n",
       "  <thead>\n",
       "    <tr style=\"text-align: right;\">\n",
       "      <th></th>\n",
       "      <th>Store</th>\n",
       "      <th>DayOfWeek</th>\n",
       "      <th>Sales</th>\n",
       "      <th>Customers</th>\n",
       "      <th>Open</th>\n",
       "      <th>Promo</th>\n",
       "      <th>SchoolHoliday</th>\n",
       "    </tr>\n",
       "  </thead>\n",
       "  <tbody>\n",
       "    <tr>\n",
       "      <th>Store</th>\n",
       "      <td>1.000000</td>\n",
       "      <td>-0.000008</td>\n",
       "      <td>0.005126</td>\n",
       "      <td>0.024325</td>\n",
       "      <td>-0.000047</td>\n",
       "      <td>0.000058</td>\n",
       "      <td>0.000641</td>\n",
       "    </tr>\n",
       "    <tr>\n",
       "      <th>DayOfWeek</th>\n",
       "      <td>-0.000008</td>\n",
       "      <td>1.000000</td>\n",
       "      <td>-0.462125</td>\n",
       "      <td>-0.386445</td>\n",
       "      <td>-0.528963</td>\n",
       "      <td>-0.392925</td>\n",
       "      <td>-0.205388</td>\n",
       "    </tr>\n",
       "    <tr>\n",
       "      <th>Sales</th>\n",
       "      <td>0.005126</td>\n",
       "      <td>-0.462125</td>\n",
       "      <td>1.000000</td>\n",
       "      <td>0.894711</td>\n",
       "      <td>0.678472</td>\n",
       "      <td>0.452345</td>\n",
       "      <td>0.085124</td>\n",
       "    </tr>\n",
       "    <tr>\n",
       "      <th>Customers</th>\n",
       "      <td>0.024325</td>\n",
       "      <td>-0.386445</td>\n",
       "      <td>0.894711</td>\n",
       "      <td>1.000000</td>\n",
       "      <td>0.616768</td>\n",
       "      <td>0.316169</td>\n",
       "      <td>0.071568</td>\n",
       "    </tr>\n",
       "    <tr>\n",
       "      <th>Open</th>\n",
       "      <td>-0.000047</td>\n",
       "      <td>-0.528963</td>\n",
       "      <td>0.678472</td>\n",
       "      <td>0.616768</td>\n",
       "      <td>1.000000</td>\n",
       "      <td>0.295042</td>\n",
       "      <td>0.086171</td>\n",
       "    </tr>\n",
       "    <tr>\n",
       "      <th>Promo</th>\n",
       "      <td>0.000058</td>\n",
       "      <td>-0.392925</td>\n",
       "      <td>0.452345</td>\n",
       "      <td>0.316169</td>\n",
       "      <td>0.295042</td>\n",
       "      <td>1.000000</td>\n",
       "      <td>0.067483</td>\n",
       "    </tr>\n",
       "    <tr>\n",
       "      <th>SchoolHoliday</th>\n",
       "      <td>0.000641</td>\n",
       "      <td>-0.205388</td>\n",
       "      <td>0.085124</td>\n",
       "      <td>0.071568</td>\n",
       "      <td>0.086171</td>\n",
       "      <td>0.067483</td>\n",
       "      <td>1.000000</td>\n",
       "    </tr>\n",
       "  </tbody>\n",
       "</table>\n",
       "</div>"
      ],
      "text/plain": [
       "                  Store  DayOfWeek     Sales  Customers      Open     Promo  \\\n",
       "Store          1.000000  -0.000008  0.005126   0.024325 -0.000047  0.000058   \n",
       "DayOfWeek     -0.000008   1.000000 -0.462125  -0.386445 -0.528963 -0.392925   \n",
       "Sales          0.005126  -0.462125  1.000000   0.894711  0.678472  0.452345   \n",
       "Customers      0.024325  -0.386445  0.894711   1.000000  0.616768  0.316169   \n",
       "Open          -0.000047  -0.528963  0.678472   0.616768  1.000000  0.295042   \n",
       "Promo          0.000058  -0.392925  0.452345   0.316169  0.295042  1.000000   \n",
       "SchoolHoliday  0.000641  -0.205388  0.085124   0.071568  0.086171  0.067483   \n",
       "\n",
       "               SchoolHoliday  \n",
       "Store               0.000641  \n",
       "DayOfWeek          -0.205388  \n",
       "Sales               0.085124  \n",
       "Customers           0.071568  \n",
       "Open                0.086171  \n",
       "Promo               0.067483  \n",
       "SchoolHoliday       1.000000  "
      ]
     },
     "execution_count": 8,
     "metadata": {},
     "output_type": "execute_result"
    }
   ],
   "source": [
    "df.corr()"
   ]
  },
  {
   "cell_type": "code",
   "execution_count": 14,
   "metadata": {
    "collapsed": false
   },
   "outputs": [
    {
     "data": {
      "text/plain": [
       "0    986159\n",
       "a     20260\n",
       "b      6690\n",
       "c      4100\n",
       "Name: StateHoliday, dtype: int64"
      ]
     },
     "execution_count": 14,
     "metadata": {},
     "output_type": "execute_result"
    }
   ],
   "source": [
    "#these are the vacation zones. this is a german grocery store data set\n",
    "#there's potential to do cross tab reference for school holida\n",
    "df.StateHoliday.value_counts()"
   ]
  },
  {
   "cell_type": "code",
   "execution_count": 15,
   "metadata": {
    "collapsed": false
   },
   "outputs": [
    {
     "data": {
      "text/html": [
       "<div>\n",
       "<table border=\"1\" class=\"dataframe\">\n",
       "  <thead>\n",
       "    <tr style=\"text-align: right;\">\n",
       "      <th>SchoolHoliday</th>\n",
       "      <th>0</th>\n",
       "      <th>1</th>\n",
       "    </tr>\n",
       "    <tr>\n",
       "      <th>StateHoliday</th>\n",
       "      <th></th>\n",
       "      <th></th>\n",
       "    </tr>\n",
       "  </thead>\n",
       "  <tbody>\n",
       "    <tr>\n",
       "      <th>0</th>\n",
       "      <td>819949</td>\n",
       "      <td>166210</td>\n",
       "    </tr>\n",
       "    <tr>\n",
       "      <th>a</th>\n",
       "      <td>15055</td>\n",
       "      <td>5205</td>\n",
       "    </tr>\n",
       "    <tr>\n",
       "      <th>b</th>\n",
       "      <td>484</td>\n",
       "      <td>6206</td>\n",
       "    </tr>\n",
       "    <tr>\n",
       "      <th>c</th>\n",
       "      <td>0</td>\n",
       "      <td>4100</td>\n",
       "    </tr>\n",
       "  </tbody>\n",
       "</table>\n",
       "</div>"
      ],
      "text/plain": [
       "SchoolHoliday       0       1\n",
       "StateHoliday                 \n",
       "0              819949  166210\n",
       "a               15055    5205\n",
       "b                 484    6206\n",
       "c                   0    4100"
      ]
     },
     "execution_count": 15,
     "metadata": {},
     "output_type": "execute_result"
    }
   ],
   "source": [
    "pd.crosstab(df.StateHoliday, df.SchoolHoliday)"
   ]
  },
  {
   "cell_type": "code",
   "execution_count": null,
   "metadata": {
    "collapsed": true
   },
   "outputs": [],
   "source": []
  },
  {
   "cell_type": "raw",
   "metadata": {},
   "source": []
  },
  {
=======
>>>>>>> upstream/master
   "cell_type": "markdown",
   "metadata": {},
   "source": [
    "Because we are most interested in the `Date` column that contains the date of sales for each store, we will make sure to process that as a `DateTime` type, and make that the index of our dataframe."
   ]
  },
  {
   "cell_type": "code",
<<<<<<< HEAD
   "execution_count": 28,
   "metadata": {
    "collapsed": false
   },
   "outputs": [
    {
     "data": {
      "text/plain": [
       "0          2015-07-31\n",
       "1          2015-07-31\n",
       "2          2015-07-31\n",
       "3          2015-07-31\n",
       "4          2015-07-31\n",
       "              ...    \n",
       "1017204    2013-01-01\n",
       "1017205    2013-01-01\n",
       "1017206    2013-01-01\n",
       "1017207    2013-01-01\n",
       "1017208    2013-01-01\n",
       "Name: Date, dtype: object"
      ]
     },
     "execution_count": 28,
     "metadata": {},
     "output_type": "execute_result"
    }
   ],
=======
   "execution_count": null,
   "metadata": {
    "collapsed": false
   },
   "outputs": [],
>>>>>>> upstream/master
   "source": [
    "df.Date"
   ]
  },
  {
   "cell_type": "code",
<<<<<<< HEAD
   "execution_count": 29,
=======
   "execution_count": null,
>>>>>>> upstream/master
   "metadata": {
    "collapsed": false
   },
   "outputs": [],
   "source": [
<<<<<<< HEAD
    "df.Date = pd.to_datetime(df.Date) #converts to date object"
=======
    "df.Date = pd.to_datetime(df.Date)"
>>>>>>> upstream/master
   ]
  },
  {
   "cell_type": "code",
<<<<<<< HEAD
   "execution_count": 30,
   "metadata": {
    "collapsed": false
   },
   "outputs": [
    {
     "data": {
      "text/plain": [
       "[2015,\n",
       " 2015,\n",
       " 2015,\n",
       " 2015,\n",
       " 2015,\n",
       " 2015,\n",
       " 2015,\n",
       " 2015,\n",
       " 2015,\n",
       " 2015,\n",
       " 2015,\n",
       " 2015,\n",
       " 2015,\n",
       " 2015,\n",
       " 2015,\n",
       " 2015,\n",
       " 2015,\n",
       " 2015,\n",
       " 2015,\n",
       " 2015,\n",
       " 2015,\n",
       " 2015,\n",
       " 2015,\n",
       " 2015,\n",
       " 2015,\n",
       " 2015,\n",
       " 2015,\n",
       " 2015,\n",
       " 2015,\n",
       " 2015,\n",
       " 2015,\n",
       " 2015,\n",
       " 2015,\n",
       " 2015,\n",
       " 2015,\n",
       " 2015,\n",
       " 2015,\n",
       " 2015,\n",
       " 2015,\n",
       " 2015,\n",
       " 2015,\n",
       " 2015,\n",
       " 2015,\n",
       " 2015,\n",
       " 2015,\n",
       " 2015,\n",
       " 2015,\n",
       " 2015,\n",
       " 2015,\n",
       " 2015,\n",
       " 2015,\n",
       " 2015,\n",
       " 2015,\n",
       " 2015,\n",
       " 2015,\n",
       " 2015,\n",
       " 2015,\n",
       " 2015,\n",
       " 2015,\n",
       " 2015,\n",
       " 2015,\n",
       " 2015,\n",
       " 2015,\n",
       " 2015,\n",
       " 2015,\n",
       " 2015,\n",
       " 2015,\n",
       " 2015,\n",
       " 2015,\n",
       " 2015,\n",
       " 2015,\n",
       " 2015,\n",
       " 2015,\n",
       " 2015,\n",
       " 2015,\n",
       " 2015,\n",
       " 2015,\n",
       " 2015,\n",
       " 2015,\n",
       " 2015,\n",
       " 2015,\n",
       " 2015,\n",
       " 2015,\n",
       " 2015,\n",
       " 2015,\n",
       " 2015,\n",
       " 2015,\n",
       " 2015,\n",
       " 2015,\n",
       " 2015,\n",
       " 2015,\n",
       " 2015,\n",
       " 2015,\n",
       " 2015,\n",
       " 2015,\n",
       " 2015,\n",
       " 2015,\n",
       " 2015,\n",
       " 2015,\n",
       " 2015,\n",
       " 2015,\n",
       " 2015,\n",
       " 2015,\n",
       " 2015,\n",
       " 2015,\n",
       " 2015,\n",
       " 2015,\n",
       " 2015,\n",
       " 2015,\n",
       " 2015,\n",
       " 2015,\n",
       " 2015,\n",
       " 2015,\n",
       " 2015,\n",
       " 2015,\n",
       " 2015,\n",
       " 2015,\n",
       " 2015,\n",
       " 2015,\n",
       " 2015,\n",
       " 2015,\n",
       " 2015,\n",
       " 2015,\n",
       " 2015,\n",
       " 2015,\n",
       " 2015,\n",
       " 2015,\n",
       " 2015,\n",
       " 2015,\n",
       " 2015,\n",
       " 2015,\n",
       " 2015,\n",
       " 2015,\n",
       " 2015,\n",
       " 2015,\n",
       " 2015,\n",
       " 2015,\n",
       " 2015,\n",
       " 2015,\n",
       " 2015,\n",
       " 2015,\n",
       " 2015,\n",
       " 2015,\n",
       " 2015,\n",
       " 2015,\n",
       " 2015,\n",
       " 2015,\n",
       " 2015,\n",
       " 2015,\n",
       " 2015,\n",
       " 2015,\n",
       " 2015,\n",
       " 2015,\n",
       " 2015,\n",
       " 2015,\n",
       " 2015,\n",
       " 2015,\n",
       " 2015,\n",
       " 2015,\n",
       " 2015,\n",
       " 2015,\n",
       " 2015,\n",
       " 2015,\n",
       " 2015,\n",
       " 2015,\n",
       " 2015,\n",
       " 2015,\n",
       " 2015,\n",
       " 2015,\n",
       " 2015,\n",
       " 2015,\n",
       " 2015,\n",
       " 2015,\n",
       " 2015,\n",
       " 2015,\n",
       " 2015,\n",
       " 2015,\n",
       " 2015,\n",
       " 2015,\n",
       " 2015,\n",
       " 2015,\n",
       " 2015,\n",
       " 2015,\n",
       " 2015,\n",
       " 2015,\n",
       " 2015,\n",
       " 2015,\n",
       " 2015,\n",
       " 2015,\n",
       " 2015,\n",
       " 2015,\n",
       " 2015,\n",
       " 2015,\n",
       " 2015,\n",
       " 2015,\n",
       " 2015,\n",
       " 2015,\n",
       " 2015,\n",
       " 2015,\n",
       " 2015,\n",
       " 2015,\n",
       " 2015,\n",
       " 2015,\n",
       " 2015,\n",
       " 2015,\n",
       " 2015,\n",
       " 2015,\n",
       " 2015,\n",
       " 2015,\n",
       " 2015,\n",
       " 2015,\n",
       " 2015,\n",
       " 2015,\n",
       " 2015,\n",
       " 2015,\n",
       " 2015,\n",
       " 2015,\n",
       " 2015,\n",
       " 2015,\n",
       " 2015,\n",
       " 2015,\n",
       " 2015,\n",
       " 2015,\n",
       " 2015,\n",
       " 2015,\n",
       " 2015,\n",
       " 2015,\n",
       " 2015,\n",
       " 2015,\n",
       " 2015,\n",
       " 2015,\n",
       " 2015,\n",
       " 2015,\n",
       " 2015,\n",
       " 2015,\n",
       " 2015,\n",
       " 2015,\n",
       " 2015,\n",
       " 2015,\n",
       " 2015,\n",
       " 2015,\n",
       " 2015,\n",
       " 2015,\n",
       " 2015,\n",
       " 2015,\n",
       " 2015,\n",
       " 2015,\n",
       " 2015,\n",
       " 2015,\n",
       " 2015,\n",
       " 2015,\n",
       " 2015,\n",
       " 2015,\n",
       " 2015,\n",
       " 2015,\n",
       " 2015,\n",
       " 2015,\n",
       " 2015,\n",
       " 2015,\n",
       " 2015,\n",
       " 2015,\n",
       " 2015,\n",
       " 2015,\n",
       " 2015,\n",
       " 2015,\n",
       " 2015,\n",
       " 2015,\n",
       " 2015,\n",
       " 2015,\n",
       " 2015,\n",
       " 2015,\n",
       " 2015,\n",
       " 2015,\n",
       " 2015,\n",
       " 2015,\n",
       " 2015,\n",
       " 2015,\n",
       " 2015,\n",
       " 2015,\n",
       " 2015,\n",
       " 2015,\n",
       " 2015,\n",
       " 2015,\n",
       " 2015,\n",
       " 2015,\n",
       " 2015,\n",
       " 2015,\n",
       " 2015,\n",
       " 2015,\n",
       " 2015,\n",
       " 2015,\n",
       " 2015,\n",
       " 2015,\n",
       " 2015,\n",
       " 2015,\n",
       " 2015,\n",
       " 2015,\n",
       " 2015,\n",
       " 2015,\n",
       " 2015,\n",
       " 2015,\n",
       " 2015,\n",
       " 2015,\n",
       " 2015,\n",
       " 2015,\n",
       " 2015,\n",
       " 2015,\n",
       " 2015,\n",
       " 2015,\n",
       " 2015,\n",
       " 2015,\n",
       " 2015,\n",
       " 2015,\n",
       " 2015,\n",
       " 2015,\n",
       " 2015,\n",
       " 2015,\n",
       " 2015,\n",
       " 2015,\n",
       " 2015,\n",
       " 2015,\n",
       " 2015,\n",
       " 2015,\n",
       " 2015,\n",
       " 2015,\n",
       " 2015,\n",
       " 2015,\n",
       " 2015,\n",
       " 2015,\n",
       " 2015,\n",
       " 2015,\n",
       " 2015,\n",
       " 2015,\n",
       " 2015,\n",
       " 2015,\n",
       " 2015,\n",
       " 2015,\n",
       " 2015,\n",
       " 2015,\n",
       " 2015,\n",
       " 2015,\n",
       " 2015,\n",
       " 2015,\n",
       " 2015,\n",
       " 2015,\n",
       " 2015,\n",
       " 2015,\n",
       " 2015,\n",
       " 2015,\n",
       " 2015,\n",
       " 2015,\n",
       " 2015,\n",
       " 2015,\n",
       " 2015,\n",
       " 2015,\n",
       " 2015,\n",
       " 2015,\n",
       " 2015,\n",
       " 2015,\n",
       " 2015,\n",
       " 2015,\n",
       " 2015,\n",
       " 2015,\n",
       " 2015,\n",
       " 2015,\n",
       " 2015,\n",
       " 2015,\n",
       " 2015,\n",
       " 2015,\n",
       " 2015,\n",
       " 2015,\n",
       " 2015,\n",
       " 2015,\n",
       " 2015,\n",
       " 2015,\n",
       " 2015,\n",
       " 2015,\n",
       " 2015,\n",
       " 2015,\n",
       " 2015,\n",
       " 2015,\n",
       " 2015,\n",
       " 2015,\n",
       " 2015,\n",
       " 2015,\n",
       " 2015,\n",
       " 2015,\n",
       " 2015,\n",
       " 2015,\n",
       " 2015,\n",
       " 2015,\n",
       " 2015,\n",
       " 2015,\n",
       " 2015,\n",
       " 2015,\n",
       " 2015,\n",
       " 2015,\n",
       " 2015,\n",
       " 2015,\n",
       " 2015,\n",
       " 2015,\n",
       " 2015,\n",
       " 2015,\n",
       " 2015,\n",
       " 2015,\n",
       " 2015,\n",
       " 2015,\n",
       " 2015,\n",
       " 2015,\n",
       " 2015,\n",
       " 2015,\n",
       " 2015,\n",
       " 2015,\n",
       " 2015,\n",
       " 2015,\n",
       " 2015,\n",
       " 2015,\n",
       " 2015,\n",
       " 2015,\n",
       " 2015,\n",
       " 2015,\n",
       " 2015,\n",
       " 2015,\n",
       " 2015,\n",
       " 2015,\n",
       " 2015,\n",
       " 2015,\n",
       " 2015,\n",
       " 2015,\n",
       " 2015,\n",
       " 2015,\n",
       " 2015,\n",
       " 2015,\n",
       " 2015,\n",
       " 2015,\n",
       " 2015,\n",
       " 2015,\n",
       " 2015,\n",
       " 2015,\n",
       " 2015,\n",
       " 2015,\n",
       " 2015,\n",
       " 2015,\n",
       " 2015,\n",
       " 2015,\n",
       " 2015,\n",
       " 2015,\n",
       " 2015,\n",
       " 2015,\n",
       " 2015,\n",
       " 2015,\n",
       " 2015,\n",
       " 2015,\n",
       " 2015,\n",
       " 2015,\n",
       " 2015,\n",
       " 2015,\n",
       " 2015,\n",
       " 2015,\n",
       " 2015,\n",
       " 2015,\n",
       " 2015,\n",
       " 2015,\n",
       " 2015,\n",
       " 2015,\n",
       " 2015,\n",
       " 2015,\n",
       " 2015,\n",
       " 2015,\n",
       " 2015,\n",
       " 2015,\n",
       " 2015,\n",
       " 2015,\n",
       " 2015,\n",
       " 2015,\n",
       " 2015,\n",
       " 2015,\n",
       " 2015,\n",
       " 2015,\n",
       " 2015,\n",
       " 2015,\n",
       " 2015,\n",
       " 2015,\n",
       " 2015,\n",
       " 2015,\n",
       " 2015,\n",
       " 2015,\n",
       " 2015,\n",
       " 2015,\n",
       " 2015,\n",
       " 2015,\n",
       " 2015,\n",
       " 2015,\n",
       " 2015,\n",
       " 2015,\n",
       " 2015,\n",
       " 2015,\n",
       " 2015,\n",
       " 2015,\n",
       " 2015,\n",
       " 2015,\n",
       " 2015,\n",
       " 2015,\n",
       " 2015,\n",
       " 2015,\n",
       " 2015,\n",
       " 2015,\n",
       " 2015,\n",
       " 2015,\n",
       " 2015,\n",
       " 2015,\n",
       " 2015,\n",
       " 2015,\n",
       " 2015,\n",
       " 2015,\n",
       " 2015,\n",
       " 2015,\n",
       " 2015,\n",
       " 2015,\n",
       " 2015,\n",
       " 2015,\n",
       " 2015,\n",
       " 2015,\n",
       " 2015,\n",
       " 2015,\n",
       " 2015,\n",
       " 2015,\n",
       " 2015,\n",
       " 2015,\n",
       " 2015,\n",
       " 2015,\n",
       " 2015,\n",
       " 2015,\n",
       " 2015,\n",
       " 2015,\n",
       " 2015,\n",
       " 2015,\n",
       " 2015,\n",
       " 2015,\n",
       " 2015,\n",
       " 2015,\n",
       " 2015,\n",
       " 2015,\n",
       " 2015,\n",
       " 2015,\n",
       " 2015,\n",
       " 2015,\n",
       " 2015,\n",
       " 2015,\n",
       " 2015,\n",
       " 2015,\n",
       " 2015,\n",
       " 2015,\n",
       " 2015,\n",
       " 2015,\n",
       " 2015,\n",
       " 2015,\n",
       " 2015,\n",
       " 2015,\n",
       " 2015,\n",
       " 2015,\n",
       " 2015,\n",
       " 2015,\n",
       " 2015,\n",
       " 2015,\n",
       " 2015,\n",
       " 2015,\n",
       " 2015,\n",
       " 2015,\n",
       " 2015,\n",
       " 2015,\n",
       " 2015,\n",
       " 2015,\n",
       " 2015,\n",
       " 2015,\n",
       " 2015,\n",
       " 2015,\n",
       " 2015,\n",
       " 2015,\n",
       " 2015,\n",
       " 2015,\n",
       " 2015,\n",
       " 2015,\n",
       " 2015,\n",
       " 2015,\n",
       " 2015,\n",
       " 2015,\n",
       " 2015,\n",
       " 2015,\n",
       " 2015,\n",
       " 2015,\n",
       " 2015,\n",
       " 2015,\n",
       " 2015,\n",
       " 2015,\n",
       " 2015,\n",
       " 2015,\n",
       " 2015,\n",
       " 2015,\n",
       " 2015,\n",
       " 2015,\n",
       " 2015,\n",
       " 2015,\n",
       " 2015,\n",
       " 2015,\n",
       " 2015,\n",
       " 2015,\n",
       " 2015,\n",
       " 2015,\n",
       " 2015,\n",
       " 2015,\n",
       " 2015,\n",
       " 2015,\n",
       " 2015,\n",
       " 2015,\n",
       " 2015,\n",
       " 2015,\n",
       " 2015,\n",
       " 2015,\n",
       " 2015,\n",
       " 2015,\n",
       " 2015,\n",
       " 2015,\n",
       " 2015,\n",
       " 2015,\n",
       " 2015,\n",
       " 2015,\n",
       " 2015,\n",
       " 2015,\n",
       " 2015,\n",
       " 2015,\n",
       " 2015,\n",
       " 2015,\n",
       " 2015,\n",
       " 2015,\n",
       " 2015,\n",
       " 2015,\n",
       " 2015,\n",
       " 2015,\n",
       " 2015,\n",
       " 2015,\n",
       " 2015,\n",
       " 2015,\n",
       " 2015,\n",
       " 2015,\n",
       " 2015,\n",
       " 2015,\n",
       " 2015,\n",
       " 2015,\n",
       " 2015,\n",
       " 2015,\n",
       " 2015,\n",
       " 2015,\n",
       " 2015,\n",
       " 2015,\n",
       " 2015,\n",
       " 2015,\n",
       " 2015,\n",
       " 2015,\n",
       " 2015,\n",
       " 2015,\n",
       " 2015,\n",
       " 2015,\n",
       " 2015,\n",
       " 2015,\n",
       " 2015,\n",
       " 2015,\n",
       " 2015,\n",
       " 2015,\n",
       " 2015,\n",
       " 2015,\n",
       " 2015,\n",
       " 2015,\n",
       " 2015,\n",
       " 2015,\n",
       " 2015,\n",
       " 2015,\n",
       " 2015,\n",
       " 2015,\n",
       " 2015,\n",
       " 2015,\n",
       " 2015,\n",
       " 2015,\n",
       " 2015,\n",
       " 2015,\n",
       " 2015,\n",
       " 2015,\n",
       " 2015,\n",
       " 2015,\n",
       " 2015,\n",
       " 2015,\n",
       " 2015,\n",
       " 2015,\n",
       " 2015,\n",
       " 2015,\n",
       " 2015,\n",
       " 2015,\n",
       " 2015,\n",
       " 2015,\n",
       " 2015,\n",
       " 2015,\n",
       " 2015,\n",
       " 2015,\n",
       " 2015,\n",
       " 2015,\n",
       " 2015,\n",
       " 2015,\n",
       " 2015,\n",
       " 2015,\n",
       " 2015,\n",
       " 2015,\n",
       " 2015,\n",
       " 2015,\n",
       " 2015,\n",
       " 2015,\n",
       " 2015,\n",
       " 2015,\n",
       " 2015,\n",
       " 2015,\n",
       " 2015,\n",
       " 2015,\n",
       " 2015,\n",
       " 2015,\n",
       " 2015,\n",
       " 2015,\n",
       " 2015,\n",
       " 2015,\n",
       " 2015,\n",
       " 2015,\n",
       " 2015,\n",
       " 2015,\n",
       " 2015,\n",
       " 2015,\n",
       " 2015,\n",
       " 2015,\n",
       " 2015,\n",
       " 2015,\n",
       " 2015,\n",
       " 2015,\n",
       " 2015,\n",
       " 2015,\n",
       " 2015,\n",
       " 2015,\n",
       " 2015,\n",
       " 2015,\n",
       " 2015,\n",
       " 2015,\n",
       " 2015,\n",
       " 2015,\n",
       " 2015,\n",
       " 2015,\n",
       " 2015,\n",
       " 2015,\n",
       " 2015,\n",
       " 2015,\n",
       " 2015,\n",
       " 2015,\n",
       " 2015,\n",
       " 2015,\n",
       " 2015,\n",
       " 2015,\n",
       " 2015,\n",
       " 2015,\n",
       " 2015,\n",
       " 2015,\n",
       " 2015,\n",
       " 2015,\n",
       " 2015,\n",
       " 2015,\n",
       " 2015,\n",
       " 2015,\n",
       " 2015,\n",
       " 2015,\n",
       " 2015,\n",
       " 2015,\n",
       " 2015,\n",
       " 2015,\n",
       " 2015,\n",
       " 2015,\n",
       " 2015,\n",
       " 2015,\n",
       " 2015,\n",
       " 2015,\n",
       " 2015,\n",
       " 2015,\n",
       " 2015,\n",
       " 2015,\n",
       " 2015,\n",
       " 2015,\n",
       " 2015,\n",
       " 2015,\n",
       " 2015,\n",
       " 2015,\n",
       " 2015,\n",
       " 2015,\n",
       " 2015,\n",
       " 2015,\n",
       " 2015,\n",
       " 2015,\n",
       " 2015,\n",
       " 2015,\n",
       " 2015,\n",
       " 2015,\n",
       " 2015,\n",
       " 2015,\n",
       " 2015,\n",
       " 2015,\n",
       " 2015,\n",
       " 2015,\n",
       " 2015,\n",
       " 2015,\n",
       " 2015,\n",
       " 2015,\n",
       " 2015,\n",
       " 2015,\n",
       " 2015,\n",
       " 2015,\n",
       " 2015,\n",
       " 2015,\n",
       " 2015,\n",
       " 2015,\n",
       " 2015,\n",
       " 2015,\n",
       " 2015,\n",
       " 2015,\n",
       " 2015,\n",
       " 2015,\n",
       " 2015,\n",
       " 2015,\n",
       " 2015,\n",
       " 2015,\n",
       " 2015,\n",
       " 2015,\n",
       " 2015,\n",
       " 2015,\n",
       " 2015,\n",
       " 2015,\n",
       " 2015,\n",
       " 2015,\n",
       " 2015,\n",
       " 2015,\n",
       " 2015,\n",
       " 2015,\n",
       " 2015,\n",
       " 2015,\n",
       " 2015,\n",
       " 2015,\n",
       " 2015,\n",
       " 2015,\n",
       " 2015,\n",
       " 2015,\n",
       " 2015,\n",
       " 2015,\n",
       " 2015,\n",
       " 2015,\n",
       " 2015,\n",
       " 2015,\n",
       " 2015,\n",
       " 2015,\n",
       " 2015,\n",
       " 2015,\n",
       " 2015,\n",
       " 2015,\n",
       " 2015,\n",
       " 2015,\n",
       " 2015,\n",
       " 2015,\n",
       " 2015,\n",
       " 2015,\n",
       " 2015,\n",
       " 2015,\n",
       " 2015,\n",
       " 2015,\n",
       " 2015,\n",
       " 2015,\n",
       " 2015,\n",
       " 2015,\n",
       " 2015,\n",
       " 2015,\n",
       " 2015,\n",
       " 2015,\n",
       " 2015,\n",
       " 2015,\n",
       " 2015,\n",
       " 2015,\n",
       " 2015,\n",
       " 2015,\n",
       " 2015,\n",
       " 2015,\n",
       " 2015,\n",
       " 2015,\n",
       " 2015,\n",
       " 2015,\n",
       " 2015,\n",
       " 2015,\n",
       " 2015,\n",
       " 2015,\n",
       " 2015,\n",
       " 2015,\n",
       " 2015,\n",
       " 2015,\n",
       " 2015,\n",
       " 2015,\n",
       " 2015,\n",
       " 2015,\n",
       " 2015,\n",
       " 2015,\n",
       " 2015,\n",
       " 2015,\n",
       " 2015,\n",
       " 2015,\n",
       " 2015,\n",
       " 2015,\n",
       " 2015,\n",
       " 2015,\n",
       " 2015,\n",
       " 2015,\n",
       " 2015,\n",
       " 2015,\n",
       " 2015,\n",
       " 2015,\n",
       " 2015,\n",
       " 2015,\n",
       " 2015,\n",
       " 2015,\n",
       " 2015,\n",
       " 2015,\n",
       " 2015,\n",
       " 2015,\n",
       " 2015,\n",
       " 2015,\n",
       " 2015,\n",
       " 2015,\n",
       " 2015,\n",
       " 2015,\n",
       " 2015,\n",
       " 2015,\n",
       " 2015,\n",
       " 2015,\n",
       " 2015,\n",
       " 2015,\n",
       " 2015,\n",
       " 2015,\n",
       " 2015,\n",
       " 2015,\n",
       " 2015,\n",
       " 2015,\n",
       " 2015,\n",
       " 2015,\n",
       " 2015,\n",
       " 2015,\n",
       " 2015,\n",
       " 2015,\n",
       " 2015,\n",
       " 2015,\n",
       " 2015,\n",
       " 2015,\n",
       " 2015,\n",
       " 2015,\n",
       " 2015,\n",
       " 2015,\n",
       " 2015,\n",
       " 2015,\n",
       " 2015,\n",
       " 2015,\n",
       " 2015,\n",
       " 2015,\n",
       " 2015,\n",
       " 2015,\n",
       " 2015,\n",
       " 2015,\n",
       " 2015,\n",
       " 2015,\n",
       " 2015,\n",
       " 2015,\n",
       " 2015,\n",
       " 2015,\n",
       " 2015,\n",
       " 2015,\n",
       " 2015,\n",
       " 2015,\n",
       " 2015,\n",
       " 2015,\n",
       " 2015,\n",
       " 2015,\n",
       " 2015,\n",
       " 2015,\n",
       " 2015,\n",
       " 2015,\n",
       " 2015,\n",
       " 2015,\n",
       " 2015,\n",
       " 2015,\n",
       " 2015,\n",
       " 2015,\n",
       " 2015,\n",
       " 2015,\n",
       " 2015,\n",
       " 2015,\n",
       " 2015,\n",
       " ...]"
      ]
     },
     "execution_count": 30,
     "metadata": {},
     "output_type": "execute_result"
    }
   ],
   "source": [
    "map(lambda x: x.year, df.Date)"
=======
   "execution_count": null,
   "metadata": {
    "collapsed": false
   },
   "outputs": [],
   "source": [
    "df.Date"
>>>>>>> upstream/master
   ]
  },
  {
   "cell_type": "code",
<<<<<<< HEAD
   "execution_count": 31,
=======
   "execution_count": null,
>>>>>>> upstream/master
   "metadata": {
    "collapsed": false
   },
   "outputs": [],
   "source": [
    "df.set_index('Date', inplace = True)\n",
    "\n",
    "df['Year'] = df.index.year\n",
    "df['Month'] = df.index.month\n",
    "\n",
    "df.Sales = df.Sales.astype(float)"
   ]
  },
  {
   "cell_type": "markdown",
   "metadata": {},
   "source": [
    "Let's focus on the first store."
   ]
  },
  {
   "cell_type": "code",
<<<<<<< HEAD
   "execution_count": 32,
=======
   "execution_count": null,
>>>>>>> upstream/master
   "metadata": {
    "collapsed": true
   },
   "outputs": [],
   "source": [
    "df = df[df.Store == 1]"
   ]
  },
  {
   "cell_type": "markdown",
   "metadata": {},
   "source": [
    "To compare sales on holidays, we can compare the sales using boxplots, which allows us to compare the distribution of sales on holidays against all other days.  On state holidays, the store is closed (and as a nice sanity check there are no sales), and on school holidays the sales are relatively similar."
   ]
  },
  {
   "cell_type": "code",
<<<<<<< HEAD
   "execution_count": 33,
   "metadata": {
    "collapsed": false
   },
   "outputs": [
    {
     "data": {
      "text/plain": [
       "<seaborn.axisgrid.FacetGrid at 0x290c390>"
      ]
     },
     "execution_count": 33,
     "metadata": {},
     "output_type": "execute_result"
    },
    {
     "data": {
      "image/png": "iVBORw0KGgoAAAANSUhEUgAAAX8AAAGCCAYAAAAISMOgAAAABHNCSVQICAgIfAhkiAAAAAlwSFlz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\n",
      "text/plain": [
       "<matplotlib.figure.Figure at 0xc35c710>"
      ]
     },
     "metadata": {},
     "output_type": "display_data"
    }
   ],
=======
   "execution_count": null,
   "metadata": {
    "collapsed": false
   },
   "outputs": [],
>>>>>>> upstream/master
   "source": [
    "sb.factorplot(x = 'StateHoliday',\n",
    "              y = 'Sales',\n",
    "              data = df,\n",
    "              kind = 'box')"
   ]
  },
  {
   "cell_type": "code",
<<<<<<< HEAD
   "execution_count": 34,
   "metadata": {
    "collapsed": false
   },
   "outputs": [
    {
     "data": {
      "text/plain": [
       "<seaborn.axisgrid.FacetGrid at 0xc3c5550>"
      ]
     },
     "execution_count": 34,
     "metadata": {},
     "output_type": "execute_result"
    },
    {
     "data": {
      "image/png": "iVBORw0KGgoAAAANSUhEUgAAAX8AAAGCCAYAAAAISMOgAAAABHNCSVQICAgIfAhkiAAAAAlwSFlz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\n",
      "text/plain": [
       "<matplotlib.figure.Figure at 0xc35b780>"
      ]
     },
     "metadata": {},
     "output_type": "display_data"
    }
   ],
=======
   "execution_count": null,
   "metadata": {
    "collapsed": false
   },
   "outputs": [],
>>>>>>> upstream/master
   "source": [
    "sb.factorplot(x = 'SchoolHoliday',\n",
    "              y = 'Sales',\n",
    "              data = df,\n",
<<<<<<< HEAD
    "              kind = 'box')\n",
    "#IQRs overlap so no stat sig diff"
=======
    "              kind = 'box')"
>>>>>>> upstream/master
   ]
  },
  {
   "cell_type": "markdown",
   "metadata": {},
   "source": [
    "> Check: See if there is a difference affecting sales on promotion days."
   ]
  },
  {
   "cell_type": "code",
<<<<<<< HEAD
   "execution_count": 35,
   "metadata": {
    "collapsed": false
   },
   "outputs": [
    {
     "data": {
      "text/plain": [
       "<seaborn.axisgrid.FacetGrid at 0x1da93320>"
      ]
     },
     "execution_count": 35,
     "metadata": {},
     "output_type": "execute_result"
    },
    {
     "data": {
      "image/png": "iVBORw0KGgoAAAANSUhEUgAAAw8AAAGBCAYAAAAg+Y1XAAAABHNCSVQICAgIfAhkiAAAAAlwSFlz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\nRK5CYII=\n",
      "text/plain": [
       "<matplotlib.figure.Figure at 0xc35bdd8>"
      ]
     },
     "metadata": {},
     "output_type": "display_data"
    }
   ],
=======
   "execution_count": null,
   "metadata": {
    "collapsed": false
   },
   "outputs": [],
>>>>>>> upstream/master
   "source": [
    "sb.factorplot(col = 'Open',\n",
    "              x = 'Promo',\n",
    "              y = 'Sales',\n",
    "              data = df,\n",
    "              kind = 'box')"
   ]
  },
  {
   "cell_type": "markdown",
   "metadata": {},
   "source": [
    "## Part B - Seasonality, Trends, and Cycles"
   ]
  },
  {
   "cell_type": "code",
<<<<<<< HEAD
   "execution_count": 36,
   "metadata": {
    "collapsed": false
   },
   "outputs": [
    {
     "data": {
      "text/plain": [
       "<matplotlib.axes._subplots.AxesSubplot at 0x1df09f60>"
      ]
     },
     "execution_count": 36,
     "metadata": {},
     "output_type": "execute_result"
    },
    {
     "data": {
      "image/png": "iVBORw0KGgoAAAANSUhEUgAAArAAAAHkCAYAAADGsxzKAAAABHNCSVQICAgIfAhkiAAAAAlwSFlz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\nqyIFrBBCCCGEsCr/Bs0+HWm2ffdLAAAAAElFTkSuQmCC\n",
      "text/plain": [
       "<matplotlib.figure.Figure at 0x1dead828>"
      ]
     },
     "metadata": {},
     "output_type": "display_data"
    }
   ],
   "source": [
    "df[df.Open == 1].Sales.plot()\n",
    "#we remove instances with no sales to simplify the output\n",
    "#that's why we don't run df.Sales.plot()"
=======
   "execution_count": null,
   "metadata": {
    "collapsed": false
   },
   "outputs": [],
   "source": [
    "df[df.Open == 1].Sales.plot()"
>>>>>>> upstream/master
   ]
  },
  {
   "cell_type": "code",
<<<<<<< HEAD
   "execution_count": 37,
   "metadata": {
    "collapsed": false
   },
   "outputs": [
    {
     "data": {
      "text/plain": [
       "<matplotlib.axes._subplots.AxesSubplot at 0x1df8d7b8>"
      ]
     },
     "execution_count": 37,
     "metadata": {},
     "output_type": "execute_result"
    },
    {
     "data": {
      "image/png": "iVBORw0KGgoAAAANSUhEUgAAAqgAAAHlCAYAAAA5lg5zAAAABHNCSVQICAgIfAhkiAAAAAlwSFlz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\n",
      "text/plain": [
       "<matplotlib.figure.Figure at 0x24f469b0>"
      ]
     },
     "metadata": {},
     "output_type": "display_data"
    }
   ],
=======
   "execution_count": null,
   "metadata": {
    "collapsed": false
   },
   "outputs": [],
>>>>>>> upstream/master
   "source": [
    "df[(df.Open == 1) & (df.Year == 2013)].Customers.plot()"
   ]
  },
  {
   "cell_type": "code",
<<<<<<< HEAD
   "execution_count": 38,
   "metadata": {
    "collapsed": false
   },
   "outputs": [
    {
     "data": {
      "text/plain": [
       "<matplotlib.axes._subplots.AxesSubplot at 0x25304048>"
      ]
     },
     "execution_count": 38,
     "metadata": {},
     "output_type": "execute_result"
    },
    {
     "data": {
      "image/png": "iVBORw0KGgoAAAANSUhEUgAAAqAAAAHtCAYAAADGEszqAAAABHNCSVQICAgIfAhkiAAAAAlwSFlz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\nSUVORK5CYII=\n",
      "text/plain": [
       "<matplotlib.figure.Figure at 0x2530c780>"
      ]
     },
     "metadata": {},
     "output_type": "display_data"
    }
   ],
   "source": [
    "df[(df.Open == 1) & (df.Year == 2013) & (df.Month == 6)].Customers.plot()\n",
    "#2 week cycles. could be due to payday or promotions"
=======
   "execution_count": null,
   "metadata": {
    "collapsed": false
   },
   "outputs": [],
   "source": [
    "df[(df.Open == 1) & (df.Year == 2013) & (df.Month == 6)].Customers.plot()"
>>>>>>> upstream/master
   ]
  },
  {
   "cell_type": "markdown",
   "metadata": {},
   "source": [
    "## Part C - Rolling Averages; `pandas` Window and Expending Functions"
   ]
  },
  {
   "cell_type": "markdown",
   "metadata": {},
   "source": [
    "### Rolling averages"
   ]
  },
  {
   "cell_type": "markdown",
   "metadata": {},
   "source": [
    "If we want to investigate trends over time in sales, as always, we will start by computing simple aggregates.  What were the mean and median sales for each month and year?\n",
    "\n",
    "In `pandas`, this is performed using the `resample` command, which is very similar to the `groupby` command.  It allows us to group over different time intervals.\n",
    "\n",
    "We can use `Series.resample` and provide as arguments:\n",
    "- The level on which to roll-up to, 'D' for day, 'W' for week, 'M' for month, 'A' for year\n",
    "- What aggregation to perform: '.mean()', '.median()', '.sum()', etc."
   ]
  },
  {
   "cell_type": "code",
<<<<<<< HEAD
   "execution_count": 39,
   "metadata": {
    "collapsed": false
   },
   "outputs": [
    {
     "data": {
      "text/plain": [
       "Date\n",
       "2013-01-31    4142.935484\n",
       "2013-02-28    4473.964286\n",
       "2013-03-31    4682.870968\n",
       "2013-04-30    3933.633333\n",
       "2013-05-31    3813.709677\n",
       "                 ...     \n",
       "2015-03-31    3836.032258\n",
       "2015-04-30    3688.500000\n",
       "2015-05-31    3394.193548\n",
       "2015-06-30    3667.033333\n",
       "2015-07-31    3911.806452\n",
       "Freq: M, Name: Sales, dtype: float64"
      ]
     },
     "execution_count": 39,
     "metadata": {},
     "output_type": "execute_result"
    }
   ],
   "source": [
    "df.Sales.resample(rule = 'M').mean()\n",
    "#for month of jan'13, mean sales is 4142"
=======
   "execution_count": null,
   "metadata": {
    "collapsed": false
   },
   "outputs": [],
   "source": [
    "df.Sales.resample(rule = 'M').mean()"
>>>>>>> upstream/master
   ]
  },
  {
   "cell_type": "code",
<<<<<<< HEAD
   "execution_count": 40,
   "metadata": {
    "collapsed": false
   },
   "outputs": [
    {
     "data": {
      "text/plain": [
       "Date\n",
       "2013-01-31    4717.0\n",
       "2013-02-28    5118.5\n",
       "2013-03-31    5506.0\n",
       "2013-04-30    4378.0\n",
       "2013-05-31    4624.0\n",
       "               ...  \n",
       "2015-03-31    4005.0\n",
       "2015-04-30    4139.5\n",
       "2015-05-31    4211.0\n",
       "2015-06-30    4045.0\n",
       "2015-07-31    4395.0\n",
       "Freq: M, Name: Sales, dtype: float64"
      ]
     },
     "execution_count": 40,
     "metadata": {},
     "output_type": "execute_result"
    }
   ],
=======
   "execution_count": null,
   "metadata": {
    "collapsed": false
   },
   "outputs": [],
>>>>>>> upstream/master
   "source": [
    "df.Sales.resample(rule = 'M').median()"
   ]
  },
  {
   "cell_type": "markdown",
   "metadata": {},
   "source": [
    "While identifying the monthly averages is useful, we often want to compare the sales data of a date to a smaller window.  To understand holidays sales, we don't want to compare late December with the entire month, but perhaps with a few days surrounding it.  We can do this using rolling averages.\n",
    "\n",
    "In `pandas`, we can compute rolling averages using the `Series.rolling` function."
   ]
  },
  {
   "cell_type": "code",
   "execution_count": null,
   "metadata": {
    "collapsed": false
   },
   "outputs": [],
   "source": [
<<<<<<< HEAD
    "#if you use rolling fucntion, you need to resample. don't forget to take mean twice\n",
    "df.Sales.resample(rule = 'D').mean().\\\n",
    "    rolling(window = 3, center = True).mean()\n",
    "    #window = 3 means it consieders prev day, that day, and day after"
=======
    "df.Sales.resample(rule = 'D').mean().\\\n",
    "    rolling(window = 3, center = True).mean()"
>>>>>>> upstream/master
   ]
  },
  {
   "cell_type": "markdown",
   "metadata": {},
   "source": [
    "`rolling` takes these important parameters:\n",
    "- `window` is the number of days to include in the average\n",
    "- `center` is whether the window should be centered on the date or use data prior to that date"
   ]
  },
  {
   "cell_type": "markdown",
   "metadata": {},
   "source": [
    "Instead of plotting the full timeseries, we can plot the rolling mean instead, which smooths random changes in sales as well as removing outliers, helping us identify larger trends."
   ]
  },
  {
   "cell_type": "code",
<<<<<<< HEAD
   "execution_count": 45,
   "metadata": {
    "collapsed": false
   },
   "outputs": [
    {
     "data": {
      "text/plain": [
       "<matplotlib.axes._subplots.AxesSubplot at 0x25db3ef0>"
      ]
     },
     "execution_count": 45,
     "metadata": {},
     "output_type": "execute_result"
    },
    {
     "data": {
      "image/png": "iVBORw0KGgoAAAANSUhEUgAAAqgAAAICCAYAAAADPz/UAAAABHNCSVQICAgIfAhkiAAAAAlwSFlz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\nN8MqAAAAAElFTkSuQmCC\n",
      "text/plain": [
       "<matplotlib.figure.Figure at 0x25acd630>"
      ]
     },
     "metadata": {},
     "output_type": "display_data"
    }
   ],
   "source": [
    "df.Sales.resample(rule = 'D').mean().\\\n",
    "    rolling(window = 100, center = True).mean().\\\n",
=======
   "execution_count": null,
   "metadata": {
    "collapsed": false
   },
   "outputs": [],
   "source": [
    "df.Sales.resample(rule = 'D').mean().\\\n",
    "    rolling(window = 10, center = True).mean().\\\n",
>>>>>>> upstream/master
    "    plot()"
   ]
  },
  {
   "cell_type": "markdown",
   "metadata": {},
   "source": [
    "### `pandas` window functions"
   ]
  },
  {
   "cell_type": "markdown",
   "metadata": {},
   "source": [
    "`pandas`' `rolling` is only one example of `pandas`' window function capabilities.  Window functions operate on a set of `N` consecutive rows (a window) and produce an output.\n",
    "\n",
    "Another common one is `diff`, which takes the difference over time.  `Series.diff` takes one argument, `periods`, which is how many rows prior to use for the difference."
   ]
  },
  {
   "cell_type": "code",
   "execution_count": null,
   "metadata": {
    "collapsed": false
   },
   "outputs": [],
   "source": [
    "df.Sales.diff(periods = 1)"
   ]
  },
  {
   "cell_type": "markdown",
   "metadata": {},
   "source": [
    "### `pandas` expanding functions\n",
    "\n",
    "In addition to the `rolling` function, `pandas` also provides a similar `expanding` function, which, instead of using a window of `N` values, use all values up until that time."
   ]
  },
  {
   "cell_type": "code",
   "execution_count": null,
   "metadata": {
    "collapsed": false
   },
   "outputs": [],
   "source": [
    "# computes the average sales, from the first date _until_ the date specified.\n",
    "\n",
    "df.Sales.resample(rule = 'd').mean().\\\n",
    "    expanding().mean()"
   ]
  },
  {
   "cell_type": "markdown",
   "metadata": {},
   "source": [
    "## Part D - Autocorrelation"
   ]
  },
  {
   "cell_type": "markdown",
   "metadata": {},
   "source": [
    "To measure how much the sales are correlated with each other, we want to compute the _autocorrelation_ of the 'Sales' column.  In `pandas`, we do this we with the `autocorr` function:\n",
    "\n",
    "`autocorr` takes one argument, the `lag` which is how many prio data points should be used to compute the correlation.  If we set the `lag` to 1, we compute the correlation between every point and the point directly preceding it.  Setting `lag` to 10 computes the correlation between every point and the point 10 days earlier."
   ]
  },
  {
   "cell_type": "code",
<<<<<<< HEAD
   "execution_count": 46,
   "metadata": {
    "collapsed": false
   },
   "outputs": [
    {
     "data": {
      "text/plain": [
       "-0.12732514339140219"
      ]
     },
     "execution_count": 46,
     "metadata": {},
     "output_type": "execute_result"
    }
   ],
   "source": [
    "df.Sales.autocorr(lag = 1)\n",
    "#what you sell on monday is not very predictive on what you sell on tues"
=======
   "execution_count": null,
   "metadata": {
    "collapsed": false
   },
   "outputs": [],
   "source": [
    "df.Sales.autocorr(lag = 1)"
>>>>>>> upstream/master
   ]
  },
  {
   "cell_type": "code",
<<<<<<< HEAD
   "execution_count": 47,
   "metadata": {
    "collapsed": false
   },
   "outputs": [
    {
     "data": {
      "text/plain": [
       "0.63071924328402895"
      ]
     },
     "execution_count": 47,
     "metadata": {},
     "output_type": "execute_result"
    }
   ],
   "source": [
    "df.Sales.autocorr(lag = 7)\n",
    "#mon vs mon next week is way better predictor"
=======
   "execution_count": null,
   "metadata": {
    "collapsed": false
   },
   "outputs": [],
   "source": [
    "df.Sales.autocorr(lag = 7)"
>>>>>>> upstream/master
   ]
  },
  {
   "cell_type": "markdown",
   "metadata": {},
   "source": [
    "We can plot many autocorrelations at once."
   ]
  },
  {
   "cell_type": "code",
<<<<<<< HEAD
   "execution_count": 48,
   "metadata": {
    "collapsed": false
   },
   "outputs": [
    {
     "data": {
      "text/plain": [
       "<matplotlib.axes._subplots.AxesSubplot at 0x25f1e6a0>"
      ]
     },
     "execution_count": 48,
     "metadata": {},
     "output_type": "execute_result"
    },
    {
     "data": {
      "image/png": "iVBORw0KGgoAAAANSUhEUgAAAroAAAHxCAYAAACCih8rAAAABHNCSVQICAgIfAhkiAAAAAlwSFlz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\n",
      "text/plain": [
       "<matplotlib.figure.Figure at 0x263dd518>"
      ]
     },
     "metadata": {},
     "output_type": "display_data"
    }
   ],
   "source": [
    "pd.tools.plotting.autocorrelation_plot(df[df.Open == 1].Sales)\n",
    "#this cycles between all lags and visualizes fit"
=======
   "execution_count": null,
   "metadata": {
    "collapsed": false
   },
   "outputs": [],
   "source": [
    "pd.tools.plotting.autocorrelation_plot(df[df.Open == 1].Sales)"
>>>>>>> upstream/master
   ]
  },
  {
   "cell_type": "markdown",
   "metadata": {},
   "source": [
    "This shows a typical pattern of an autocorrelation plot: that it should decrease to 0 as lag increases.  However, it's hard to observe exactly what the values are."
   ]
  },
  {
   "cell_type": "markdown",
   "metadata": {},
   "source": [
    "## Part E - Time Series Modeling"
   ]
  },
  {
   "cell_type": "markdown",
   "metadata": {},
   "source": [
    "Above, we computed autocorrelation for the data at varying lag periods.  This helps us identify if previous timepoints are predictive of future data and which time points are most important - the previous day, week, or month."
   ]
  },
  {
   "cell_type": "markdown",
   "metadata": {},
   "source": [
    "### Activity | Using the autocorrelation plot, will we be able to use a predictive model, particularly an autoregressive one?"
   ]
  },
  {
   "cell_type": "markdown",
   "metadata": {},
   "source": [
    "Answer: TODO"
   ]
  },
  {
   "cell_type": "markdown",
   "metadata": {},
   "source": [
    "### `statsmodels` and autocorrelation plots"
   ]
  },
  {
   "cell_type": "markdown",
   "metadata": {},
   "source": [
    "`statsmodels` has a better autocorrelation plot that allows us to look at fixed number of lag values."
   ]
  },
  {
   "cell_type": "code",
   "execution_count": null,
   "metadata": {
    "collapsed": false
   },
   "outputs": [],
   "source": [
    "plot_acf(df.Sales, lags = 10)\n",
    "\n",
    "pass"
   ]
  },
  {
   "cell_type": "markdown",
   "metadata": {},
   "source": [
    "Here we observe autocorrelation at 10 lag values.  1 and 2 are what we saw before.  This implies a small but limited impact based on the last few values.  An autoregressive model might be useful.  We also see a larger spike at 7 (the seventh day in the week).\n",
    "\n",
    "If we observed a handful of random distributed spikes, a moving average model would be useful."
   ]
  },
  {
   "cell_type": "code",
   "execution_count": null,
   "metadata": {
    "collapsed": false
   },
   "outputs": [],
   "source": [
    "plot_acf(df.Sales, lags = 25)\n",
    "\n",
    "pass"
   ]
  },
  {
   "cell_type": "markdown",
   "metadata": {},
   "source": [
    "Expanding the window to 25 days, we can see that the random spikes occur regularly at 7 days.  What does this mean?"
   ]
  },
  {
   "cell_type": "markdown",
   "metadata": {},
   "source": [
    "### `statsmodels` and `AR`, `MA`, `ARMA`, and `ARIMA` models"
   ]
  },
  {
   "cell_type": "markdown",
   "metadata": {},
   "source": [
    "In this class, we will use `statsmodels` to code `AR`, `MA`, `ARMA`, and `ARIMA` models.\n",
    "\n",
    "To explore `AR`, `MA`, `ARMA`, and `ARIMA` models, we will use `sm.tsa.arima_model.ARIMA`."
   ]
  },
  {
   "cell_type": "code",
<<<<<<< HEAD
   "execution_count": 49,
   "metadata": {
    "collapsed": false
   },
   "outputs": [
    {
     "data": {
      "text/html": [
       "<table class=\"simpletable\">\n",
       "<caption>ARMA Model Results</caption>\n",
       "<tr>\n",
       "  <th>Dep. Variable:</th>       <td>Sales</td>      <th>  No. Observations:  </th>    <td>781</td>   \n",
       "</tr>\n",
       "<tr>\n",
       "  <th>Model:</th>            <td>ARMA(1, 0)</td>    <th>  Log Likelihood     </th> <td>-6267.326</td>\n",
       "</tr>\n",
       "<tr>\n",
       "  <th>Method:</th>             <td>css-mle</td>     <th>  S.D. of innovations</th>  <td>739.079</td> \n",
       "</tr>\n",
       "<tr>\n",
       "  <th>Date:</th>          <td>Thu, 16 Feb 2017</td> <th>  AIC                </th> <td>12540.651</td>\n",
       "</tr>\n",
       "<tr>\n",
       "  <th>Time:</th>              <td>21:08:12</td>     <th>  BIC                </th> <td>12554.633</td>\n",
       "</tr>\n",
       "<tr>\n",
       "  <th>Sample:</th>           <td>07-31-2015</td>    <th>  HQIC               </th> <td>12546.029</td>\n",
       "</tr>\n",
       "<tr>\n",
       "  <th></th>                 <td>- 01-02-2013</td>   <th>                     </th>     <td> </td>    \n",
       "</tr>\n",
       "</table>\n",
       "<table class=\"simpletable\">\n",
       "<tr>\n",
       "       <td></td>          <th>coef</th>     <th>std err</th>      <th>z</th>      <th>P>|z|</th> <th>[95.0% Conf. Int.]</th> \n",
       "</tr>\n",
       "<tr>\n",
       "  <th>const</th>       <td> 4762.8515</td> <td>   82.985</td> <td>   57.394</td> <td> 0.000</td> <td> 4600.205  4925.498</td>\n",
       "</tr>\n",
       "<tr>\n",
       "  <th>ar.L1.Sales</th> <td>    0.6822</td> <td>    0.026</td> <td>   26.122</td> <td> 0.000</td> <td>    0.631     0.733</td>\n",
       "</tr>\n",
       "</table>\n",
       "<table class=\"simpletable\">\n",
       "<caption>Roots</caption>\n",
       "<tr>\n",
       "    <td></td>   <th>           Real</th> <th>         Imaginary</th> <th>         Modulus</th> <th>        Frequency</th>\n",
       "</tr>\n",
       "<tr>\n",
       "  <th>AR.1</th>               1.4659                    +0.0000j                    1.4659                    0.0000     \n",
       "</tr>\n",
       "</table>"
      ],
      "text/plain": [
       "<class 'statsmodels.iolib.summary.Summary'>\n",
       "\"\"\"\n",
       "                              ARMA Model Results                              \n",
       "==============================================================================\n",
       "Dep. Variable:                  Sales   No. Observations:                  781\n",
       "Model:                     ARMA(1, 0)   Log Likelihood               -6267.326\n",
       "Method:                       css-mle   S.D. of innovations            739.079\n",
       "Date:                Thu, 16 Feb 2017   AIC                          12540.651\n",
       "Time:                        21:08:12   BIC                          12554.633\n",
       "Sample:                    07-31-2015   HQIC                         12546.029\n",
       "                         - 01-02-2013                                         \n",
       "===============================================================================\n",
       "                  coef    std err          z      P>|z|      [95.0% Conf. Int.]\n",
       "-------------------------------------------------------------------------------\n",
       "const        4762.8515     82.985     57.394      0.000      4600.205  4925.498\n",
       "ar.L1.Sales     0.6822      0.026     26.122      0.000         0.631     0.733\n",
       "                                    Roots                                    \n",
       "=============================================================================\n",
       "                 Real           Imaginary           Modulus         Frequency\n",
       "-----------------------------------------------------------------------------\n",
       "AR.1            1.4659           +0.0000j            1.4659            0.0000\n",
       "-----------------------------------------------------------------------------\n",
       "\"\"\""
      ]
     },
     "execution_count": 49,
     "metadata": {},
     "output_type": "execute_result"
    }
   ],
   "source": [
    "model = arima_model.ARIMA(df[df.Open == 1].Sales, (1, 0, 0)).fit()\n",
    "\n",
    "model.summary()\n",
    "#L1.Sales = lag1\n",
    "#both z values is greater than 1.96, so they;re significant"
=======
   "execution_count": null,
   "metadata": {
    "collapsed": false
   },
   "outputs": [],
   "source": [
    "model = arima_model.ARIMA(df[df.Open == 1].Sales, (1, 0, 0)).fit()\n",
    "\n",
    "model.summary()"
>>>>>>> upstream/master
   ]
  },
  {
   "cell_type": "markdown",
   "metadata": {},
   "source": [
    "By passing `(1, 0, 0)` in the second argument, we are fitting an `ARMA` model with `p = 1`, `d = 0`, and `q = 0`.  This is the same as an `AR(1)` model.\n",
    "\n",
    "In this `AR(1)` model, we learn an intercept (or base sales) value.\n",
    "\n",
    "Additionally, we learn a coefficient that tells us how to include the latest sales value.\n",
    "\n",
    "In this case, we add an intercept of ~4800 to .68 times the previous month's sales.  Note that the coefficient is not equal to the lag 1 autocorrelation.  This implies the data is __not__ stationary."
   ]
  },
  {
   "cell_type": "markdown",
   "metadata": {},
   "source": [
    "We can learn an `AR(2)` model, which regresses each sales value on the last two."
   ]
  },
  {
   "cell_type": "code",
<<<<<<< HEAD
   "execution_count": 50,
   "metadata": {
    "collapsed": false
   },
   "outputs": [
    {
     "data": {
      "text/html": [
       "<table class=\"simpletable\">\n",
       "<caption>ARMA Model Results</caption>\n",
       "<tr>\n",
       "  <th>Dep. Variable:</th>       <td>Sales</td>      <th>  No. Observations:  </th>    <td>942</td>   \n",
       "</tr>\n",
       "<tr>\n",
       "  <th>Model:</th>            <td>ARMA(2, 0)</td>    <th>  Log Likelihood     </th> <td>-8494.475</td>\n",
       "</tr>\n",
       "<tr>\n",
       "  <th>Method:</th>             <td>css-mle</td>     <th>  S.D. of innovations</th> <td>1995.279</td> \n",
       "</tr>\n",
       "<tr>\n",
       "  <th>Date:</th>          <td>Thu, 16 Feb 2017</td> <th>  AIC                </th> <td>16996.950</td>\n",
       "</tr>\n",
       "<tr>\n",
       "  <th>Time:</th>              <td>21:10:10</td>     <th>  BIC                </th> <td>17016.342</td>\n",
       "</tr>\n",
       "<tr>\n",
       "  <th>Sample:</th>           <td>07-31-2015</td>    <th>  HQIC               </th> <td>17004.342</td>\n",
       "</tr>\n",
       "<tr>\n",
       "  <th></th>                 <td>- 01-01-2013</td>   <th>                     </th>     <td> </td>    \n",
       "</tr>\n",
       "</table>\n",
       "<table class=\"simpletable\">\n",
       "<tr>\n",
       "       <td></td>          <th>coef</th>     <th>std err</th>      <th>z</th>      <th>P>|z|</th> <th>[95.0% Conf. Int.]</th> \n",
       "</tr>\n",
       "<tr>\n",
       "  <th>const</th>       <td> 3945.8589</td> <td>   54.837</td> <td>   71.956</td> <td> 0.000</td> <td> 3838.381  4053.337</td>\n",
       "</tr>\n",
       "<tr>\n",
       "  <th>ar.L1.Sales</th> <td>   -0.1340</td> <td>    0.033</td> <td>   -4.112</td> <td> 0.000</td> <td>   -0.198    -0.070</td>\n",
       "</tr>\n",
       "<tr>\n",
       "  <th>ar.L2.Sales</th> <td>   -0.0517</td> <td>    0.033</td> <td>   -1.588</td> <td> 0.113</td> <td>   -0.116     0.012</td>\n",
       "</tr>\n",
       "</table>\n",
       "<table class=\"simpletable\">\n",
       "<caption>Roots</caption>\n",
       "<tr>\n",
       "    <td></td>   <th>           Real</th> <th>         Imaginary</th> <th>         Modulus</th> <th>        Frequency</th>\n",
       "</tr>\n",
       "<tr>\n",
       "  <th>AR.1</th>              -1.2951                    -4.2011j                    4.3962                   -0.2976     \n",
       "</tr>\n",
       "<tr>\n",
       "  <th>AR.2</th>              -1.2951                    +4.2011j                    4.3962                    0.2976     \n",
       "</tr>\n",
       "</table>"
      ],
      "text/plain": [
       "<class 'statsmodels.iolib.summary.Summary'>\n",
       "\"\"\"\n",
       "                              ARMA Model Results                              \n",
       "==============================================================================\n",
       "Dep. Variable:                  Sales   No. Observations:                  942\n",
       "Model:                     ARMA(2, 0)   Log Likelihood               -8494.475\n",
       "Method:                       css-mle   S.D. of innovations           1995.279\n",
       "Date:                Thu, 16 Feb 2017   AIC                          16996.950\n",
       "Time:                        21:10:10   BIC                          17016.342\n",
       "Sample:                    07-31-2015   HQIC                         17004.342\n",
       "                         - 01-01-2013                                         \n",
       "===============================================================================\n",
       "                  coef    std err          z      P>|z|      [95.0% Conf. Int.]\n",
       "-------------------------------------------------------------------------------\n",
       "const        3945.8589     54.837     71.956      0.000      3838.381  4053.337\n",
       "ar.L1.Sales    -0.1340      0.033     -4.112      0.000        -0.198    -0.070\n",
       "ar.L2.Sales    -0.0517      0.033     -1.588      0.113        -0.116     0.012\n",
       "                                    Roots                                    \n",
       "=============================================================================\n",
       "                 Real           Imaginary           Modulus         Frequency\n",
       "-----------------------------------------------------------------------------\n",
       "AR.1           -1.2951           -4.2011j            4.3962           -0.2976\n",
       "AR.2           -1.2951           +4.2011j            4.3962            0.2976\n",
       "-----------------------------------------------------------------------------\n",
       "\"\"\""
      ]
     },
     "execution_count": 50,
     "metadata": {},
     "output_type": "execute_result"
    }
   ],
=======
   "execution_count": null,
   "metadata": {
    "collapsed": false
   },
   "outputs": [],
>>>>>>> upstream/master
   "source": [
    "model = arima_model.ARIMA(df.Sales, (2, 0, 0)).fit()\n",
    "\n",
    "model.summary()"
   ]
  },
  {
   "cell_type": "markdown",
   "metadata": {},
   "source": [
    "In this case, we learn two coefficients, which tell us the effect of the last two sales values on the current sales.  While this model may perform better, it may be more difficult to interpret."
   ]
  },
  {
   "cell_type": "markdown",
   "metadata": {},
   "source": [
    "## Residuals"
   ]
  },
  {
   "cell_type": "markdown",
   "metadata": {},
   "source": [
    "To start to diagnose the model, we want to look at residuals.\n",
    "\n",
    "1. What are residuals?\n",
    "1. In linear regression, what did we expect of residuals?"
   ]
  },
  {
   "cell_type": "markdown",
   "metadata": {},
   "source": [
    "Answer: TODO"
   ]
  },
  {
   "cell_type": "markdown",
   "metadata": {},
   "source": [
    "We can use `statsmodels` to plot the residuals."
   ]
  },
  {
   "cell_type": "code",
<<<<<<< HEAD
   "execution_count": 51,
   "metadata": {
    "collapsed": false
   },
   "outputs": [
    {
     "data": {
      "text/plain": [
       "<matplotlib.axes._subplots.AxesSubplot at 0x267be940>"
      ]
     },
     "execution_count": 51,
     "metadata": {},
     "output_type": "execute_result"
    },
    {
     "data": {
      "image/png": "iVBORw0KGgoAAAANSUhEUgAAAsAAAAICCAYAAADBD3tQAAAABHNCSVQICAgIfAhkiAAAAAlwSFlz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\neIr/H5NtOAwQt2cMAAAAAElFTkSuQmCC\n",
      "text/plain": [
       "<matplotlib.figure.Figure at 0x2664d550>"
      ]
     },
     "metadata": {},
     "output_type": "display_data"
    }
   ],
   "source": [
    "model.resid.plot()\n",
    "#want residuals to be random and constant variance with small error...not the case here. we see signal that we're not capturing\n"
=======
   "execution_count": null,
   "metadata": {
    "collapsed": false
   },
   "outputs": [],
   "source": [
    "model.resid.plot()"
>>>>>>> upstream/master
   ]
  },
  {
   "cell_type": "markdown",
   "metadata": {},
   "source": [
    "Our model considers a short period of time, so it does not take into account the longer seasonal pattern.  We can also plot the autocorrelations of the residuals.  In an ideal world, these would all be near 0 and appear random."
   ]
  },
  {
   "cell_type": "code",
<<<<<<< HEAD
   "execution_count": 52,
   "metadata": {
    "collapsed": false
   },
   "outputs": [
    {
     "data": {
      "image/png": "iVBORw0KGgoAAAANSUhEUgAAAqUAAAHoCAYAAABw9pYdAAAABHNCSVQICAgIfAhkiAAAAAlwSFlz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\nRESiYyklIiIiItH9AuJ+b4f9J7BYAAAAAElFTkSuQmCC\n",
      "text/plain": [
       "<matplotlib.figure.Figure at 0x26964128>"
      ]
     },
     "metadata": {},
     "output_type": "display_data"
    }
   ],
=======
   "execution_count": null,
   "metadata": {
    "collapsed": false
   },
   "outputs": [],
>>>>>>> upstream/master
   "source": [
    "plot_acf(model.resid, lags = 50)\n",
    "\n",
    "pass"
   ]
  },
  {
   "cell_type": "markdown",
   "metadata": {},
   "source": [
    "This plot shows a problem: the errors are increasing and decreasing every week in a clear pattern.  We may need to expand our model.  To expand this `AR` model to an `ARMA` model, we can include the moving average component as well."
   ]
  },
  {
   "cell_type": "code",
<<<<<<< HEAD
   "execution_count": 53,
   "metadata": {
    "collapsed": false
   },
   "outputs": [
    {
     "data": {
      "text/html": [
       "<table class=\"simpletable\">\n",
       "<caption>ARMA Model Results</caption>\n",
       "<tr>\n",
       "  <th>Dep. Variable:</th>       <td>Sales</td>      <th>  No. Observations:  </th>    <td>942</td>   \n",
       "</tr>\n",
       "<tr>\n",
       "  <th>Model:</th>            <td>ARMA(1, 1)</td>    <th>  Log Likelihood     </th> <td>-8495.049</td>\n",
       "</tr>\n",
       "<tr>\n",
       "  <th>Method:</th>             <td>css-mle</td>     <th>  S.D. of innovations</th> <td>1996.499</td> \n",
       "</tr>\n",
       "<tr>\n",
       "  <th>Date:</th>          <td>Thu, 16 Feb 2017</td> <th>  AIC                </th> <td>16998.098</td>\n",
       "</tr>\n",
       "<tr>\n",
       "  <th>Time:</th>              <td>21:11:58</td>     <th>  BIC                </th> <td>17017.490</td>\n",
       "</tr>\n",
       "<tr>\n",
       "  <th>Sample:</th>           <td>07-31-2015</td>    <th>  HQIC               </th> <td>17005.490</td>\n",
       "</tr>\n",
       "<tr>\n",
       "  <th></th>                 <td>- 01-01-2013</td>   <th>                     </th>     <td> </td>    \n",
       "</tr>\n",
       "</table>\n",
       "<table class=\"simpletable\">\n",
       "<tr>\n",
       "       <td></td>          <th>coef</th>     <th>std err</th>      <th>z</th>      <th>P>|z|</th> <th>[95.0% Conf. Int.]</th> \n",
       "</tr>\n",
       "<tr>\n",
       "  <th>const</th>       <td> 3944.4530</td> <td>   55.526</td> <td>   71.038</td> <td> 0.000</td> <td> 3835.624  4053.282</td>\n",
       "</tr>\n",
       "<tr>\n",
       "  <th>ar.L1.Sales</th> <td>    0.0884</td> <td>    0.203</td> <td>    0.435</td> <td> 0.664</td> <td>   -0.310     0.487</td>\n",
       "</tr>\n",
       "<tr>\n",
       "  <th>ma.L1.Sales</th> <td>   -0.2220</td> <td>    0.198</td> <td>   -1.120</td> <td> 0.263</td> <td>   -0.611     0.167</td>\n",
       "</tr>\n",
       "</table>\n",
       "<table class=\"simpletable\">\n",
       "<caption>Roots</caption>\n",
       "<tr>\n",
       "    <td></td>   <th>           Real</th> <th>         Imaginary</th> <th>         Modulus</th> <th>        Frequency</th>\n",
       "</tr>\n",
       "<tr>\n",
       "  <th>AR.1</th>              11.3097                    +0.0000j                   11.3097                    0.0000     \n",
       "</tr>\n",
       "<tr>\n",
       "  <th>MA.1</th>               4.5037                    +0.0000j                    4.5037                    0.0000     \n",
       "</tr>\n",
       "</table>"
      ],
      "text/plain": [
       "<class 'statsmodels.iolib.summary.Summary'>\n",
       "\"\"\"\n",
       "                              ARMA Model Results                              \n",
       "==============================================================================\n",
       "Dep. Variable:                  Sales   No. Observations:                  942\n",
       "Model:                     ARMA(1, 1)   Log Likelihood               -8495.049\n",
       "Method:                       css-mle   S.D. of innovations           1996.499\n",
       "Date:                Thu, 16 Feb 2017   AIC                          16998.098\n",
       "Time:                        21:11:58   BIC                          17017.490\n",
       "Sample:                    07-31-2015   HQIC                         17005.490\n",
       "                         - 01-01-2013                                         \n",
       "===============================================================================\n",
       "                  coef    std err          z      P>|z|      [95.0% Conf. Int.]\n",
       "-------------------------------------------------------------------------------\n",
       "const        3944.4530     55.526     71.038      0.000      3835.624  4053.282\n",
       "ar.L1.Sales     0.0884      0.203      0.435      0.664        -0.310     0.487\n",
       "ma.L1.Sales    -0.2220      0.198     -1.120      0.263        -0.611     0.167\n",
       "                                    Roots                                    \n",
       "=============================================================================\n",
       "                 Real           Imaginary           Modulus         Frequency\n",
       "-----------------------------------------------------------------------------\n",
       "AR.1           11.3097           +0.0000j           11.3097            0.0000\n",
       "MA.1            4.5037           +0.0000j            4.5037            0.0000\n",
       "-----------------------------------------------------------------------------\n",
       "\"\"\""
      ]
     },
     "execution_count": 53,
     "metadata": {},
     "output_type": "execute_result"
    }
   ],
   "source": [
    "model = arima_model.ARIMA(df.Sales, (1, 0, 1)).fit()\n",
    "\n",
    "model.summary()\n",
    "#none are significant. first one is no longer signifcant with the addition of the 2nd one\n",
    "#we didn't differentiate the data, that could be a reason"
=======
   "execution_count": null,
   "metadata": {
    "collapsed": false
   },
   "outputs": [],
   "source": [
    "model = arima_model.ARIMA(df.Sales, (1, 0, 1)).fit()\n",
    "\n",
    "model.summary()"
>>>>>>> upstream/master
   ]
  },
  {
   "cell_type": "markdown",
   "metadata": {},
   "source": [
    "Now we learn two coefficients, one for the `AR(1)` component and one for the `MA(1)` component."
   ]
  },
  {
   "cell_type": "markdown",
   "metadata": {},
   "source": [
    "### Activity\n",
    "\n",
    "1. Take a moment to look at the coefficients of our new model\n",
    "1. Offer an interpretation of this model"
   ]
  },
  {
   "cell_type": "markdown",
   "metadata": {},
   "source": [
    "Answer: TODO"
   ]
  },
  {
   "cell_type": "markdown",
   "metadata": {},
   "source": [
    "Let's fit a true `ARIMA` model to predict the difference of the series."
   ]
  },
  {
   "cell_type": "code",
<<<<<<< HEAD
   "execution_count": 54,
   "metadata": {
    "collapsed": false
   },
   "outputs": [
    {
     "data": {
      "text/html": [
       "<table class=\"simpletable\">\n",
       "<caption>ARIMA Model Results</caption>\n",
       "<tr>\n",
       "  <th>Dep. Variable:</th>      <td>D.Sales</td>     <th>  No. Observations:  </th>    <td>780</td>   \n",
       "</tr>\n",
       "<tr>\n",
       "  <th>Model:</th>          <td>ARIMA(1, 1, 1)</td>  <th>  Log Likelihood     </th> <td>-6261.011</td>\n",
       "</tr>\n",
       "<tr>\n",
       "  <th>Method:</th>             <td>css-mle</td>     <th>  S.D. of innovations</th>  <td>738.624</td> \n",
       "</tr>\n",
       "<tr>\n",
       "  <th>Date:</th>          <td>Thu, 16 Feb 2017</td> <th>  AIC                </th> <td>12530.022</td>\n",
       "</tr>\n",
       "<tr>\n",
       "  <th>Time:</th>              <td>21:12:34</td>     <th>  BIC                </th> <td>12548.659</td>\n",
       "</tr>\n",
       "<tr>\n",
       "  <th>Sample:</th>           <td>07-30-2015</td>    <th>  HQIC               </th> <td>12537.190</td>\n",
       "</tr>\n",
       "<tr>\n",
       "  <th></th>                 <td>- 01-02-2013</td>   <th>                     </th>     <td> </td>    \n",
       "</tr>\n",
       "</table>\n",
       "<table class=\"simpletable\">\n",
       "<tr>\n",
       "        <td></td>           <th>coef</th>     <th>std err</th>      <th>z</th>      <th>P>|z|</th> <th>[95.0% Conf. Int.]</th> \n",
       "</tr>\n",
       "<tr>\n",
       "  <th>const</th>         <td>    0.5108</td> <td>    0.364</td> <td>    1.405</td> <td> 0.160</td> <td>   -0.202     1.223</td>\n",
       "</tr>\n",
       "<tr>\n",
       "  <th>ar.L1.D.Sales</th> <td>    0.6801</td> <td>    0.026</td> <td>   25.801</td> <td> 0.000</td> <td>    0.628     0.732</td>\n",
       "</tr>\n",
       "<tr>\n",
       "  <th>ma.L1.D.Sales</th> <td>   -1.0000</td> <td>    0.004</td> <td> -240.410</td> <td> 0.000</td> <td>   -1.008    -0.992</td>\n",
       "</tr>\n",
       "</table>\n",
       "<table class=\"simpletable\">\n",
       "<caption>Roots</caption>\n",
       "<tr>\n",
       "    <td></td>   <th>           Real</th> <th>         Imaginary</th> <th>         Modulus</th> <th>        Frequency</th>\n",
       "</tr>\n",
       "<tr>\n",
       "  <th>AR.1</th>               1.4703                    +0.0000j                    1.4703                    0.0000     \n",
       "</tr>\n",
       "<tr>\n",
       "  <th>MA.1</th>               1.0000                    +0.0000j                    1.0000                    0.0000     \n",
       "</tr>\n",
       "</table>"
      ],
      "text/plain": [
       "<class 'statsmodels.iolib.summary.Summary'>\n",
       "\"\"\"\n",
       "                             ARIMA Model Results                              \n",
       "==============================================================================\n",
       "Dep. Variable:                D.Sales   No. Observations:                  780\n",
       "Model:                 ARIMA(1, 1, 1)   Log Likelihood               -6261.011\n",
       "Method:                       css-mle   S.D. of innovations            738.624\n",
       "Date:                Thu, 16 Feb 2017   AIC                          12530.022\n",
       "Time:                        21:12:34   BIC                          12548.659\n",
       "Sample:                    07-30-2015   HQIC                         12537.190\n",
       "                         - 01-02-2013                                         \n",
       "=================================================================================\n",
       "                    coef    std err          z      P>|z|      [95.0% Conf. Int.]\n",
       "---------------------------------------------------------------------------------\n",
       "const             0.5108      0.364      1.405      0.160        -0.202     1.223\n",
       "ar.L1.D.Sales     0.6801      0.026     25.801      0.000         0.628     0.732\n",
       "ma.L1.D.Sales    -1.0000      0.004   -240.410      0.000        -1.008    -0.992\n",
       "                                    Roots                                    \n",
       "=============================================================================\n",
       "                 Real           Imaginary           Modulus         Frequency\n",
       "-----------------------------------------------------------------------------\n",
       "AR.1            1.4703           +0.0000j            1.4703            0.0000\n",
       "MA.1            1.0000           +0.0000j            1.0000            0.0000\n",
       "-----------------------------------------------------------------------------\n",
       "\"\"\""
      ]
     },
     "execution_count": 54,
     "metadata": {},
     "output_type": "execute_result"
    }
   ],
   "source": [
    "model = arima_model.ARIMA(df[df.Open == 1].Sales, (1, 1, 1)).fit()\n",
    "\n",
    "model.summary()\n",
    "#what's the difference of sales from 1 day to the other?"
=======
   "execution_count": null,
   "metadata": {
    "collapsed": false
   },
   "outputs": [],
   "source": [
    "model = arima_model.ARIMA(df[df.Open == 1].Sales, (1, 1, 1)).fit()\n",
    "\n",
    "model.summary()"
>>>>>>> upstream/master
   ]
  },
  {
   "cell_type": "markdown",
   "metadata": {},
   "source": [
    "We can remove the `MA` component since it does not appear to be useful."
   ]
  },
  {
   "cell_type": "code",
   "execution_count": null,
   "metadata": {
    "collapsed": false
   },
   "outputs": [],
   "source": [
    "model = arima_model.ARIMA(df[df.Open == 1].Sales, (1, 1, 0)).fit()\n",
    "\n",
    "model.summary()"
   ]
  },
  {
   "cell_type": "markdown",
   "metadata": {},
   "source": [
    "We now have an `AR(1)` model on the differenced series with a coefficient of -.18."
   ]
  },
  {
   "cell_type": "markdown",
   "metadata": {},
   "source": [
    "### Activity"
   ]
  },
  {
   "cell_type": "markdown",
   "metadata": {},
   "source": [
    "1. Does this model match the lag 1 autocorrelation of the differenced series?\n",
    "1. Is the data stationary?"
   ]
  },
  {
   "cell_type": "markdown",
   "metadata": {},
   "source": [
    "Answer: TODO"
   ]
  },
  {
   "cell_type": "code",
   "execution_count": null,
   "metadata": {
    "collapsed": false
   },
   "outputs": [],
   "source": [
    "# TODO"
   ]
  },
  {
   "cell_type": "markdown",
   "metadata": {},
   "source": [
    "With our models, we can also plot our predictions against the true series using the plot_predict function: We can compare the last 50 days of true values against our predictions."
   ]
  },
  {
   "cell_type": "code",
   "execution_count": null,
   "metadata": {
    "collapsed": false
   },
   "outputs": [],
   "source": [
    "model.plot_predict(1, 50)\n",
    "\n",
    "pass"
   ]
  },
  {
   "cell_type": "markdown",
   "metadata": {},
   "source": [
    "The function takes two arguments, the start and end index of the dataframe to plot.  Here, we are plotting the last 50 values.  To plot earlier values with our predictions continuing where the true values stop, we can do the following."
   ]
  },
  {
   "cell_type": "code",
   "execution_count": null,
   "metadata": {
    "collapsed": false
   },
   "outputs": [],
   "source": [
    "_, ax = plt.subplots()\n",
    "ax = df['2014'][df.Open == 1].Sales.plot(ax = ax)\n",
    "\n",
    "model.plot_predict(1, 200, ax = ax, plot_insample = False)\n",
    "\n",
    "pass"
   ]
  },
  {
   "cell_type": "markdown",
   "metadata": {},
   "source": [
    "This plots true values in 2014 and our predictions 200 days out from 2014."
   ]
  },
  {
   "cell_type": "markdown",
   "metadata": {},
   "source": [
    "### Activity\n",
    "\n",
    "We can revisit our diagnostics to check that our models are working well.\n",
    "\n",
    "1. Plot the residuals and autocorrelation of the residuals.\n",
    "1. Are there patterns or outliers?"
   ]
  },
  {
   "cell_type": "markdown",
   "metadata": {},
   "source": [
    "Answer: TODO"
   ]
  },
  {
   "cell_type": "markdown",
   "metadata": {},
   "source": [
    "We can adjust the `AR` component of the model to adjust for a piece of this.  Let's increase the lag to 7."
   ]
  },
  {
   "cell_type": "code",
   "execution_count": null,
   "metadata": {
    "collapsed": false
   },
   "outputs": [],
   "source": [
    "model = arima_model.ARIMA(df[df.Open == 1].Sales, (7, 1, 2)).fit()\n",
    "\n",
    "model.summary()"
   ]
  },
  {
   "cell_type": "code",
   "execution_count": null,
   "metadata": {
    "collapsed": false
   },
   "outputs": [],
   "source": [
    "plot_acf(model.resid, lags = 50)\n",
    "\n",
    "pass"
   ]
  },
  {
   "cell_type": "markdown",
   "metadata": {},
   "source": [
    "This removes some of the autocorrelation in the residuals but large discrepancies still exist.\n",
    "\n",
    "However, they exist where we are breaking our model assumptions."
   ]
  },
  {
   "cell_type": "markdown",
   "metadata": {},
   "source": [
    "### Activity\n",
    "\n",
    "1. Alter the time period of predictions and the `p`, `d`, and `q` parameters\n",
    "1. Do any of these improve diagnostics?\n",
    "1. What does changing `p` and `q` imply based upon the autocorrelation plot?\n",
    "1. How about changing `d`?"
   ]
  },
  {
   "cell_type": "markdown",
   "metadata": {},
   "source": [
    "Answer: TODO"
   ]
  },
  {
   "cell_type": "markdown",
   "metadata": {},
   "source": [
    "There are variants of `ARIMA` that will better handle the seasonal aspect of our data.  This is referred to as Seasonal `ARIMA` or `SARIMA`.\n",
    "\n",
    "These models fit two `ARIMA` models, one on the current frequency (daily in our example) and another on the seasonal frequency (maybe monthly or yearly patterns).\n",
    "\n",
    "Additionally, issues with seasonality could be handled by preprocessing tricks such as detrending."
   ]
  }
 ],
 "metadata": {
<<<<<<< HEAD
  "anaconda-cloud": {},
=======
>>>>>>> upstream/master
  "kernelspec": {
   "display_name": "Python [conda root]",
   "language": "python",
   "name": "conda-root-py"
  },
  "language_info": {
   "codemirror_mode": {
    "name": "ipython",
    "version": 2
   },
   "file_extension": ".py",
   "mimetype": "text/x-python",
   "name": "python",
   "nbconvert_exporter": "python",
   "pygments_lexer": "ipython2",
   "version": "2.7.12"
  }
 },
 "nbformat": 4,
 "nbformat_minor": 0
}
