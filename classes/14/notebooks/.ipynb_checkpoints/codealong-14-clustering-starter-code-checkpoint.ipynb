{
 "cells": [
  {
   "cell_type": "markdown",
   "metadata": {},
   "source": [
    "# DS-SF-30 | Codealong 14: Clustering"
   ]
  },
  {
   "cell_type": "markdown",
   "metadata": {},
   "source": [
    "## Marketing Segmentation with the Ford Ka"
   ]
  },
  {
   "cell_type": "code",
   "execution_count": 1,
   "metadata": {
    "collapsed": true
   },
   "outputs": [],
   "source": [
    "import os\n",
    "\n",
    "import numpy as np\n",
    "import pandas as pd\n",
    "pd.set_option('display.max_rows', 10)\n",
    "pd.set_option('display.notebook_repr_html', True)\n",
    "pd.set_option('display.max_columns', 10)\n",
    "\n",
    "from sklearn import decomposition, cluster\n",
    "\n",
    "import matplotlib.pyplot as plt\n",
    "%matplotlib inline\n",
    "plt.style.use('ggplot')"
   ]
  },
  {
   "cell_type": "code",
   "execution_count": 2,
   "metadata": {
    "collapsed": false
   },
   "outputs": [],
   "source": [
    "df = pd.read_csv(os.path.join('..', 'datasets', 'dataset-14-ford-ka.csv'), index_col = 'id')"
   ]
  },
  {
   "cell_type": "code",
   "execution_count": 5,
   "metadata": {
    "collapsed": false
   },
   "outputs": [
    {
     "data": {
      "text/html": [
       "<div>\n",
       "<table border=\"1\" class=\"dataframe\">\n",
       "  <thead>\n",
       "    <tr style=\"text-align: right;\">\n",
       "      <th></th>\n",
       "      <th>Q1</th>\n",
       "      <th>Q2</th>\n",
       "      <th>Q3</th>\n",
       "      <th>Q4</th>\n",
       "      <th>Q5</th>\n",
       "      <th>...</th>\n",
       "      <th>Q58</th>\n",
       "      <th>Q59</th>\n",
       "      <th>Q60</th>\n",
       "      <th>Q61</th>\n",
       "      <th>Q62</th>\n",
       "    </tr>\n",
       "    <tr>\n",
       "      <th>id</th>\n",
       "      <th></th>\n",
       "      <th></th>\n",
       "      <th></th>\n",
       "      <th></th>\n",
       "      <th></th>\n",
       "      <th></th>\n",
       "      <th></th>\n",
       "      <th></th>\n",
       "      <th></th>\n",
       "      <th></th>\n",
       "      <th></th>\n",
       "    </tr>\n",
       "  </thead>\n",
       "  <tbody>\n",
       "    <tr>\n",
       "      <th>1</th>\n",
       "      <td>6</td>\n",
       "      <td>2</td>\n",
       "      <td>4</td>\n",
       "      <td>3</td>\n",
       "      <td>1</td>\n",
       "      <td>...</td>\n",
       "      <td>3</td>\n",
       "      <td>4</td>\n",
       "      <td>4</td>\n",
       "      <td>4</td>\n",
       "      <td>2</td>\n",
       "    </tr>\n",
       "    <tr>\n",
       "      <th>2</th>\n",
       "      <td>7</td>\n",
       "      <td>7</td>\n",
       "      <td>7</td>\n",
       "      <td>5</td>\n",
       "      <td>4</td>\n",
       "      <td>...</td>\n",
       "      <td>4</td>\n",
       "      <td>3</td>\n",
       "      <td>5</td>\n",
       "      <td>4</td>\n",
       "      <td>5</td>\n",
       "    </tr>\n",
       "    <tr>\n",
       "      <th>3</th>\n",
       "      <td>5</td>\n",
       "      <td>4</td>\n",
       "      <td>6</td>\n",
       "      <td>5</td>\n",
       "      <td>7</td>\n",
       "      <td>...</td>\n",
       "      <td>4</td>\n",
       "      <td>5</td>\n",
       "      <td>3</td>\n",
       "      <td>4</td>\n",
       "      <td>4</td>\n",
       "    </tr>\n",
       "    <tr>\n",
       "      <th>4</th>\n",
       "      <td>4</td>\n",
       "      <td>2</td>\n",
       "      <td>5</td>\n",
       "      <td>4</td>\n",
       "      <td>2</td>\n",
       "      <td>...</td>\n",
       "      <td>2</td>\n",
       "      <td>5</td>\n",
       "      <td>5</td>\n",
       "      <td>5</td>\n",
       "      <td>3</td>\n",
       "    </tr>\n",
       "    <tr>\n",
       "      <th>5</th>\n",
       "      <td>5</td>\n",
       "      <td>5</td>\n",
       "      <td>7</td>\n",
       "      <td>6</td>\n",
       "      <td>7</td>\n",
       "      <td>...</td>\n",
       "      <td>5</td>\n",
       "      <td>4</td>\n",
       "      <td>3</td>\n",
       "      <td>4</td>\n",
       "      <td>5</td>\n",
       "    </tr>\n",
       "    <tr>\n",
       "      <th>...</th>\n",
       "      <td>...</td>\n",
       "      <td>...</td>\n",
       "      <td>...</td>\n",
       "      <td>...</td>\n",
       "      <td>...</td>\n",
       "      <td>...</td>\n",
       "      <td>...</td>\n",
       "      <td>...</td>\n",
       "      <td>...</td>\n",
       "      <td>...</td>\n",
       "      <td>...</td>\n",
       "    </tr>\n",
       "    <tr>\n",
       "      <th>246</th>\n",
       "      <td>6</td>\n",
       "      <td>7</td>\n",
       "      <td>5</td>\n",
       "      <td>5</td>\n",
       "      <td>3</td>\n",
       "      <td>...</td>\n",
       "      <td>5</td>\n",
       "      <td>2</td>\n",
       "      <td>3</td>\n",
       "      <td>4</td>\n",
       "      <td>5</td>\n",
       "    </tr>\n",
       "    <tr>\n",
       "      <th>247</th>\n",
       "      <td>4</td>\n",
       "      <td>3</td>\n",
       "      <td>6</td>\n",
       "      <td>7</td>\n",
       "      <td>6</td>\n",
       "      <td>...</td>\n",
       "      <td>2</td>\n",
       "      <td>5</td>\n",
       "      <td>4</td>\n",
       "      <td>4</td>\n",
       "      <td>4</td>\n",
       "    </tr>\n",
       "    <tr>\n",
       "      <th>248</th>\n",
       "      <td>6</td>\n",
       "      <td>5</td>\n",
       "      <td>3</td>\n",
       "      <td>1</td>\n",
       "      <td>4</td>\n",
       "      <td>...</td>\n",
       "      <td>6</td>\n",
       "      <td>6</td>\n",
       "      <td>1</td>\n",
       "      <td>2</td>\n",
       "      <td>2</td>\n",
       "    </tr>\n",
       "    <tr>\n",
       "      <th>249</th>\n",
       "      <td>3</td>\n",
       "      <td>3</td>\n",
       "      <td>6</td>\n",
       "      <td>7</td>\n",
       "      <td>6</td>\n",
       "      <td>...</td>\n",
       "      <td>5</td>\n",
       "      <td>4</td>\n",
       "      <td>5</td>\n",
       "      <td>5</td>\n",
       "      <td>3</td>\n",
       "    </tr>\n",
       "    <tr>\n",
       "      <th>250</th>\n",
       "      <td>7</td>\n",
       "      <td>6</td>\n",
       "      <td>3</td>\n",
       "      <td>3</td>\n",
       "      <td>4</td>\n",
       "      <td>...</td>\n",
       "      <td>5</td>\n",
       "      <td>5</td>\n",
       "      <td>5</td>\n",
       "      <td>3</td>\n",
       "      <td>6</td>\n",
       "    </tr>\n",
       "  </tbody>\n",
       "</table>\n",
       "<p>250 rows × 62 columns</p>\n",
       "</div>"
      ],
      "text/plain": [
       "     Q1  Q2  Q3  Q4  Q5 ...   Q58  Q59  Q60  Q61  Q62\n",
       "id                      ...                          \n",
       "1     6   2   4   3   1 ...     3    4    4    4    2\n",
       "2     7   7   7   5   4 ...     4    3    5    4    5\n",
       "3     5   4   6   5   7 ...     4    5    3    4    4\n",
       "4     4   2   5   4   2 ...     2    5    5    5    3\n",
       "5     5   5   7   6   7 ...     5    4    3    4    5\n",
       "..   ..  ..  ..  ..  .. ...   ...  ...  ...  ...  ...\n",
       "246   6   7   5   5   3 ...     5    2    3    4    5\n",
       "247   4   3   6   7   6 ...     2    5    4    4    4\n",
       "248   6   5   3   1   4 ...     6    6    1    2    2\n",
       "249   3   3   6   7   6 ...     5    4    5    5    3\n",
       "250   7   6   3   3   4 ...     5    5    5    3    6\n",
       "\n",
       "[250 rows x 62 columns]"
      ]
     },
     "execution_count": 5,
     "metadata": {},
     "output_type": "execute_result"
    }
   ],
   "source": [
    "df"
   ]
  },
  {
   "cell_type": "markdown",
   "metadata": {},
   "source": [
    "### Checking for `NaN`"
   ]
  },
  {
   "cell_type": "code",
   "execution_count": 7,
   "metadata": {
    "collapsed": false
   },
   "outputs": [
    {
     "data": {
      "text/plain": [
       "0L"
      ]
     },
     "execution_count": 7,
     "metadata": {},
     "output_type": "execute_result"
    }
   ],
   "source": [
    "# TODO\n",
    "df.isnull().sum().sum()"
   ]
  },
  {
   "cell_type": "markdown",
   "metadata": {},
   "source": [
    "### Center and scale"
   ]
  },
  {
   "cell_type": "markdown",
   "metadata": {},
   "source": [
    "62 attitudinal questions on a 7-point scale: 1 = strongly disagree; 4 = neigher disagree nor agree; 7 = strongly agree"
   ]
  },
  {
   "cell_type": "code",
   "execution_count": 8,
   "metadata": {
    "collapsed": false
   },
   "outputs": [],
   "source": [
    "# TODO see class 5 on K nearest neighbor\n",
    "#scale variables so that 7 = 1, 4 = 0, 1 = -1. --> sub 4 then fiv by 3\n",
    "df = (df - 4)/3"
   ]
  },
  {
   "cell_type": "markdown",
   "metadata": {},
   "source": [
    "### Principal Component Analysis (PCA)"
   ]
  },
  {
   "cell_type": "markdown",
   "metadata": {},
   "source": [
    "- (http://scikit-learn.org/stable/modules/generated/sklearn.decomposition.PCA.html)"
   ]
  },
  {
   "cell_type": "code",
   "execution_count": 9,
   "metadata": {
    "collapsed": false
   },
   "outputs": [],
   "source": [
    "# TODO define your feature matrix. need to train it. X = data frame. we don't split b/t train and test because it's not supervised.\n",
    "#nothing we have to train for\n",
    "X = df\n",
    "#we have no d or y\n"
   ]
  },
  {
   "cell_type": "code",
   "execution_count": 10,
   "metadata": {
    "collapsed": false
   },
   "outputs": [
    {
     "data": {
      "text/plain": [
       "<matplotlib.axes._subplots.AxesSubplot at 0xc0a94e0>"
      ]
     },
     "execution_count": 10,
     "metadata": {},
     "output_type": "execute_result"
    },
    {
     "data": {
      "image/png": "[encoded data removed]",
      "text/plain": [
       "<matplotlib.figure.Figure at 0xbebd4a8>"
      ]
     },
     "metadata": {},
     "output_type": "display_data"
    }
   ],
   "source": [
    "_, axes = plt.subplots(1, 3, figsize = (16, 6))\n",
    "\n",
    "X.plot(kind = 'scatter', x = 'Q1', y = 'Q2', ax = axes[0])\n",
    "X.plot(kind = 'scatter', x = 'Q1', y = 'Q3', ax = axes[1])\n",
    "X.plot(kind = 'scatter', x = 'Q2', y = 'Q3', ax = axes[2])\n",
    "#results looks very random but it's not in reality. We need to uncover some truth"
   ]
  },
  {
   "cell_type": "code",
   "execution_count": 11,
   "metadata": {
    "collapsed": false
   },
   "outputs": [],
   "source": [
    "pca = decomposition.PCA().fit(X)\n",
    "#create object to fit matrix X in it"
   ]
  },
  {
   "cell_type": "code",
   "execution_count": 12,
   "metadata": {
    "collapsed": false
   },
   "outputs": [
    {
     "data": {
      "text/plain": [
       "62L"
      ]
     },
     "execution_count": 12,
     "metadata": {},
     "output_type": "execute_result"
    }
   ],
   "source": [
    "pca.n_components_"
   ]
  },
  {
   "cell_type": "markdown",
   "metadata": {},
   "source": [
    "#### Explained Variance"
   ]
  },
  {
   "cell_type": "code",
   "execution_count": 13,
   "metadata": {
    "collapsed": false
   },
   "outputs": [],
   "source": [
    "normalized_eigenvalues = pca.explained_variance_ratio_\n",
    "#want to know how much signal each variable explains"
   ]
  },
  {
   "cell_type": "code",
   "execution_count": 15,
   "metadata": {
    "collapsed": false
   },
   "outputs": [
    {
     "data": {
      "text/plain": [
       "array([ 0.34307738,  0.17691961,  0.09244568,  0.01479303,  0.01348088,\n",
       "        0.01287346,  0.01252905,  0.01229448,  0.0116312 ,  0.01155003,\n",
       "        0.01141081,  0.01088612,  0.01065068,  0.01023675,  0.00980565,\n",
       "        0.00970013,  0.00935484,  0.00912774,  0.00890327,  0.0085995 ,\n",
       "        0.00841132,  0.0082796 ,  0.00811105,  0.00776238,  0.00758853,\n",
       "        0.00740232,  0.00694244,  0.00668767,  0.00654599,  0.0065302 ,\n",
       "        0.00634308,  0.00614083,  0.00605071,  0.00577515,  0.00561425,\n",
       "        0.00548123,  0.0053805 ,  0.00487332,  0.00483682,  0.00474037,\n",
       "        0.00466974,  0.00447012,  0.004349  ,  0.00418052,  0.00401993,\n",
       "        0.00395991,  0.00387482,  0.00370367,  0.00361474,  0.00342931,\n",
       "        0.00328957,  0.00294592,  0.00286619,  0.00283253,  0.00277463,\n",
       "        0.00262121,  0.00246656,  0.00231566,  0.00216999,  0.00197679,\n",
       "        0.00192215,  0.00177897])"
      ]
     },
     "execution_count": 15,
     "metadata": {},
     "output_type": "execute_result"
    }
   ],
   "source": [
    "normalized_eigenvalues\n",
    "#how much of the variance does te variable explain? 34%.\n",
    "#The 2nd new question explains 18%"
   ]
  },
  {
   "cell_type": "code",
   "execution_count": 16,
   "metadata": {
    "collapsed": false
   },
   "outputs": [
    {
     "data": {
      "text/plain": [
       "0.99999999999999978"
      ]
     },
     "execution_count": 16,
     "metadata": {},
     "output_type": "execute_result"
    }
   ],
   "source": [
    "normalized_eigenvalues.sum()\n",
    "#summing all gets us 100%"
   ]
  },
  {
   "cell_type": "markdown",
   "metadata": {},
   "source": [
    "#### Screeplot"
   ]
  },
  {
   "cell_type": "code",
   "execution_count": null,
   "metadata": {
    "collapsed": false
   },
   "outputs": [],
   "source": [
    "plt.plot(normalized_eigenvalues)\n",
    "\n",
    "plt.scatter(x = range(len(normalized_eigenvalues)),\n",
    "    y = normalized_eigenvalues,\n",
    "    marker = '+',\n",
    "    s = 100)\n",
    "\n",
    "plt.xlabel('Principal Component')\n",
    "plt.ylabel('Explained Variance')\n",
    "plt.xlim(-1, len(normalized_eigenvalues))\n",
    "plt.ylim(-.01, max(normalized_eigenvalues) + .01)"
   ]
  },
  {
   "cell_type": "code",
   "execution_count": null,
   "metadata": {
    "collapsed": false
   },
   "outputs": [],
   "source": [
    "cumulated_normalized_eigenvalues = np.cumsum(normalized_eigenvalues)"
   ]
  },
  {
   "cell_type": "code",
   "execution_count": null,
   "metadata": {
    "collapsed": false
   },
   "outputs": [],
   "source": [
    "cumulated_normalized_eigenvalues"
   ]
  },
  {
   "cell_type": "code",
   "execution_count": null,
   "metadata": {
    "collapsed": false
   },
   "outputs": [],
   "source": [
    "plt.plot(cumulated_normalized_eigenvalues)"
   ]
  },
  {
   "cell_type": "markdown",
   "metadata": {},
   "source": [
    "#### Principal Components/Eigenvectors"
   ]
  },
  {
   "cell_type": "code",
   "execution_count": null,
   "metadata": {
    "collapsed": false
   },
   "outputs": [],
   "source": [
    "pca.components_"
   ]
  },
  {
   "cell_type": "code",
   "execution_count": null,
   "metadata": {
    "collapsed": false
   },
   "outputs": [],
   "source": [
    "pca.components_.shape"
   ]
  },
  {
   "cell_type": "markdown",
   "metadata": {},
   "source": [
    "#### `n_components = 3`"
   ]
  },
  {
   "cell_type": "code",
   "execution_count": null,
   "metadata": {
    "collapsed": true
   },
   "outputs": [],
   "source": [
    "X = df\n",
    "\n",
    "# TODO\n",
    "\n",
    "X = pca.transform(X)\n",
    "\n",
    "# TODO"
   ]
  },
  {
   "cell_type": "code",
   "execution_count": null,
   "metadata": {
    "collapsed": false
   },
   "outputs": [],
   "source": [
    "_, axes = plt.subplots(1, 3, figsize = (16, 6))\n",
    "\n",
    "X.plot(kind = 'scatter', x = 'PC0', y = 'PC1', ax = axes[0])\n",
    "X.plot(kind = 'scatter', x = 'PC0', y = 'PC2', ax = axes[1])\n",
    "X.plot(kind = 'scatter', x = 'PC1', y = 'PC2', ax = axes[2])"
   ]
  },
  {
   "cell_type": "code",
   "execution_count": null,
   "metadata": {
    "collapsed": true
   },
   "outputs": [],
   "source": [
    "eigenvector_0 = pca.components_[0]\n",
    "eigenvector_1 = pca.components_[1]\n",
    "eigenvector_2 = pca.components_[2]"
   ]
  },
  {
   "cell_type": "markdown",
   "metadata": {},
   "source": [
    "### k-Means"
   ]
  },
  {
   "cell_type": "markdown",
   "metadata": {},
   "source": [
    "- (http://scikit-learn.org/stable/modules/generated/sklearn.cluster.KMeans.html)"
   ]
  },
  {
   "cell_type": "markdown",
   "metadata": {},
   "source": [
    "#### `n_clusters = 4`"
   ]
  },
  {
   "cell_type": "code",
   "execution_count": null,
   "metadata": {
    "collapsed": false
   },
   "outputs": [],
   "source": [
    "model = cluster.KMeans(n_clusters = 4, random_state = 0).fit(X)\n",
    "\n",
    "cluster_ = pd.Series(model.labels_)\n",
    "\n",
    "color = cluster_.map({0: 'red', 1: 'green', 2: 'blue', 3: 'yellow'})\n",
    "\n",
    "_, axes = plt.subplots(1, 3, figsize = (16, 6))\n",
    "\n",
    "# TODO"
   ]
  },
  {
   "cell_type": "code",
   "execution_count": null,
   "metadata": {
    "collapsed": false
   },
   "outputs": [],
   "source": [
    "cluster_.value_counts()"
   ]
  },
  {
   "cell_type": "code",
   "execution_count": null,
   "metadata": {
    "collapsed": false
   },
   "outputs": [],
   "source": [
    "centroid_78 = pd.Series(pca.inverse_transform(model.cluster_centers_[0]))\n",
    "centroid_75 = pd.Series(pca.inverse_transform(model.cluster_centers_[1]))\n",
    "centroid_65 = pd.Series(pca.inverse_transform(model.cluster_centers_[2]))\n",
    "centroid_32 = pd.Series(pca.inverse_transform(model.cluster_centers_[3]))"
   ]
  },
  {
   "cell_type": "markdown",
   "metadata": {},
   "source": [
    "### Survey Questions"
   ]
  },
  {
   "cell_type": "code",
   "execution_count": null,
   "metadata": {
    "collapsed": false
   },
   "outputs": [],
   "source": [
    "questions = '''I want a car that is trendy\n",
    "I am fashion conscious\n",
    "I do not have the time to worry about car maintenance\n",
    "Basic transportation is all I need\n",
    "Small cars are not prestigious\n",
    "Today's cars last much longer than yesterday's\n",
    "My car must function with total reliability\n",
    "I want a car that is easy to handle\n",
    "I am looking for a car which delivers a smooth ride\n",
    "When I buy a car, dependability is most important to me\n",
    "Today's cars are more efficient than yesterday's\n",
    "I want a car that is fuel economic\n",
    "I love to drive\n",
    "The car I buy must be able to handle long motorway journeys\n",
    "I want the most equipment I can get for my money\n",
    "I want a vehicle that is environmentally friendly\n",
    "I want a car that is nippy and zippy\n",
    "I prefer buying my next car from the same car manufacturer\n",
    "I wish there were stricter exhaust regulations\n",
    "One should not spend beyond ones means\n",
    "Good aerodynamics help fuel economy\n",
    "Small cars are much safer nowadays\n",
    "Buying a car on a lower interest rate does not interest me\n",
    "I want a car that drives well on country roads\n",
    "I consider myself an authority on cars\n",
    "Small cars are for kids\n",
    "Small cars are for women\n",
    "Domestic made is best made\n",
    "A car is a fashion accessory to me\n",
    "Having a masculine car is important to me\n",
    "I want a comfortable car\n",
    "City driving is my main concern\n",
    "Fuel economy comes at the expense of performance\n",
    "I want a practical car\n",
    "I have always been fascinated by cars which have a cult following\n",
    "I like to believe that the car I drive will one day become a cult car\n",
    "I prefer cars with high performance\n",
    "I do not believe that a Swatch branded car will be successful\n",
    "Small cars take up less room in today's traffic\n",
    "I prefer small cars\n",
    "In today's world it is anti-social to drive big cars\n",
    "Many manufacturers do not really care about their customers needs\n",
    "I would rather deal with a manufacturer's rep than a salesperson\n",
    "I want to buy a car that makes a statement about me\n",
    "A car is an extension of oneself\n",
    "I always want the latest style and design in a vehicle\n",
    "When it comes to cars my heart rules my head\n",
    "My car must have a very individual interior\n",
    "Nowadays smart cars are mainly foreign brands\n",
    "People ought to buy domestic products for the good of the country\n",
    "I want a car equipped with the latest features and technology\n",
    "I have a relationship with my car\n",
    "Quality and reliability of products are my main concerns\n",
    "Image is not important to me in a car\n",
    "Cars all look the same these days\n",
    "Most environmentally friendly products do not perform as well as those they replaced\n",
    "I want a car that has character\n",
    "For me a car is a symbol of freedom and independence\n",
    "I am interested in car maintenance\n",
    "When buying a car I only consider a national make\n",
    "The government should implement policies that favor public transportation\n",
    "The government is right to tax large cars more heavily than small cars'''\n",
    "\n",
    "questions = pd.Series(questions.splitlines())\n",
    "\n",
    "questions"
   ]
  },
  {
   "cell_type": "code",
   "execution_count": null,
   "metadata": {
    "collapsed": false
   },
   "outputs": [],
   "source": [
    "def interpret(v):\n",
    "    # TODO"
   ]
  },
  {
   "cell_type": "markdown",
   "metadata": {},
   "source": [
    "#### Interpreting the principal components"
   ]
  },
  {
   "cell_type": "code",
   "execution_count": null,
   "metadata": {
    "collapsed": false
   },
   "outputs": [],
   "source": [
    "interpret(eigenvector_0)"
   ]
  },
  {
   "cell_type": "code",
   "execution_count": null,
   "metadata": {
    "collapsed": false
   },
   "outputs": [],
   "source": [
    "interpret(eigenvector_1)"
   ]
  },
  {
   "cell_type": "code",
   "execution_count": null,
   "metadata": {
    "collapsed": false
   },
   "outputs": [],
   "source": [
    "interpret(eigenvector_2)"
   ]
  },
  {
   "cell_type": "markdown",
   "metadata": {},
   "source": [
    "#### Interpreting the clusters (that's the market segmentation)"
   ]
  },
  {
   "cell_type": "code",
   "execution_count": null,
   "metadata": {
    "collapsed": false
   },
   "outputs": [],
   "source": [
    "interpret(centroid_78)"
   ]
  },
  {
   "cell_type": "code",
   "execution_count": null,
   "metadata": {
    "collapsed": false
   },
   "outputs": [],
   "source": [
    "interpret(centroid_75)"
   ]
  },
  {
   "cell_type": "code",
   "execution_count": null,
   "metadata": {
    "collapsed": false
   },
   "outputs": [],
   "source": [
    "interpret(centroid_65)"
   ]
  },
  {
   "cell_type": "code",
   "execution_count": null,
   "metadata": {
    "collapsed": false
   },
   "outputs": [],
   "source": [
    "interpret(centroid_32)"
   ]
  }
 ],
 "metadata": {
  "anaconda-cloud": {},
  "kernelspec": {
   "display_name": "Python [conda root]",
   "language": "python",
   "name": "conda-root-py"
  },
  "language_info": {
   "codemirror_mode": {
    "name": "ipython",
    "version": 2
   },
   "file_extension": ".py",
   "mimetype": "text/x-python",
   "name": "python",
   "nbconvert_exporter": "python",
   "pygments_lexer": "ipython2",
   "version": "2.7.12"
  }
 },
 "nbformat": 4,
 "nbformat_minor": 0
}
