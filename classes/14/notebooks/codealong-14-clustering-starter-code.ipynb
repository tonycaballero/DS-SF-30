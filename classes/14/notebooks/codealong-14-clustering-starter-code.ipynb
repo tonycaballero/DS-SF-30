{
 "cells": [
  {
   "cell_type": "markdown",
   "metadata": {},
   "source": [
    "# DS-SF-30 | Codealong 14: Clustering"
   ]
  },
  {
   "cell_type": "markdown",
   "metadata": {},
   "source": [
    "## Marketing Segmentation with the Ford Ka"
   ]
  },
  {
   "cell_type": "code",
<<<<<<< HEAD
   "execution_count": 1,
=======
   "execution_count": null,
>>>>>>> upstream/master
   "metadata": {
    "collapsed": true
   },
   "outputs": [],
   "source": [
    "import os\n",
    "\n",
    "import numpy as np\n",
    "import pandas as pd\n",
    "pd.set_option('display.max_rows', 10)\n",
    "pd.set_option('display.notebook_repr_html', True)\n",
    "pd.set_option('display.max_columns', 10)\n",
    "\n",
    "from sklearn import decomposition, cluster\n",
    "\n",
    "import matplotlib.pyplot as plt\n",
    "%matplotlib inline\n",
    "plt.style.use('ggplot')"
   ]
  },
  {
   "cell_type": "code",
<<<<<<< HEAD
   "execution_count": 2,
=======
   "execution_count": null,
>>>>>>> upstream/master
   "metadata": {
    "collapsed": false
   },
   "outputs": [],
   "source": [
    "df = pd.read_csv(os.path.join('..', 'datasets', 'dataset-14-ford-ka.csv'), index_col = 'id')"
   ]
  },
  {
   "cell_type": "code",
<<<<<<< HEAD
   "execution_count": 5,
   "metadata": {
    "collapsed": false
   },
   "outputs": [
    {
     "data": {
      "text/html": [
       "<div>\n",
       "<table border=\"1\" class=\"dataframe\">\n",
       "  <thead>\n",
       "    <tr style=\"text-align: right;\">\n",
       "      <th></th>\n",
       "      <th>Q1</th>\n",
       "      <th>Q2</th>\n",
       "      <th>Q3</th>\n",
       "      <th>Q4</th>\n",
       "      <th>Q5</th>\n",
       "      <th>...</th>\n",
       "      <th>Q58</th>\n",
       "      <th>Q59</th>\n",
       "      <th>Q60</th>\n",
       "      <th>Q61</th>\n",
       "      <th>Q62</th>\n",
       "    </tr>\n",
       "    <tr>\n",
       "      <th>id</th>\n",
       "      <th></th>\n",
       "      <th></th>\n",
       "      <th></th>\n",
       "      <th></th>\n",
       "      <th></th>\n",
       "      <th></th>\n",
       "      <th></th>\n",
       "      <th></th>\n",
       "      <th></th>\n",
       "      <th></th>\n",
       "      <th></th>\n",
       "    </tr>\n",
       "  </thead>\n",
       "  <tbody>\n",
       "    <tr>\n",
       "      <th>1</th>\n",
       "      <td>6</td>\n",
       "      <td>2</td>\n",
       "      <td>4</td>\n",
       "      <td>3</td>\n",
       "      <td>1</td>\n",
       "      <td>...</td>\n",
       "      <td>3</td>\n",
       "      <td>4</td>\n",
       "      <td>4</td>\n",
       "      <td>4</td>\n",
       "      <td>2</td>\n",
       "    </tr>\n",
       "    <tr>\n",
       "      <th>2</th>\n",
       "      <td>7</td>\n",
       "      <td>7</td>\n",
       "      <td>7</td>\n",
       "      <td>5</td>\n",
       "      <td>4</td>\n",
       "      <td>...</td>\n",
       "      <td>4</td>\n",
       "      <td>3</td>\n",
       "      <td>5</td>\n",
       "      <td>4</td>\n",
       "      <td>5</td>\n",
       "    </tr>\n",
       "    <tr>\n",
       "      <th>3</th>\n",
       "      <td>5</td>\n",
       "      <td>4</td>\n",
       "      <td>6</td>\n",
       "      <td>5</td>\n",
       "      <td>7</td>\n",
       "      <td>...</td>\n",
       "      <td>4</td>\n",
       "      <td>5</td>\n",
       "      <td>3</td>\n",
       "      <td>4</td>\n",
       "      <td>4</td>\n",
       "    </tr>\n",
       "    <tr>\n",
       "      <th>4</th>\n",
       "      <td>4</td>\n",
       "      <td>2</td>\n",
       "      <td>5</td>\n",
       "      <td>4</td>\n",
       "      <td>2</td>\n",
       "      <td>...</td>\n",
       "      <td>2</td>\n",
       "      <td>5</td>\n",
       "      <td>5</td>\n",
       "      <td>5</td>\n",
       "      <td>3</td>\n",
       "    </tr>\n",
       "    <tr>\n",
       "      <th>5</th>\n",
       "      <td>5</td>\n",
       "      <td>5</td>\n",
       "      <td>7</td>\n",
       "      <td>6</td>\n",
       "      <td>7</td>\n",
       "      <td>...</td>\n",
       "      <td>5</td>\n",
       "      <td>4</td>\n",
       "      <td>3</td>\n",
       "      <td>4</td>\n",
       "      <td>5</td>\n",
       "    </tr>\n",
       "    <tr>\n",
       "      <th>...</th>\n",
       "      <td>...</td>\n",
       "      <td>...</td>\n",
       "      <td>...</td>\n",
       "      <td>...</td>\n",
       "      <td>...</td>\n",
       "      <td>...</td>\n",
       "      <td>...</td>\n",
       "      <td>...</td>\n",
       "      <td>...</td>\n",
       "      <td>...</td>\n",
       "      <td>...</td>\n",
       "    </tr>\n",
       "    <tr>\n",
       "      <th>246</th>\n",
       "      <td>6</td>\n",
       "      <td>7</td>\n",
       "      <td>5</td>\n",
       "      <td>5</td>\n",
       "      <td>3</td>\n",
       "      <td>...</td>\n",
       "      <td>5</td>\n",
       "      <td>2</td>\n",
       "      <td>3</td>\n",
       "      <td>4</td>\n",
       "      <td>5</td>\n",
       "    </tr>\n",
       "    <tr>\n",
       "      <th>247</th>\n",
       "      <td>4</td>\n",
       "      <td>3</td>\n",
       "      <td>6</td>\n",
       "      <td>7</td>\n",
       "      <td>6</td>\n",
       "      <td>...</td>\n",
       "      <td>2</td>\n",
       "      <td>5</td>\n",
       "      <td>4</td>\n",
       "      <td>4</td>\n",
       "      <td>4</td>\n",
       "    </tr>\n",
       "    <tr>\n",
       "      <th>248</th>\n",
       "      <td>6</td>\n",
       "      <td>5</td>\n",
       "      <td>3</td>\n",
       "      <td>1</td>\n",
       "      <td>4</td>\n",
       "      <td>...</td>\n",
       "      <td>6</td>\n",
       "      <td>6</td>\n",
       "      <td>1</td>\n",
       "      <td>2</td>\n",
       "      <td>2</td>\n",
       "    </tr>\n",
       "    <tr>\n",
       "      <th>249</th>\n",
       "      <td>3</td>\n",
       "      <td>3</td>\n",
       "      <td>6</td>\n",
       "      <td>7</td>\n",
       "      <td>6</td>\n",
       "      <td>...</td>\n",
       "      <td>5</td>\n",
       "      <td>4</td>\n",
       "      <td>5</td>\n",
       "      <td>5</td>\n",
       "      <td>3</td>\n",
       "    </tr>\n",
       "    <tr>\n",
       "      <th>250</th>\n",
       "      <td>7</td>\n",
       "      <td>6</td>\n",
       "      <td>3</td>\n",
       "      <td>3</td>\n",
       "      <td>4</td>\n",
       "      <td>...</td>\n",
       "      <td>5</td>\n",
       "      <td>5</td>\n",
       "      <td>5</td>\n",
       "      <td>3</td>\n",
       "      <td>6</td>\n",
       "    </tr>\n",
       "  </tbody>\n",
       "</table>\n",
       "<p>250 rows × 62 columns</p>\n",
       "</div>"
      ],
      "text/plain": [
       "     Q1  Q2  Q3  Q4  Q5 ...   Q58  Q59  Q60  Q61  Q62\n",
       "id                      ...                          \n",
       "1     6   2   4   3   1 ...     3    4    4    4    2\n",
       "2     7   7   7   5   4 ...     4    3    5    4    5\n",
       "3     5   4   6   5   7 ...     4    5    3    4    4\n",
       "4     4   2   5   4   2 ...     2    5    5    5    3\n",
       "5     5   5   7   6   7 ...     5    4    3    4    5\n",
       "..   ..  ..  ..  ..  .. ...   ...  ...  ...  ...  ...\n",
       "246   6   7   5   5   3 ...     5    2    3    4    5\n",
       "247   4   3   6   7   6 ...     2    5    4    4    4\n",
       "248   6   5   3   1   4 ...     6    6    1    2    2\n",
       "249   3   3   6   7   6 ...     5    4    5    5    3\n",
       "250   7   6   3   3   4 ...     5    5    5    3    6\n",
       "\n",
       "[250 rows x 62 columns]"
      ]
     },
     "execution_count": 5,
     "metadata": {},
     "output_type": "execute_result"
    }
   ],
=======
   "execution_count": null,
   "metadata": {
    "collapsed": false
   },
   "outputs": [],
>>>>>>> upstream/master
   "source": [
    "df"
   ]
  },
  {
   "cell_type": "markdown",
   "metadata": {},
   "source": [
    "### Checking for `NaN`"
   ]
  },
  {
   "cell_type": "code",
<<<<<<< HEAD
   "execution_count": 7,
   "metadata": {
    "collapsed": false
   },
   "outputs": [
    {
     "data": {
      "text/plain": [
       "0L"
      ]
     },
     "execution_count": 7,
     "metadata": {},
     "output_type": "execute_result"
    }
   ],
   "source": [
    "# TODO\n",
    "df.isnull().sum().sum()"
=======
   "execution_count": null,
   "metadata": {
    "collapsed": false
   },
   "outputs": [],
   "source": [
    "# TODO"
>>>>>>> upstream/master
   ]
  },
  {
   "cell_type": "markdown",
   "metadata": {},
   "source": [
    "### Center and scale"
   ]
  },
  {
   "cell_type": "markdown",
   "metadata": {},
   "source": [
    "62 attitudinal questions on a 7-point scale: 1 = strongly disagree; 4 = neigher disagree nor agree; 7 = strongly agree"
   ]
  },
  {
   "cell_type": "code",
<<<<<<< HEAD
   "execution_count": 8,
=======
   "execution_count": null,
>>>>>>> upstream/master
   "metadata": {
    "collapsed": false
   },
   "outputs": [],
   "source": [
<<<<<<< HEAD
    "# TODO see class 5 on K nearest neighbor\n",
    "#scale variables so that 7 = 1, 4 = 0, 1 = -1. --> sub 4 then fiv by 3\n",
    "df = (df - 4)/3"
=======
    "# TODO"
>>>>>>> upstream/master
   ]
  },
  {
   "cell_type": "markdown",
   "metadata": {},
   "source": [
    "### Principal Component Analysis (PCA)"
   ]
  },
  {
   "cell_type": "markdown",
   "metadata": {},
   "source": [
    "- (http://scikit-learn.org/stable/modules/generated/sklearn.decomposition.PCA.html)"
   ]
  },
  {
   "cell_type": "code",
<<<<<<< HEAD
   "execution_count": 9,
=======
   "execution_count": null,
>>>>>>> upstream/master
   "metadata": {
    "collapsed": false
   },
   "outputs": [],
   "source": [
<<<<<<< HEAD
    "# TODO define your feature matrix. need to train it. X = data frame. we don't split b/t train and test because it's not supervised.\n",
    "#nothing we have to train for\n",
    "X = df\n",
    "#we have no d or y\n"
=======
    "# TODO"
>>>>>>> upstream/master
   ]
  },
  {
   "cell_type": "code",
<<<<<<< HEAD
   "execution_count": 10,
   "metadata": {
    "collapsed": false
   },
   "outputs": [
    {
     "data": {
      "text/plain": [
       "<matplotlib.axes._subplots.AxesSubplot at 0xc0a94e0>"
      ]
     },
     "execution_count": 10,
     "metadata": {},
     "output_type": "execute_result"
    },
    {
     "data": {
      "image/png": "iVBORw0KGgoAAAANSUhEUgAABTwAAAIeCAYAAACWUMAkAAAABHNCSVQICAgIfAhkiAAAAAlwSFlz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\n",
      "text/plain": [
       "<matplotlib.figure.Figure at 0xbebd4a8>"
      ]
     },
     "metadata": {},
     "output_type": "display_data"
    }
   ],
=======
   "execution_count": null,
   "metadata": {
    "collapsed": false
   },
   "outputs": [],
>>>>>>> upstream/master
   "source": [
    "_, axes = plt.subplots(1, 3, figsize = (16, 6))\n",
    "\n",
    "X.plot(kind = 'scatter', x = 'Q1', y = 'Q2', ax = axes[0])\n",
    "X.plot(kind = 'scatter', x = 'Q1', y = 'Q3', ax = axes[1])\n",
<<<<<<< HEAD
    "X.plot(kind = 'scatter', x = 'Q2', y = 'Q3', ax = axes[2])\n",
    "#results looks very random but it's not in reality. We need to uncover some truth"
=======
    "X.plot(kind = 'scatter', x = 'Q2', y = 'Q3', ax = axes[2])"
>>>>>>> upstream/master
   ]
  },
  {
   "cell_type": "code",
<<<<<<< HEAD
   "execution_count": 11,
=======
   "execution_count": null,
>>>>>>> upstream/master
   "metadata": {
    "collapsed": false
   },
   "outputs": [],
   "source": [
<<<<<<< HEAD
    "pca = decomposition.PCA().fit(X)\n",
    "#create object to fit matrix X in it"
=======
    "pca = decomposition.PCA().fit(X)"
>>>>>>> upstream/master
   ]
  },
  {
   "cell_type": "code",
<<<<<<< HEAD
   "execution_count": 12,
   "metadata": {
    "collapsed": false
   },
   "outputs": [
    {
     "data": {
      "text/plain": [
       "62L"
      ]
     },
     "execution_count": 12,
     "metadata": {},
     "output_type": "execute_result"
    }
   ],
=======
   "execution_count": null,
   "metadata": {
    "collapsed": false
   },
   "outputs": [],
>>>>>>> upstream/master
   "source": [
    "pca.n_components_"
   ]
  },
  {
   "cell_type": "markdown",
   "metadata": {},
   "source": [
    "#### Explained Variance"
   ]
  },
  {
   "cell_type": "code",
<<<<<<< HEAD
   "execution_count": 13,
=======
   "execution_count": null,
>>>>>>> upstream/master
   "metadata": {
    "collapsed": false
   },
   "outputs": [],
   "source": [
<<<<<<< HEAD
    "normalized_eigenvalues = pca.explained_variance_ratio_\n",
    "#want to know how much signal each variable explains"
=======
    "normalized_eigenvalues = pca.explained_variance_ratio_"
>>>>>>> upstream/master
   ]
  },
  {
   "cell_type": "code",
<<<<<<< HEAD
   "execution_count": 15,
   "metadata": {
    "collapsed": false
   },
   "outputs": [
    {
     "data": {
      "text/plain": [
       "array([ 0.34307738,  0.17691961,  0.09244568,  0.01479303,  0.01348088,\n",
       "        0.01287346,  0.01252905,  0.01229448,  0.0116312 ,  0.01155003,\n",
       "        0.01141081,  0.01088612,  0.01065068,  0.01023675,  0.00980565,\n",
       "        0.00970013,  0.00935484,  0.00912774,  0.00890327,  0.0085995 ,\n",
       "        0.00841132,  0.0082796 ,  0.00811105,  0.00776238,  0.00758853,\n",
       "        0.00740232,  0.00694244,  0.00668767,  0.00654599,  0.0065302 ,\n",
       "        0.00634308,  0.00614083,  0.00605071,  0.00577515,  0.00561425,\n",
       "        0.00548123,  0.0053805 ,  0.00487332,  0.00483682,  0.00474037,\n",
       "        0.00466974,  0.00447012,  0.004349  ,  0.00418052,  0.00401993,\n",
       "        0.00395991,  0.00387482,  0.00370367,  0.00361474,  0.00342931,\n",
       "        0.00328957,  0.00294592,  0.00286619,  0.00283253,  0.00277463,\n",
       "        0.00262121,  0.00246656,  0.00231566,  0.00216999,  0.00197679,\n",
       "        0.00192215,  0.00177897])"
      ]
     },
     "execution_count": 15,
     "metadata": {},
     "output_type": "execute_result"
    }
   ],
   "source": [
    "normalized_eigenvalues\n",
    "#how much of the variance does te variable explain? 34%.\n",
    "#The 2nd new question explains 18%"
=======
   "execution_count": null,
   "metadata": {
    "collapsed": false
   },
   "outputs": [],
   "source": [
    "normalized_eigenvalues"
>>>>>>> upstream/master
   ]
  },
  {
   "cell_type": "code",
<<<<<<< HEAD
   "execution_count": 16,
   "metadata": {
    "collapsed": false
   },
   "outputs": [
    {
     "data": {
      "text/plain": [
       "0.99999999999999978"
      ]
     },
     "execution_count": 16,
     "metadata": {},
     "output_type": "execute_result"
    }
   ],
   "source": [
    "normalized_eigenvalues.sum()\n",
    "#summing all gets us 100%"
=======
   "execution_count": null,
   "metadata": {
    "collapsed": false
   },
   "outputs": [],
   "source": [
    "normalized_eigenvalues.sum()"
>>>>>>> upstream/master
   ]
  },
  {
   "cell_type": "markdown",
   "metadata": {},
   "source": [
    "#### Screeplot"
   ]
  },
  {
   "cell_type": "code",
<<<<<<< HEAD
   "execution_count": 20,
   "metadata": {
    "collapsed": false
   },
   "outputs": [
    {
     "data": {
      "text/plain": [
       "(-0.01, 0.35307737877240203)"
      ]
     },
     "execution_count": 20,
     "metadata": {},
     "output_type": "execute_result"
    },
    {
     "data": {
      "image/png": "iVBORw0KGgoAAAANSUhEUgAAAigAAAGACAYAAACHqpmbAAAABHNCSVQICAgIfAhkiAAAAAlwSFlz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\nfOEnHecvEAAAAABJRU5ErkJggg==\n",
      "text/plain": [
       "<matplotlib.figure.Figure at 0xc418e10>"
      ]
     },
     "metadata": {},
     "output_type": "display_data"
    }
   ],
=======
   "execution_count": null,
   "metadata": {
    "collapsed": false
   },
   "outputs": [],
>>>>>>> upstream/master
   "source": [
    "plt.plot(normalized_eigenvalues)\n",
    "\n",
    "plt.scatter(x = range(len(normalized_eigenvalues)),\n",
    "    y = normalized_eigenvalues,\n",
    "    marker = '+',\n",
    "    s = 100)\n",
    "\n",
    "plt.xlabel('Principal Component')\n",
    "plt.ylabel('Explained Variance')\n",
    "plt.xlim(-1, len(normalized_eigenvalues))\n",
    "plt.ylim(-.01, max(normalized_eigenvalues) + .01)"
   ]
  },
  {
   "cell_type": "code",
<<<<<<< HEAD
   "execution_count": 17,
=======
   "execution_count": null,
>>>>>>> upstream/master
   "metadata": {
    "collapsed": false
   },
   "outputs": [],
   "source": [
    "cumulated_normalized_eigenvalues = np.cumsum(normalized_eigenvalues)"
   ]
  },
  {
   "cell_type": "code",
<<<<<<< HEAD
   "execution_count": 18,
   "metadata": {
    "collapsed": false
   },
   "outputs": [
    {
     "data": {
      "text/plain": [
       "array([ 0.34307738,  0.51999699,  0.61244267,  0.6272357 ,  0.64071659,\n",
       "        0.65359004,  0.66611909,  0.67841357,  0.69004477,  0.7015948 ,\n",
       "        0.71300561,  0.72389173,  0.73454241,  0.74477916,  0.75458481,\n",
       "        0.76428494,  0.77363979,  0.78276753,  0.79167079,  0.8002703 ,\n",
       "        0.80868162,  0.81696122,  0.82507227,  0.83283465,  0.84042318,\n",
       "        0.8478255 ,  0.85476794,  0.86145561,  0.8680016 ,  0.87453181,\n",
       "        0.88087488,  0.88701572,  0.89306643,  0.89884158,  0.90445583,\n",
       "        0.90993706,  0.91531756,  0.92019088,  0.9250277 ,  0.92976807,\n",
       "        0.93443781,  0.93890794,  0.94325694,  0.94743745,  0.95145738,\n",
       "        0.9554173 ,  0.95929212,  0.96299579,  0.96661053,  0.97003984,\n",
       "        0.97332941,  0.97627533,  0.97914152,  0.98197405,  0.98474868,\n",
       "        0.98736989,  0.98983645,  0.9921521 ,  0.99432209,  0.99629887,\n",
       "        0.99822103,  1.        ])"
      ]
     },
     "execution_count": 18,
     "metadata": {},
     "output_type": "execute_result"
    }
   ],
=======
   "execution_count": null,
   "metadata": {
    "collapsed": false
   },
   "outputs": [],
>>>>>>> upstream/master
   "source": [
    "cumulated_normalized_eigenvalues"
   ]
  },
  {
   "cell_type": "code",
<<<<<<< HEAD
   "execution_count": 19,
   "metadata": {
    "collapsed": false
   },
   "outputs": [
    {
     "data": {
      "text/plain": [
       "[<matplotlib.lines.Line2D at 0xc4ceda0>]"
      ]
     },
     "execution_count": 19,
     "metadata": {},
     "output_type": "execute_result"
    },
    {
     "data": {
      "image/png": "iVBORw0KGgoAAAANSUhEUgAAAg8AAAFqCAYAAACd9LnWAAAABHNCSVQICAgIfAhkiAAAAAlwSFlz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\n",
      "text/plain": [
       "<matplotlib.figure.Figure at 0xbe0c400>"
      ]
     },
     "metadata": {},
     "output_type": "display_data"
    }
   ],
=======
   "execution_count": null,
   "metadata": {
    "collapsed": false
   },
   "outputs": [],
>>>>>>> upstream/master
   "source": [
    "plt.plot(cumulated_normalized_eigenvalues)"
   ]
  },
  {
   "cell_type": "markdown",
   "metadata": {},
   "source": [
    "#### Principal Components/Eigenvectors"
   ]
  },
  {
   "cell_type": "code",
<<<<<<< HEAD
   "execution_count": 21,
   "metadata": {
    "collapsed": false
   },
   "outputs": [
    {
     "data": {
      "text/plain": [
       "array([[-0.12577537, -0.2491406 ,  0.03645547, ..., -0.05007606,\n",
       "        -0.07448159, -0.05265921],\n",
       "       [-0.05696789,  0.0755372 ,  0.17052116, ...,  0.00357045,\n",
       "         0.02936008,  0.03368754],\n",
       "       [-0.25562272, -0.15818743,  0.07256437, ...,  0.25369009,\n",
       "         0.22075579,  0.20049613],\n",
       "       ..., \n",
       "       [ 0.18300038, -0.10765282, -0.1692844 , ...,  0.05835726,\n",
       "         0.03041397,  0.070239  ],\n",
       "       [-0.03850797,  0.10657318, -0.06550309, ...,  0.12311425,\n",
       "        -0.02999196,  0.09988279],\n",
       "       [ 0.11051957,  0.00112376, -0.06794346, ..., -0.0230528 ,\n",
       "         0.10056367,  0.07766536]])"
      ]
     },
     "execution_count": 21,
     "metadata": {},
     "output_type": "execute_result"
    }
   ],
=======
   "execution_count": null,
   "metadata": {
    "collapsed": false
   },
   "outputs": [],
>>>>>>> upstream/master
   "source": [
    "pca.components_"
   ]
  },
  {
   "cell_type": "code",
<<<<<<< HEAD
   "execution_count": 22,
   "metadata": {
    "collapsed": false
   },
   "outputs": [
    {
     "data": {
      "text/plain": [
       "(62L, 62L)"
      ]
     },
     "execution_count": 22,
     "metadata": {},
     "output_type": "execute_result"
    }
   ],
=======
   "execution_count": null,
   "metadata": {
    "collapsed": false
   },
   "outputs": [],
>>>>>>> upstream/master
   "source": [
    "pca.components_.shape"
   ]
  },
  {
   "cell_type": "markdown",
   "metadata": {},
   "source": [
    "#### `n_components = 3`"
   ]
  },
  {
   "cell_type": "code",
<<<<<<< HEAD
   "execution_count": 26,
   "metadata": {
    "collapsed": false
   },
   "outputs": [
    {
     "data": {
      "text/plain": [
       "array([ 0.34307738,  0.17691961,  0.09244568])"
      ]
     },
     "execution_count": 26,
     "metadata": {},
     "output_type": "execute_result"
    }
   ],
   "source": [
    "X = df\n",
    "\n",
    "# want to use less components which means we'll lose some informatoin so we'll run PCA on it\n",
    "\n",
    "pca = decomposition.PCA( n_components = 3).fit(X)\n",
    "X = pca.transform(X)\n",
    "\n",
    "#X isn't a df anymore. it's a NumPy array\n",
    "X = pd.DataFrame({'PC0':X.T[0]})\n",
    "# TODO do same as before, just keep the first 3\n",
    "pca.explained_variance_ratio_"
=======
   "execution_count": null,
   "metadata": {
    "collapsed": true
   },
   "outputs": [],
   "source": [
    "X = df\n",
    "\n",
    "# TODO\n",
    "\n",
    "X = pca.transform(X)\n",
    "\n",
    "# TODO"
>>>>>>> upstream/master
   ]
  },
  {
   "cell_type": "code",
   "execution_count": null,
   "metadata": {
    "collapsed": false
   },
   "outputs": [],
   "source": [
    "_, axes = plt.subplots(1, 3, figsize = (16, 6))\n",
    "\n",
    "X.plot(kind = 'scatter', x = 'PC0', y = 'PC1', ax = axes[0])\n",
    "X.plot(kind = 'scatter', x = 'PC0', y = 'PC2', ax = axes[1])\n",
    "X.plot(kind = 'scatter', x = 'PC1', y = 'PC2', ax = axes[2])"
   ]
  },
  {
   "cell_type": "code",
   "execution_count": null,
   "metadata": {
    "collapsed": true
   },
   "outputs": [],
   "source": [
    "eigenvector_0 = pca.components_[0]\n",
    "eigenvector_1 = pca.components_[1]\n",
    "eigenvector_2 = pca.components_[2]"
   ]
  },
  {
   "cell_type": "markdown",
   "metadata": {},
   "source": [
    "### k-Means"
   ]
  },
  {
   "cell_type": "markdown",
   "metadata": {},
   "source": [
    "- (http://scikit-learn.org/stable/modules/generated/sklearn.cluster.KMeans.html)"
   ]
  },
  {
   "cell_type": "markdown",
   "metadata": {},
   "source": [
    "#### `n_clusters = 4`"
   ]
  },
  {
   "cell_type": "code",
<<<<<<< HEAD
   "execution_count": 29,
   "metadata": {
    "collapsed": false
   },
   "outputs": [
    {
     "ename": "AttributeError",
     "evalue": "'numpy.ndarray' object has no attribute 'plot'",
     "output_type": "error",
     "traceback": [
      "\u001b[0;31m\u001b[0m",
      "\u001b[0;31mAttributeError\u001b[0mTraceback (most recent call last)",
      "\u001b[0;32m<ipython-input-29-78b9ecc2d4f3>\u001b[0m in \u001b[0;36m<module>\u001b[0;34m()\u001b[0m\n\u001b[1;32m      7\u001b[0m \u001b[0m_\u001b[0m\u001b[1;33m,\u001b[0m \u001b[0maxes\u001b[0m \u001b[1;33m=\u001b[0m \u001b[0mplt\u001b[0m\u001b[1;33m.\u001b[0m\u001b[0msubplots\u001b[0m\u001b[1;33m(\u001b[0m\u001b[1;36m1\u001b[0m\u001b[1;33m,\u001b[0m \u001b[1;36m3\u001b[0m\u001b[1;33m,\u001b[0m \u001b[0mfigsize\u001b[0m \u001b[1;33m=\u001b[0m \u001b[1;33m(\u001b[0m\u001b[1;36m16\u001b[0m\u001b[1;33m,\u001b[0m \u001b[1;36m6\u001b[0m\u001b[1;33m)\u001b[0m\u001b[1;33m)\u001b[0m\u001b[1;33m\u001b[0m\u001b[0m\n\u001b[1;32m      8\u001b[0m \u001b[1;33m\u001b[0m\u001b[0m\n\u001b[0;32m----> 9\u001b[0;31m \u001b[0mX\u001b[0m\u001b[1;33m.\u001b[0m\u001b[0mplot\u001b[0m\u001b[1;33m(\u001b[0m\u001b[0mkind\u001b[0m \u001b[1;33m=\u001b[0m \u001b[1;34m'scatter'\u001b[0m\u001b[1;33m,\u001b[0m \u001b[0mx\u001b[0m \u001b[1;33m=\u001b[0m \u001b[1;34m'PC0'\u001b[0m\u001b[1;33m,\u001b[0m \u001b[0my\u001b[0m \u001b[1;33m=\u001b[0m \u001b[1;34m'PC1'\u001b[0m\u001b[1;33m,\u001b[0m \u001b[0mc\u001b[0m \u001b[1;33m=\u001b[0m \u001b[0mcolor\u001b[0m\u001b[1;33m,\u001b[0m \u001b[0max\u001b[0m \u001b[1;33m=\u001b[0m \u001b[0maxes\u001b[0m\u001b[1;33m[\u001b[0m\u001b[1;36m0\u001b[0m\u001b[1;33m]\u001b[0m\u001b[1;33m)\u001b[0m\u001b[1;33m\u001b[0m\u001b[0m\n\u001b[0m\u001b[1;32m     10\u001b[0m \u001b[0mX\u001b[0m\u001b[1;33m.\u001b[0m\u001b[0mplot\u001b[0m\u001b[1;33m(\u001b[0m\u001b[0mkind\u001b[0m \u001b[1;33m=\u001b[0m \u001b[1;34m'scatter'\u001b[0m\u001b[1;33m,\u001b[0m \u001b[0mx\u001b[0m \u001b[1;33m=\u001b[0m \u001b[1;34m'PC0'\u001b[0m\u001b[1;33m,\u001b[0m \u001b[0my\u001b[0m \u001b[1;33m=\u001b[0m \u001b[1;34m'PC2'\u001b[0m\u001b[1;33m,\u001b[0m  \u001b[0mc\u001b[0m \u001b[1;33m=\u001b[0m \u001b[0mcolor\u001b[0m\u001b[1;33m,\u001b[0m \u001b[0max\u001b[0m \u001b[1;33m=\u001b[0m \u001b[0maxes\u001b[0m\u001b[1;33m[\u001b[0m\u001b[1;36m1\u001b[0m\u001b[1;33m]\u001b[0m\u001b[1;33m)\u001b[0m\u001b[1;33m\u001b[0m\u001b[0m\n\u001b[1;32m     11\u001b[0m \u001b[0mX\u001b[0m\u001b[1;33m.\u001b[0m\u001b[0mplot\u001b[0m\u001b[1;33m(\u001b[0m\u001b[0mkind\u001b[0m \u001b[1;33m=\u001b[0m \u001b[1;34m'scatter'\u001b[0m\u001b[1;33m,\u001b[0m \u001b[0mx\u001b[0m \u001b[1;33m=\u001b[0m \u001b[1;34m'PC1'\u001b[0m\u001b[1;33m,\u001b[0m \u001b[0my\u001b[0m \u001b[1;33m=\u001b[0m \u001b[1;34m'PC2'\u001b[0m\u001b[1;33m,\u001b[0m  \u001b[0mc\u001b[0m \u001b[1;33m=\u001b[0m \u001b[0mcolor\u001b[0m\u001b[1;33m,\u001b[0m \u001b[0max\u001b[0m \u001b[1;33m=\u001b[0m \u001b[0maxes\u001b[0m\u001b[1;33m[\u001b[0m\u001b[1;36m2\u001b[0m\u001b[1;33m]\u001b[0m\u001b[1;33m)\u001b[0m\u001b[1;33m\u001b[0m\u001b[0m\n",
      "\u001b[0;31mAttributeError\u001b[0m: 'numpy.ndarray' object has no attribute 'plot'"
     ]
    },
    {
     "data": {
      "image/png": "iVBORw0KGgoAAAANSUhEUgAABRgAAAIFCAYAAAC595HWAAAABHNCSVQICAgIfAhkiAAAAAlwSFlz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\nAAAAQDYDIwAAAACQzcAIAAAAAGT7f7n+bXtvDfeeAAAAAElFTkSuQmCC\n",
      "text/plain": [
       "<matplotlib.figure.Figure at 0xc4316d8>"
      ]
     },
     "metadata": {},
     "output_type": "display_data"
    }
   ],
   "source": [
    "model = cluster.KMeans(n_clusters = 4, random_state = 0).fit(X) #rand state = 0 so we always have the same when we re-run this\n",
=======
   "execution_count": null,
   "metadata": {
    "collapsed": false
   },
   "outputs": [],
   "source": [
    "model = cluster.KMeans(n_clusters = 4, random_state = 0).fit(X)\n",
>>>>>>> upstream/master
    "\n",
    "cluster_ = pd.Series(model.labels_)\n",
    "\n",
    "color = cluster_.map({0: 'red', 1: 'green', 2: 'blue', 3: 'yellow'})\n",
    "\n",
    "_, axes = plt.subplots(1, 3, figsize = (16, 6))\n",
    "\n",
<<<<<<< HEAD
    "X.plot(kind = 'scatter', x = 'PC0', y = 'PC1', c = color, ax = axes[0])\n",
    "X.plot(kind = 'scatter', x = 'PC0', y = 'PC2',  c = color, ax = axes[1])\n",
    "X.plot(kind = 'scatter', x = 'PC1', y = 'PC2',  c = color, ax = axes[2])\n",
    "\n",
    "#colring will allow you to differentiate among the clusters\n",
    "#the dots represent people and the axis o fthe graphs represent questions\n",
    "#colors represent market segments, they answer same question in a similar way. 4 colors, 4 segments"
=======
    "# TODO"
>>>>>>> upstream/master
   ]
  },
  {
   "cell_type": "code",
   "execution_count": null,
   "metadata": {
    "collapsed": false
   },
   "outputs": [],
   "source": [
    "cluster_.value_counts()"
   ]
  },
  {
   "cell_type": "code",
<<<<<<< HEAD
   "execution_count": 30,
=======
   "execution_count": null,
>>>>>>> upstream/master
   "metadata": {
    "collapsed": false
   },
   "outputs": [],
   "source": [
    "centroid_78 = pd.Series(pca.inverse_transform(model.cluster_centers_[0]))\n",
    "centroid_75 = pd.Series(pca.inverse_transform(model.cluster_centers_[1]))\n",
    "centroid_65 = pd.Series(pca.inverse_transform(model.cluster_centers_[2]))\n",
<<<<<<< HEAD
    "centroid_32 = pd.Series(pca.inverse_transform(model.cluster_centers_[3]))\n",
    "#take centroid, transform it, then transorm it into a series"
=======
    "centroid_32 = pd.Series(pca.inverse_transform(model.cluster_centers_[3]))"
>>>>>>> upstream/master
   ]
  },
  {
   "cell_type": "markdown",
   "metadata": {},
   "source": [
    "### Survey Questions"
   ]
  },
  {
   "cell_type": "code",
<<<<<<< HEAD
   "execution_count": 31,
   "metadata": {
    "collapsed": false
   },
   "outputs": [
    {
     "data": {
      "text/plain": [
       "0                           I want a car that is trendy\n",
       "1                                I am fashion conscious\n",
       "2     I do not have the time to worry about car main...\n",
       "3                    Basic transportation is all I need\n",
       "4                        Small cars are not prestigious\n",
       "                            ...                        \n",
       "57    For me a car is a symbol of freedom and indepe...\n",
       "58                   I am interested in car maintenance\n",
       "59    When buying a car I only consider a national make\n",
       "60    The government should implement policies that ...\n",
       "61    The government is right to tax large cars more...\n",
       "dtype: object"
      ]
     },
     "execution_count": 31,
     "metadata": {},
     "output_type": "execute_result"
    }
   ],
=======
   "execution_count": null,
   "metadata": {
    "collapsed": false
   },
   "outputs": [],
>>>>>>> upstream/master
   "source": [
    "questions = '''I want a car that is trendy\n",
    "I am fashion conscious\n",
    "I do not have the time to worry about car maintenance\n",
    "Basic transportation is all I need\n",
    "Small cars are not prestigious\n",
    "Today's cars last much longer than yesterday's\n",
    "My car must function with total reliability\n",
    "I want a car that is easy to handle\n",
    "I am looking for a car which delivers a smooth ride\n",
    "When I buy a car, dependability is most important to me\n",
    "Today's cars are more efficient than yesterday's\n",
    "I want a car that is fuel economic\n",
    "I love to drive\n",
    "The car I buy must be able to handle long motorway journeys\n",
    "I want the most equipment I can get for my money\n",
    "I want a vehicle that is environmentally friendly\n",
    "I want a car that is nippy and zippy\n",
    "I prefer buying my next car from the same car manufacturer\n",
    "I wish there were stricter exhaust regulations\n",
    "One should not spend beyond ones means\n",
    "Good aerodynamics help fuel economy\n",
    "Small cars are much safer nowadays\n",
    "Buying a car on a lower interest rate does not interest me\n",
    "I want a car that drives well on country roads\n",
    "I consider myself an authority on cars\n",
    "Small cars are for kids\n",
    "Small cars are for women\n",
    "Domestic made is best made\n",
    "A car is a fashion accessory to me\n",
    "Having a masculine car is important to me\n",
    "I want a comfortable car\n",
    "City driving is my main concern\n",
    "Fuel economy comes at the expense of performance\n",
    "I want a practical car\n",
    "I have always been fascinated by cars which have a cult following\n",
    "I like to believe that the car I drive will one day become a cult car\n",
    "I prefer cars with high performance\n",
    "I do not believe that a Swatch branded car will be successful\n",
    "Small cars take up less room in today's traffic\n",
    "I prefer small cars\n",
    "In today's world it is anti-social to drive big cars\n",
    "Many manufacturers do not really care about their customers needs\n",
    "I would rather deal with a manufacturer's rep than a salesperson\n",
    "I want to buy a car that makes a statement about me\n",
    "A car is an extension of oneself\n",
    "I always want the latest style and design in a vehicle\n",
    "When it comes to cars my heart rules my head\n",
    "My car must have a very individual interior\n",
    "Nowadays smart cars are mainly foreign brands\n",
    "People ought to buy domestic products for the good of the country\n",
    "I want a car equipped with the latest features and technology\n",
    "I have a relationship with my car\n",
    "Quality and reliability of products are my main concerns\n",
    "Image is not important to me in a car\n",
    "Cars all look the same these days\n",
    "Most environmentally friendly products do not perform as well as those they replaced\n",
    "I want a car that has character\n",
    "For me a car is a symbol of freedom and independence\n",
    "I am interested in car maintenance\n",
    "When buying a car I only consider a national make\n",
    "The government should implement policies that favor public transportation\n",
    "The government is right to tax large cars more heavily than small cars'''\n",
    "\n",
    "questions = pd.Series(questions.splitlines())\n",
    "\n",
    "questions"
   ]
  },
  {
   "cell_type": "code",
   "execution_count": null,
   "metadata": {
    "collapsed": false
   },
   "outputs": [],
   "source": [
    "def interpret(v):\n",
    "    # TODO"
   ]
  },
  {
   "cell_type": "markdown",
   "metadata": {},
   "source": [
    "#### Interpreting the principal components"
   ]
  },
  {
   "cell_type": "code",
   "execution_count": null,
   "metadata": {
    "collapsed": false
   },
   "outputs": [],
   "source": [
    "interpret(eigenvector_0)"
   ]
  },
  {
   "cell_type": "code",
   "execution_count": null,
   "metadata": {
    "collapsed": false
   },
   "outputs": [],
   "source": [
    "interpret(eigenvector_1)"
   ]
  },
  {
   "cell_type": "code",
   "execution_count": null,
   "metadata": {
    "collapsed": false
   },
   "outputs": [],
   "source": [
    "interpret(eigenvector_2)"
   ]
  },
  {
   "cell_type": "markdown",
   "metadata": {},
   "source": [
    "#### Interpreting the clusters (that's the market segmentation)"
   ]
  },
  {
   "cell_type": "code",
   "execution_count": null,
   "metadata": {
    "collapsed": false
   },
   "outputs": [],
   "source": [
    "interpret(centroid_78)"
   ]
  },
  {
   "cell_type": "code",
   "execution_count": null,
   "metadata": {
    "collapsed": false
   },
   "outputs": [],
   "source": [
    "interpret(centroid_75)"
   ]
  },
  {
   "cell_type": "code",
   "execution_count": null,
   "metadata": {
    "collapsed": false
   },
   "outputs": [],
   "source": [
    "interpret(centroid_65)"
   ]
  },
  {
   "cell_type": "code",
   "execution_count": null,
   "metadata": {
    "collapsed": false
   },
   "outputs": [],
   "source": [
    "interpret(centroid_32)"
   ]
  }
 ],
 "metadata": {
<<<<<<< HEAD
  "anaconda-cloud": {},
=======
>>>>>>> upstream/master
  "kernelspec": {
   "display_name": "Python [conda root]",
   "language": "python",
   "name": "conda-root-py"
  },
  "language_info": {
   "codemirror_mode": {
    "name": "ipython",
    "version": 2
   },
   "file_extension": ".py",
   "mimetype": "text/x-python",
   "name": "python",
   "nbconvert_exporter": "python",
   "pygments_lexer": "ipython2",
   "version": "2.7.12"
  }
 },
 "nbformat": 4,
 "nbformat_minor": 0
}
