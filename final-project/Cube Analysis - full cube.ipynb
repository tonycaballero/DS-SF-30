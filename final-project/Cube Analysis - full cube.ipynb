{
 "cells": [
  {
   "cell_type": "code",
   "execution_count": 1,
   "metadata": {
    "collapsed": true
   },
   "outputs": [],
   "source": [
    "import os\n",
    "\n",
    "import numpy as np\n",
    "import pandas as pd\n",
    "pd.set_option('display.max_rows', 15)\n",
    "pd.set_option('display.notebook_repr_html', True)\n",
    "pd.set_option('display.max_columns', 15)\n",
    "\n",
    "from sklearn import linear_model, metrics\n",
    "\n",
    "import statsmodels.api as sm\n",
    "import statsmodels.formula.api as smf\n",
    "\n",
    "import matplotlib.pyplot as plt\n",
    "%matplotlib inline\n",
    "plt.style.use('ggplot')"
   ]
  },
  {
   "cell_type": "code",
   "execution_count": 12,
   "metadata": {
    "collapsed": false
   },
   "outputs": [
    {
     "data": {
      "text/html": [
       "<div>\n",
       "<table border=\"1\" class=\"dataframe\">\n",
       "  <thead>\n",
       "    <tr style=\"text-align: right;\">\n",
       "      <th></th>\n",
       "      <th>customer_code</th>\n",
       "      <th>for_month</th>\n",
       "      <th>mrr</th>\n",
       "      <th>last_yr</th>\n",
       "      <th>last_mrr</th>\n",
       "      <th>...</th>\n",
       "      <th>billing_period</th>\n",
       "      <th>age</th>\n",
       "      <th>contract_start_date</th>\n",
       "      <th>retention</th>\n",
       "      <th>churn_dollars</th>\n",
       "    </tr>\n",
       "  </thead>\n",
       "  <tbody>\n",
       "    <tr>\n",
       "      <th>0</th>\n",
       "      <td>A1</td>\n",
       "      <td>7/1/2016</td>\n",
       "      <td>1000</td>\n",
       "      <td>NaN</td>\n",
       "      <td>NaN</td>\n",
       "      <td>...</td>\n",
       "      <td>Quarter</td>\n",
       "      <td>38.0</td>\n",
       "      <td>3/9/2016</td>\n",
       "      <td>NaN</td>\n",
       "      <td>NaN</td>\n",
       "    </tr>\n",
       "    <tr>\n",
       "      <th>1</th>\n",
       "      <td>A1</td>\n",
       "      <td>8/1/2016</td>\n",
       "      <td>0</td>\n",
       "      <td>NaN</td>\n",
       "      <td>NaN</td>\n",
       "      <td>...</td>\n",
       "      <td>Quarter</td>\n",
       "      <td>38.0</td>\n",
       "      <td>3/9/2016</td>\n",
       "      <td>NaN</td>\n",
       "      <td>NaN</td>\n",
       "    </tr>\n",
       "    <tr>\n",
       "      <th>2</th>\n",
       "      <td>A1</td>\n",
       "      <td>9/1/2016</td>\n",
       "      <td>1000</td>\n",
       "      <td>NaN</td>\n",
       "      <td>NaN</td>\n",
       "      <td>...</td>\n",
       "      <td>Quarter</td>\n",
       "      <td>38.0</td>\n",
       "      <td>3/9/2016</td>\n",
       "      <td>NaN</td>\n",
       "      <td>NaN</td>\n",
       "    </tr>\n",
       "    <tr>\n",
       "      <th>3</th>\n",
       "      <td>A1</td>\n",
       "      <td>10/1/2016</td>\n",
       "      <td>1000</td>\n",
       "      <td>NaN</td>\n",
       "      <td>NaN</td>\n",
       "      <td>...</td>\n",
       "      <td>Quarter</td>\n",
       "      <td>38.0</td>\n",
       "      <td>3/9/2016</td>\n",
       "      <td>NaN</td>\n",
       "      <td>NaN</td>\n",
       "    </tr>\n",
       "    <tr>\n",
       "      <th>4</th>\n",
       "      <td>A1</td>\n",
       "      <td>11/1/2016</td>\n",
       "      <td>1000</td>\n",
       "      <td>NaN</td>\n",
       "      <td>NaN</td>\n",
       "      <td>...</td>\n",
       "      <td>Quarter</td>\n",
       "      <td>38.0</td>\n",
       "      <td>3/9/2016</td>\n",
       "      <td>NaN</td>\n",
       "      <td>NaN</td>\n",
       "    </tr>\n",
       "    <tr>\n",
       "      <th>...</th>\n",
       "      <td>...</td>\n",
       "      <td>...</td>\n",
       "      <td>...</td>\n",
       "      <td>...</td>\n",
       "      <td>...</td>\n",
       "      <td>...</td>\n",
       "      <td>...</td>\n",
       "      <td>...</td>\n",
       "      <td>...</td>\n",
       "      <td>...</td>\n",
       "      <td>...</td>\n",
       "    </tr>\n",
       "    <tr>\n",
       "      <th>62517</th>\n",
       "      <td>A2312</td>\n",
       "      <td>8/1/2016</td>\n",
       "      <td>0</td>\n",
       "      <td>8/1/2015</td>\n",
       "      <td>0.0</td>\n",
       "      <td>...</td>\n",
       "      <td>NaN</td>\n",
       "      <td>NaN</td>\n",
       "      <td>NaN</td>\n",
       "      <td>NaN</td>\n",
       "      <td>NaN</td>\n",
       "    </tr>\n",
       "    <tr>\n",
       "      <th>62518</th>\n",
       "      <td>A2312</td>\n",
       "      <td>9/1/2016</td>\n",
       "      <td>0</td>\n",
       "      <td>9/1/2015</td>\n",
       "      <td>0.0</td>\n",
       "      <td>...</td>\n",
       "      <td>NaN</td>\n",
       "      <td>NaN</td>\n",
       "      <td>NaN</td>\n",
       "      <td>NaN</td>\n",
       "      <td>NaN</td>\n",
       "    </tr>\n",
       "    <tr>\n",
       "      <th>62519</th>\n",
       "      <td>A2312</td>\n",
       "      <td>10/1/2016</td>\n",
       "      <td>0</td>\n",
       "      <td>10/1/2015</td>\n",
       "      <td>0.0</td>\n",
       "      <td>...</td>\n",
       "      <td>NaN</td>\n",
       "      <td>NaN</td>\n",
       "      <td>NaN</td>\n",
       "      <td>NaN</td>\n",
       "      <td>NaN</td>\n",
       "    </tr>\n",
       "    <tr>\n",
       "      <th>62520</th>\n",
       "      <td>A2312</td>\n",
       "      <td>11/1/2016</td>\n",
       "      <td>0</td>\n",
       "      <td>11/1/2015</td>\n",
       "      <td>0.0</td>\n",
       "      <td>...</td>\n",
       "      <td>NaN</td>\n",
       "      <td>NaN</td>\n",
       "      <td>NaN</td>\n",
       "      <td>NaN</td>\n",
       "      <td>NaN</td>\n",
       "    </tr>\n",
       "    <tr>\n",
       "      <th>62521</th>\n",
       "      <td>A2312</td>\n",
       "      <td>12/1/2016</td>\n",
       "      <td>0</td>\n",
       "      <td>12/1/2015</td>\n",
       "      <td>0.0</td>\n",
       "      <td>...</td>\n",
       "      <td>NaN</td>\n",
       "      <td>NaN</td>\n",
       "      <td>NaN</td>\n",
       "      <td>NaN</td>\n",
       "      <td>NaN</td>\n",
       "    </tr>\n",
       "  </tbody>\n",
       "</table>\n",
       "<p>62522 rows × 39 columns</p>\n",
       "</div>"
      ],
      "text/plain": [
       "      customer_code  for_month   mrr    last_yr  last_mrr      ...        \\\n",
       "0                A1   7/1/2016  1000        NaN       NaN      ...         \n",
       "1                A1   8/1/2016     0        NaN       NaN      ...         \n",
       "2                A1   9/1/2016  1000        NaN       NaN      ...         \n",
       "3                A1  10/1/2016  1000        NaN       NaN      ...         \n",
       "4                A1  11/1/2016  1000        NaN       NaN      ...         \n",
       "...             ...        ...   ...        ...       ...      ...         \n",
       "62517         A2312   8/1/2016     0   8/1/2015       0.0      ...         \n",
       "62518         A2312   9/1/2016     0   9/1/2015       0.0      ...         \n",
       "62519         A2312  10/1/2016     0  10/1/2015       0.0      ...         \n",
       "62520         A2312  11/1/2016     0  11/1/2015       0.0      ...         \n",
       "62521         A2312  12/1/2016     0  12/1/2015       0.0      ...         \n",
       "\n",
       "       billing_period   age  contract_start_date  retention  churn_dollars  \n",
       "0             Quarter  38.0             3/9/2016        NaN            NaN  \n",
       "1             Quarter  38.0             3/9/2016        NaN            NaN  \n",
       "2             Quarter  38.0             3/9/2016        NaN            NaN  \n",
       "3             Quarter  38.0             3/9/2016        NaN            NaN  \n",
       "4             Quarter  38.0             3/9/2016        NaN            NaN  \n",
       "...               ...   ...                  ...        ...            ...  \n",
       "62517             NaN   NaN                  NaN        NaN            NaN  \n",
       "62518             NaN   NaN                  NaN        NaN            NaN  \n",
       "62519             NaN   NaN                  NaN        NaN            NaN  \n",
       "62520             NaN   NaN                  NaN        NaN            NaN  \n",
       "62521             NaN   NaN                  NaN        NaN            NaN  \n",
       "\n",
       "[62522 rows x 39 columns]"
      ]
     },
     "execution_count": 12,
     "metadata": {},
     "output_type": "execute_result"
    }
   ],
   "source": [
    "#df = pd.read_csv(os.path.join('..', 'datasets', 'C:/Users/tcaballero/DS-SF-30/final-project/tiny cube binary.csv'))\n",
    "df = pd.read_csv(os.path.join('..', 'datasets', 'C:/Users/tcaballero/DS-SF-30/final-project/Customer Cube - 1.30.17.csv'))\n",
    "#df = pd.read_csv(os.path.join('..', 'datasets', 'C:/Users\\tcaballero/Dropbox (Optimizely)/Finance/FP&A/Shared Folders/Tony/cube file/python/Customer Cube - 1.30.17.csv'))\n",
    "df"
   ]
  },
  {
   "cell_type": "code",
   "execution_count": 13,
   "metadata": {
    "collapsed": false
   },
   "outputs": [
    {
     "name": "stdout",
     "output_type": "stream",
     "text": [
      "rows = 62522 and columns = 39\n",
      "customer_code           object\n",
      "for_month               object\n",
      "mrr                      int64\n",
      "last_yr                 object\n",
      "last_mrr               float64\n",
      "                        ...   \n",
      "billing_period          object\n",
      "age                    float64\n",
      "contract_start_date     object\n",
      "retention              float64\n",
      "churn_dollars          float64\n",
      "dtype: object\n"
     ]
    }
   ],
   "source": [
    "rows = df.shape[0]\n",
    "cols = df.shape[1]\n",
    "print \"rows = {} and columns = {}\".format(rows, cols)\n",
    "print df.dtypes"
   ]
  },
  {
   "cell_type": "code",
   "execution_count": 14,
   "metadata": {
    "collapsed": false
   },
   "outputs": [
    {
     "data": {
      "text/plain": [
       "mobile_experiments_started    0\n",
       "experiments_started           0\n",
       "allocation                    0\n",
       "utilization                   0\n",
       "tickets_created               0\n",
       "impressions                   0\n",
       "impression_revenue            0\n",
       "knowledge_base_views          0\n",
       "logins                        0\n",
       "sig_exp_90                    0\n",
       "dtype: int64"
      ]
     },
     "execution_count": 14,
     "metadata": {},
     "output_type": "execute_result"
    }
   ],
   "source": [
    "df[[5,6,7,8,9,10,11,12,13,14]].isnull().sum()"
   ]
  },
  {
   "cell_type": "code",
   "execution_count": 46,
   "metadata": {
    "collapsed": false
   },
   "outputs": [
    {
     "data": {
      "text/plain": [
       "0         True\n",
       "1         True\n",
       "2         True\n",
       "3         True\n",
       "4         True\n",
       "         ...  \n",
       "62517    False\n",
       "62518    False\n",
       "62519    False\n",
       "62520    False\n",
       "62521    False\n",
       "Name: new_feature, dtype: bool"
      ]
     },
     "execution_count": 46,
     "metadata": {},
     "output_type": "execute_result"
    }
   ],
   "source": [
    "#df_sigexp0 = df[['sig_exp_90'==1,'logins']]\n",
    "df_sigexp = pd.get_dummies(df.sig_exp_90, prefix = 'sig_exp')\n",
    "#df_sigexp.shape"
   ]
  },
  {
   "cell_type": "code",
   "execution_count": 48,
   "metadata": {
    "collapsed": false
   },
   "outputs": [
    {
     "data": {
      "text/plain": [
       "0    48392\n",
       "1    14130\n",
       "Name: sig_exp_90, dtype: int64"
      ]
     },
     "execution_count": 48,
     "metadata": {},
     "output_type": "execute_result"
    }
   ],
   "source": [
    "#compare distribution of values for when sig_exp = 0 vs 1\n",
    "df.sig_exp_90.value_counts(dropna = False).sort_index()"
   ]
  },
  {
   "cell_type": "code",
   "execution_count": 72,
   "metadata": {
    "collapsed": false
   },
   "outputs": [
    {
     "data": {
      "text/plain": [
       "Index([u'customer_code', u'for_month', u'mrr', u'last_yr', u'last_mrr',\n",
       "       u'mobile_experiments_started', u'experiments_started', u'allocation',\n",
       "       u'utilization', u'tickets_created', u'impressions',\n",
       "       u'impression_revenue', u'knowledge_base_views', u'logins',\n",
       "       u'sig_exp_90', u'brand_ops', u'running_experiment_days', u'vertical',\n",
       "       u'segment', u'country', u'region', u'number_of_employees', u'traffic',\n",
       "       u'annual_revenue', u'account_potential_score', u'ae', u'csm',\n",
       "       u'partner_flag', u'first_month', u'last_month', u'last record',\n",
       "       u'churned', u'days_overdue', u'collaborators_added', u'billing_period',\n",
       "       u'age', u'contract_start_date', u'retention', u'churn_dollars',\n",
       "       u'sig_exp_check'],\n",
       "      dtype='object')"
      ]
     },
     "execution_count": 72,
     "metadata": {},
     "output_type": "execute_result"
    }
   ],
   "source": [
    "df['sig_exp_check'] = (df.sig_exp_90 == 1)\n",
    "df.columns\n",
    "#created a new feature and added this column to the original dataframe"
   ]
  },
  {
   "cell_type": "code",
   "execution_count": null,
   "metadata": {
    "collapsed": false
   },
   "outputs": [],
   "source": []
  },
  {
   "cell_type": "code",
   "execution_count": 67,
   "metadata": {
    "collapsed": false
   },
   "outputs": [
    {
     "data": {
      "text/plain": [
       "<matplotlib.axes._subplots.AxesSubplot at 0x1839ba20>"
      ]
     },
     "execution_count": 67,
     "metadata": {},
     "output_type": "execute_result"
    },
    {
     "data": {
      "image/png": "[encoded data removed]",
      "text/plain": [
       "<matplotlib.figure.Figure at 0x1886a240>"
      ]
     },
     "metadata": {},
     "output_type": "display_data"
    }
   ],
   "source": [
    "df.plot(kind = 'scatter', x = 'sig_exp_check', y = 'experiments_started')\n",
    "#appears to be some colinearity between these 2 independent variables. I'm looking to explain retention as the ultimate y variable\n",
    "#sig_exp_check = 0 has twice the range that =1 has. "
   ]
  },
  {
   "cell_type": "code",
   "execution_count": 68,
   "metadata": {
    "collapsed": false
   },
   "outputs": [
    {
     "data": {
      "text/plain": [
       "<matplotlib.axes._subplots.AxesSubplot at 0x18c33ba8>"
      ]
     },
     "execution_count": 68,
     "metadata": {},
     "output_type": "execute_result"
    },
    {
     "data": {
      "image/png": "[encoded data removed]",
      "text/plain": [
       "<matplotlib.figure.Figure at 0x18c46208>"
      ]
     },
     "metadata": {},
     "output_type": "display_data"
    }
   ],
   "source": [
    "df.plot(kind = 'scatter', x = 'sig_exp_check', y = 'running_experiment_days')"
   ]
  },
  {
   "cell_type": "code",
   "execution_count": 10,
   "metadata": {
    "collapsed": false
   },
   "outputs": [
    {
     "data": {
      "text/html": [
       "<table class=\"simpletable\">\n",
       "<caption>OLS Regression Results</caption>\n",
       "<tr>\n",
       "  <th>Dep. Variable:</th>      <td>churn_dollars</td>  <th>  R-squared:         </th>  <td>   0.019</td>  \n",
       "</tr>\n",
       "<tr>\n",
       "  <th>Model:</th>                   <td>OLS</td>       <th>  Adj. R-squared:    </th>  <td>   0.019</td>  \n",
       "</tr>\n",
       "<tr>\n",
       "  <th>Method:</th>             <td>Least Squares</td>  <th>  F-statistic:       </th>  <td>   197.0</td>  \n",
       "</tr>\n",
       "<tr>\n",
       "  <th>Date:</th>             <td>Sun, 12 Feb 2017</td> <th>  Prob (F-statistic):</th>  <td>1.44e-126</td> \n",
       "</tr>\n",
       "<tr>\n",
       "  <th>Time:</th>                 <td>16:00:12</td>     <th>  Log-Likelihood:    </th> <td>-2.7455e+05</td>\n",
       "</tr>\n",
       "<tr>\n",
       "  <th>No. Observations:</th>      <td> 31003</td>      <th>  AIC:               </th>  <td>5.491e+05</td> \n",
       "</tr>\n",
       "<tr>\n",
       "  <th>Df Residuals:</th>          <td> 30999</td>      <th>  BIC:               </th>  <td>5.491e+05</td> \n",
       "</tr>\n",
       "<tr>\n",
       "  <th>Df Model:</th>              <td>     3</td>      <th>                     </th>      <td> </td>     \n",
       "</tr>\n",
       "<tr>\n",
       "  <th>Covariance Type:</th>      <td>nonrobust</td>    <th>                     </th>      <td> </td>     \n",
       "</tr>\n",
       "</table>\n",
       "<table class=\"simpletable\">\n",
       "<tr>\n",
       "             <td></td>                <th>coef</th>     <th>std err</th>      <th>t</th>      <th>P>|t|</th> <th>[95.0% Conf. Int.]</th> \n",
       "</tr>\n",
       "<tr>\n",
       "  <th>Intercept</th>               <td> -832.6603</td> <td>   10.849</td> <td>  -76.752</td> <td> 0.000</td> <td> -853.924  -811.396</td>\n",
       "</tr>\n",
       "<tr>\n",
       "  <th>logins</th>                  <td>    0.2140</td> <td>    0.024</td> <td>    8.794</td> <td> 0.000</td> <td>    0.166     0.262</td>\n",
       "</tr>\n",
       "<tr>\n",
       "  <th>running_experiment_days</th> <td>    0.1970</td> <td>    0.015</td> <td>   13.410</td> <td> 0.000</td> <td>    0.168     0.226</td>\n",
       "</tr>\n",
       "<tr>\n",
       "  <th>utilization</th>             <td> 2.938e-05</td> <td> 4.59e-06</td> <td>    6.399</td> <td> 0.000</td> <td> 2.04e-05  3.84e-05</td>\n",
       "</tr>\n",
       "</table>\n",
       "<table class=\"simpletable\">\n",
       "<tr>\n",
       "  <th>Omnibus:</th>       <td>33286.500</td> <th>  Durbin-Watson:     </th>  <td>   0.670</td>  \n",
       "</tr>\n",
       "<tr>\n",
       "  <th>Prob(Omnibus):</th>  <td> 0.000</td>   <th>  Jarque-Bera (JB):  </th> <td>5085777.033</td>\n",
       "</tr>\n",
       "<tr>\n",
       "  <th>Skew:</th>           <td>-5.201</td>   <th>  Prob(JB):          </th>  <td>    0.00</td>  \n",
       "</tr>\n",
       "<tr>\n",
       "  <th>Kurtosis:</th>       <td>64.877</td>   <th>  Cond. No.          </th>  <td>2.60e+06</td>  \n",
       "</tr>\n",
       "</table>"
      ],
      "text/plain": [
       "<class 'statsmodels.iolib.summary.Summary'>\n",
       "\"\"\"\n",
       "                            OLS Regression Results                            \n",
       "==============================================================================\n",
       "Dep. Variable:          churn_dollars   R-squared:                       0.019\n",
       "Model:                            OLS   Adj. R-squared:                  0.019\n",
       "Method:                 Least Squares   F-statistic:                     197.0\n",
       "Date:                Sun, 12 Feb 2017   Prob (F-statistic):          1.44e-126\n",
       "Time:                        16:00:12   Log-Likelihood:            -2.7455e+05\n",
       "No. Observations:               31003   AIC:                         5.491e+05\n",
       "Df Residuals:                   30999   BIC:                         5.491e+05\n",
       "Df Model:                           3                                         \n",
       "Covariance Type:            nonrobust                                         \n",
       "===========================================================================================\n",
       "                              coef    std err          t      P>|t|      [95.0% Conf. Int.]\n",
       "-------------------------------------------------------------------------------------------\n",
       "Intercept                -832.6603     10.849    -76.752      0.000      -853.924  -811.396\n",
       "logins                      0.2140      0.024      8.794      0.000         0.166     0.262\n",
       "running_experiment_days     0.1970      0.015     13.410      0.000         0.168     0.226\n",
       "utilization              2.938e-05   4.59e-06      6.399      0.000      2.04e-05  3.84e-05\n",
       "==============================================================================\n",
       "Omnibus:                    33286.500   Durbin-Watson:                   0.670\n",
       "Prob(Omnibus):                  0.000   Jarque-Bera (JB):          5085777.033\n",
       "Skew:                          -5.201   Prob(JB):                         0.00\n",
       "Kurtosis:                      64.877   Cond. No.                     2.60e+06\n",
       "==============================================================================\n",
       "\n",
       "Warnings:\n",
       "[1] Standard Errors assume that the covariance matrix of the errors is correctly specified.\n",
       "[2] The condition number is large, 2.6e+06. This might indicate that there are\n",
       "strong multicollinearity or other numerical problems.\n",
       "\"\"\""
      ]
     },
     "execution_count": 10,
     "metadata": {},
     "output_type": "execute_result"
    }
   ],
   "source": [
    "model = smf.ols(formula = 'churn_dollars ~ logins + running_experiment_days + utilization', data = df).fit()\n",
    "\n",
    "model.summary()\n",
    "#only utilization and intercept seem to be significant "
   ]
  },
  {
   "cell_type": "code",
   "execution_count": 8,
   "metadata": {
    "collapsed": false
   },
   "outputs": [
    {
     "data": {
      "image/png": "[encoded data removed]",
      "text/plain": [
       "<matplotlib.figure.Figure at 0xc780a58>"
      ]
     },
     "metadata": {},
     "output_type": "display_data"
    }
   ],
   "source": [
    "sm.qqplot(model.resid, line = 's')\n",
    "\n",
    "pass\n",
    "#VERY NOT NORMALLY DISTRIBUTED. Probably shouldn't continue with regression. "
   ]
  },
  {
   "cell_type": "raw",
   "metadata": {
    "collapsed": false
   },
   "source": [
    "df[[6,7,8,10,11,13,14,16,17,37]].corr()\n",
    "#logins and experiments started have a 33% correlation\n",
    "#logins vs running_experiment_days = 40%\n",
    "#logins vs sig_exp_90 = 30%\n",
    "#running experiment days vs retention = 20% correlation\n",
    "\n",
    "\n",
    "#23 33"
   ]
  },
  {
   "cell_type": "code",
   "execution_count": 10,
   "metadata": {
    "collapsed": false
   },
   "outputs": [],
   "source": [
    "#shift gocus to try logistic regression and use churn binary flag as "
   ]
  },
  {
   "cell_type": "code",
   "execution_count": 70,
   "metadata": {
    "collapsed": false
   },
   "outputs": [],
   "source": [
    "train_df = df.sample(frac = .75, random_state = 0)\n",
    "test_df = df.drop(train_df.index)"
   ]
  },
  {
   "cell_type": "code",
   "execution_count": null,
   "metadata": {
    "collapsed": false
   },
   "outputs": [],
   "source": []
  },
  {
   "cell_type": "code",
   "execution_count": 23,
   "metadata": {
    "collapsed": false
   },
   "outputs": [
    {
     "data": {
      "text/plain": [
       "Index([u'customer_id', u'for_month', u'mrr', u'last_yr', u'last_mrr',\n",
       "       u'sig_exp_90', u'partner_flag', u'logins', u'running_experiment_days',\n",
       "       u'utilization', u'churn_dollars', u'churned'],\n",
       "      dtype='object')"
      ]
     },
     "execution_count": 23,
     "metadata": {},
     "output_type": "execute_result"
    }
   ],
   "source": [
    "train_df.columns"
   ]
  },
  {
   "cell_type": "code",
   "execution_count": 11,
   "metadata": {
    "collapsed": false
   },
   "outputs": [
    {
     "ename": "SyntaxError",
     "evalue": "invalid syntax (<ipython-input-11-9dc7f2259f50>, line 1)",
     "output_type": "error",
     "traceback": [
      "\u001b[0;36m  File \u001b[0;32m\"<ipython-input-11-9dc7f2259f50>\"\u001b[0;36m, line \u001b[0;32m1\u001b[0m\n\u001b[0;31m    names_X = ['sig_exp_90'==1, 'partner_flag'=1, 'logins',\u001b[0m\n\u001b[0m                                              ^\u001b[0m\n\u001b[0;31mSyntaxError\u001b[0m\u001b[0;31m:\u001b[0m invalid syntax\n"
     ]
    }
   ],
   "source": [
    "names_X = ['sig_exp_90', 'partner_flag', 'logins',\n",
    "    'running_experiment_days', 'utilization']       #, 'churn_dollars']\n",
    "\n",
    "def X_c(df):\n",
    "    X = df[ names_X ]\n",
    "    c = df.churned\n",
    "    return X, c\n",
    "\n",
    "train_X, train_c = X_c(train_df)\n",
    "test_X, test_c = X_c(test_df)"
   ]
  },
  {
   "cell_type": "code",
   "execution_count": null,
   "metadata": {
    "collapsed": false
   },
   "outputs": [],
   "source": [
    "model = linear_model.LogisticRegression().fit(train_X, train_c)\n",
    "\n",
    "print model.intercept_\n",
    "print model.coef_"
   ]
  },
  {
   "cell_type": "code",
   "execution_count": 34,
   "metadata": {
    "collapsed": false
   },
   "outputs": [
    {
     "name": "stdout",
     "output_type": "stream",
     "text": [
      "[ 0.00068708]\n",
      "[[  5.95686049e-04   1.72235218e-04   3.14446083e-02  -1.35420224e-02\n",
      "   -3.09179648e-07]]\n"
     ]
    }
   ],
   "source": [
    "model = linear_model.LogisticRegression().\\\n",
    "    fit(test_X, test_c)\n",
    "\n",
    "print model.intercept_\n",
    "print model.coef_"
   ]
  },
  {
   "cell_type": "code",
   "execution_count": 35,
   "metadata": {
    "collapsed": false
   },
   "outputs": [
    {
     "name": "stdout",
     "output_type": "stream",
     "text": [
      "training misclassification = 0.166185804962\n",
      "testing  misclassification = 0.160899653979\n"
     ]
    }
   ],
   "source": [
    "print 'training misclassification =', 1 - model.score(train_X, train_c)\n",
    "print 'testing  misclassification =', 1 - model.score(test_X, test_c)"
   ]
  },
  {
   "cell_type": "code",
   "execution_count": null,
   "metadata": {
    "collapsed": true
   },
   "outputs": [],
   "source": []
  }
 ],
 "metadata": {
  "anaconda-cloud": {},
  "kernelspec": {
   "display_name": "Python [conda root]",
   "language": "python",
   "name": "conda-root-py"
  },
  "language_info": {
   "codemirror_mode": {
    "name": "ipython",
    "version": 2
   },
   "file_extension": ".py",
   "mimetype": "text/x-python",
   "name": "python",
   "nbconvert_exporter": "python",
   "pygments_lexer": "ipython2",
   "version": "2.7.12"
  }
 },
 "nbformat": 4,
 "nbformat_minor": 1
}
