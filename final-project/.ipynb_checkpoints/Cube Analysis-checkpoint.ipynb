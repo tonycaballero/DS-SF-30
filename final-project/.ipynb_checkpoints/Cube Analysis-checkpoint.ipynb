{
 "cells": [
  {
   "cell_type": "code",
   "execution_count": 2,
   "metadata": {
    "collapsed": true
   },
   "outputs": [],
   "source": [
    "import os\n",
    "\n",
    "import numpy as np\n",
    "import pandas as pd\n",
    "pd.set_option('display.max_rows', 10)\n",
    "pd.set_option('display.notebook_repr_html', True)\n",
    "pd.set_option('display.max_columns', 10)\n",
    "\n",
    "from sklearn import linear_model, metrics\n",
    "\n",
    "import statsmodels.api as sm\n",
    "import statsmodels.formula.api as smf\n",
    "\n",
    "import matplotlib.pyplot as plt\n",
    "%matplotlib inline\n",
    "plt.style.use('ggplot')"
   ]
  },
  {
   "cell_type": "code",
   "execution_count": null,
   "metadata": {
    "collapsed": false
   },
   "outputs": [],
   "source": [
    "#df = pd.read_csv(os.path.join('..', 'datasets', 'C:/Users/tcaballero/DS-SF-30/final-project/tiny cube binary.csv'))\n",
    "df = pd.read_csv(os.path.join('..', 'datasets', 'C:/Users\\tcaballero/Dropbox (Optimizely)/Finance/FP&A/Shared Folders/Tony/cube file/python/Customer Cube - 1.30.17.csv'))\n",
    "df"
   ]
  },
  {
   "cell_type": "code",
   "execution_count": null,
   "metadata": {
    "collapsed": false
   },
   "outputs": [],
   "source": [
    "rows = df.shape[0]\n",
    "cols = df.shape[1]\n",
    "print \"rows = {} and columns = {}\".format(rows, cols)\n",
    "print df.dtypes"
   ]
  },
  {
   "cell_type": "code",
   "execution_count": 5,
   "metadata": {
    "collapsed": false
   },
   "outputs": [
    {
     "data": {
      "text/plain": [
       "sig_exp_90                   0\n",
       "partner_flag                 0\n",
       "logins                       0\n",
       "running_experiment_days      0\n",
       "utilization                  0\n",
       "churn_dollars              928\n",
       "dtype: int64"
      ]
     },
     "execution_count": 5,
     "metadata": {},
     "output_type": "execute_result"
    }
   ],
   "source": [
    "df[[5,6,7,8,9,10]].isnull().sum()"
   ]
  },
  {
   "cell_type": "code",
   "execution_count": 6,
   "metadata": {
    "collapsed": false
   },
   "outputs": [
    {
     "data": {
      "text/plain": [
       "<matplotlib.axes._subplots.AxesSubplot at 0xc2ab908>"
      ]
     },
     "execution_count": 6,
     "metadata": {},
     "output_type": "execute_result"
    },
    {
     "data": {
      "image/png": "[encoded data removed]",
      "text/plain": [
       "<matplotlib.figure.Figure at 0x2827518>"
      ]
     },
     "metadata": {},
     "output_type": "display_data"
    }
   ],
   "source": [
    "df.plot(kind = 'scatter', x = 'logins', y = 'churn_dollars')\n"
   ]
  },
  {
   "cell_type": "code",
   "execution_count": 7,
   "metadata": {
    "collapsed": false
   },
   "outputs": [
    {
     "data": {
      "text/html": [
       "<table class=\"simpletable\">\n",
       "<caption>OLS Regression Results</caption>\n",
       "<tr>\n",
       "  <th>Dep. Variable:</th>      <td>churn_dollars</td>  <th>  R-squared:         </th> <td>   0.007</td> \n",
       "</tr>\n",
       "<tr>\n",
       "  <th>Model:</th>                   <td>OLS</td>       <th>  Adj. R-squared:    </th> <td>   0.005</td> \n",
       "</tr>\n",
       "<tr>\n",
       "  <th>Method:</th>             <td>Least Squares</td>  <th>  F-statistic:       </th> <td>   3.116</td> \n",
       "</tr>\n",
       "<tr>\n",
       "  <th>Date:</th>             <td>Thu, 02 Feb 2017</td> <th>  Prob (F-statistic):</th>  <td>0.0253</td>  \n",
       "</tr>\n",
       "<tr>\n",
       "  <th>Time:</th>                 <td>20:10:52</td>     <th>  Log-Likelihood:    </th> <td> -11577.</td> \n",
       "</tr>\n",
       "<tr>\n",
       "  <th>No. Observations:</th>      <td>  1383</td>      <th>  AIC:               </th> <td>2.316e+04</td>\n",
       "</tr>\n",
       "<tr>\n",
       "  <th>Df Residuals:</th>          <td>  1379</td>      <th>  BIC:               </th> <td>2.318e+04</td>\n",
       "</tr>\n",
       "<tr>\n",
       "  <th>Df Model:</th>              <td>     3</td>      <th>                     </th>     <td> </td>    \n",
       "</tr>\n",
       "<tr>\n",
       "  <th>Covariance Type:</th>      <td>nonrobust</td>    <th>                     </th>     <td> </td>    \n",
       "</tr>\n",
       "</table>\n",
       "<table class=\"simpletable\">\n",
       "<tr>\n",
       "             <td></td>                <th>coef</th>     <th>std err</th>      <th>t</th>      <th>P>|t|</th> <th>[95.0% Conf. Int.]</th> \n",
       "</tr>\n",
       "<tr>\n",
       "  <th>Intercept</th>               <td> -226.3141</td> <td>   31.398</td> <td>   -7.208</td> <td> 0.000</td> <td> -287.908  -164.720</td>\n",
       "</tr>\n",
       "<tr>\n",
       "  <th>logins</th>                  <td>    0.0446</td> <td>    0.060</td> <td>    0.740</td> <td> 0.459</td> <td>   -0.074     0.163</td>\n",
       "</tr>\n",
       "<tr>\n",
       "  <th>running_experiment_days</th> <td>    0.1383</td> <td>    0.092</td> <td>    1.498</td> <td> 0.134</td> <td>   -0.043     0.319</td>\n",
       "</tr>\n",
       "<tr>\n",
       "  <th>utilization</th>             <td>   -0.0002</td> <td> 7.44e-05</td> <td>   -2.913</td> <td> 0.004</td> <td>   -0.000 -7.08e-05</td>\n",
       "</tr>\n",
       "</table>\n",
       "<table class=\"simpletable\">\n",
       "<tr>\n",
       "  <th>Omnibus:</th>       <td>2121.316</td> <th>  Durbin-Watson:     </th>  <td>   2.035</td> \n",
       "</tr>\n",
       "<tr>\n",
       "  <th>Prob(Omnibus):</th>  <td> 0.000</td>  <th>  Jarque-Bera (JB):  </th> <td>734344.000</td>\n",
       "</tr>\n",
       "<tr>\n",
       "  <th>Skew:</th>           <td>-9.342</td>  <th>  Prob(JB):          </th>  <td>    0.00</td> \n",
       "</tr>\n",
       "<tr>\n",
       "  <th>Kurtosis:</th>       <td>114.330</td> <th>  Cond. No.          </th>  <td>4.55e+05</td> \n",
       "</tr>\n",
       "</table>"
      ],
      "text/plain": [
       "<class 'statsmodels.iolib.summary.Summary'>\n",
       "\"\"\"\n",
       "                            OLS Regression Results                            \n",
       "==============================================================================\n",
       "Dep. Variable:          churn_dollars   R-squared:                       0.007\n",
       "Model:                            OLS   Adj. R-squared:                  0.005\n",
       "Method:                 Least Squares   F-statistic:                     3.116\n",
       "Date:                Thu, 02 Feb 2017   Prob (F-statistic):             0.0253\n",
       "Time:                        20:10:52   Log-Likelihood:                -11577.\n",
       "No. Observations:                1383   AIC:                         2.316e+04\n",
       "Df Residuals:                    1379   BIC:                         2.318e+04\n",
       "Df Model:                           3                                         \n",
       "Covariance Type:            nonrobust                                         \n",
       "===========================================================================================\n",
       "                              coef    std err          t      P>|t|      [95.0% Conf. Int.]\n",
       "-------------------------------------------------------------------------------------------\n",
       "Intercept                -226.3141     31.398     -7.208      0.000      -287.908  -164.720\n",
       "logins                      0.0446      0.060      0.740      0.459        -0.074     0.163\n",
       "running_experiment_days     0.1383      0.092      1.498      0.134        -0.043     0.319\n",
       "utilization                -0.0002   7.44e-05     -2.913      0.004        -0.000 -7.08e-05\n",
       "==============================================================================\n",
       "Omnibus:                     2121.316   Durbin-Watson:                   2.035\n",
       "Prob(Omnibus):                  0.000   Jarque-Bera (JB):           734344.000\n",
       "Skew:                          -9.342   Prob(JB):                         0.00\n",
       "Kurtosis:                     114.330   Cond. No.                     4.55e+05\n",
       "==============================================================================\n",
       "\n",
       "Warnings:\n",
       "[1] Standard Errors assume that the covariance matrix of the errors is correctly specified.\n",
       "[2] The condition number is large, 4.55e+05. This might indicate that there are\n",
       "strong multicollinearity or other numerical problems.\n",
       "\"\"\""
      ]
     },
     "execution_count": 7,
     "metadata": {},
     "output_type": "execute_result"
    }
   ],
   "source": [
    "model = smf.ols(formula = 'churn_dollars ~ logins + running_experiment_days + utilization', data = df).fit()\n",
    "\n",
    "model.summary()\n",
    "#only utilization and intercept seem to be significant "
   ]
  },
  {
   "cell_type": "code",
   "execution_count": 8,
   "metadata": {
    "collapsed": false
   },
   "outputs": [
    {
     "data": {
      "image/png": "[encoded data removed]",
      "text/plain": [
       "<matplotlib.figure.Figure at 0xc780a58>"
      ]
     },
     "metadata": {},
     "output_type": "display_data"
    }
   ],
   "source": [
    "sm.qqplot(model.resid, line = 's')\n",
    "\n",
    "pass\n",
    "#VERY NOT NORMALLY DISTRIBUTED. Probably shouldn't continue with regression. "
   ]
  },
  {
   "cell_type": "code",
   "execution_count": 9,
   "metadata": {
    "collapsed": false
   },
   "outputs": [
    {
     "data": {
      "text/html": [
       "<div>\n",
       "<table border=\"1\" class=\"dataframe\">\n",
       "  <thead>\n",
       "    <tr style=\"text-align: right;\">\n",
       "      <th></th>\n",
       "      <th>mrr</th>\n",
       "      <th>last_mrr</th>\n",
       "      <th>sig_exp_90</th>\n",
       "      <th>partner_flag</th>\n",
       "      <th>logins</th>\n",
       "      <th>running_experiment_days</th>\n",
       "      <th>utilization</th>\n",
       "      <th>churn_dollars</th>\n",
       "      <th>churned</th>\n",
       "    </tr>\n",
       "  </thead>\n",
       "  <tbody>\n",
       "    <tr>\n",
       "      <th>mrr</th>\n",
       "      <td>1.000000</td>\n",
       "      <td>0.582746</td>\n",
       "      <td>0.096620</td>\n",
       "      <td>0.063532</td>\n",
       "      <td>0.151409</td>\n",
       "      <td>0.042509</td>\n",
       "      <td>0.030040</td>\n",
       "      <td>-0.005181</td>\n",
       "      <td>0.053624</td>\n",
       "    </tr>\n",
       "    <tr>\n",
       "      <th>last_mrr</th>\n",
       "      <td>0.582746</td>\n",
       "      <td>1.000000</td>\n",
       "      <td>0.171272</td>\n",
       "      <td>0.010136</td>\n",
       "      <td>0.223306</td>\n",
       "      <td>0.087817</td>\n",
       "      <td>0.079614</td>\n",
       "      <td>-0.401963</td>\n",
       "      <td>0.095252</td>\n",
       "    </tr>\n",
       "    <tr>\n",
       "      <th>sig_exp_90</th>\n",
       "      <td>0.096620</td>\n",
       "      <td>0.171272</td>\n",
       "      <td>1.000000</td>\n",
       "      <td>0.150382</td>\n",
       "      <td>0.303610</td>\n",
       "      <td>0.019164</td>\n",
       "      <td>-0.023155</td>\n",
       "      <td>0.041314</td>\n",
       "      <td>0.377298</td>\n",
       "    </tr>\n",
       "    <tr>\n",
       "      <th>partner_flag</th>\n",
       "      <td>0.063532</td>\n",
       "      <td>0.010136</td>\n",
       "      <td>0.150382</td>\n",
       "      <td>1.000000</td>\n",
       "      <td>0.114541</td>\n",
       "      <td>0.014452</td>\n",
       "      <td>-0.023101</td>\n",
       "      <td>-0.006236</td>\n",
       "      <td>0.144707</td>\n",
       "    </tr>\n",
       "    <tr>\n",
       "      <th>logins</th>\n",
       "      <td>0.151409</td>\n",
       "      <td>0.223306</td>\n",
       "      <td>0.303610</td>\n",
       "      <td>0.114541</td>\n",
       "      <td>1.000000</td>\n",
       "      <td>-0.021655</td>\n",
       "      <td>-0.019044</td>\n",
       "      <td>0.021282</td>\n",
       "      <td>0.234215</td>\n",
       "    </tr>\n",
       "    <tr>\n",
       "      <th>running_experiment_days</th>\n",
       "      <td>0.042509</td>\n",
       "      <td>0.087817</td>\n",
       "      <td>0.019164</td>\n",
       "      <td>0.014452</td>\n",
       "      <td>-0.021655</td>\n",
       "      <td>1.000000</td>\n",
       "      <td>0.373400</td>\n",
       "      <td>0.012283</td>\n",
       "      <td>-0.178273</td>\n",
       "    </tr>\n",
       "    <tr>\n",
       "      <th>utilization</th>\n",
       "      <td>0.030040</td>\n",
       "      <td>0.079614</td>\n",
       "      <td>-0.023155</td>\n",
       "      <td>-0.023101</td>\n",
       "      <td>-0.019044</td>\n",
       "      <td>0.373400</td>\n",
       "      <td>1.000000</td>\n",
       "      <td>-0.068949</td>\n",
       "      <td>-0.140390</td>\n",
       "    </tr>\n",
       "    <tr>\n",
       "      <th>churn_dollars</th>\n",
       "      <td>-0.005181</td>\n",
       "      <td>-0.401963</td>\n",
       "      <td>0.041314</td>\n",
       "      <td>-0.006236</td>\n",
       "      <td>0.021282</td>\n",
       "      <td>0.012283</td>\n",
       "      <td>-0.068949</td>\n",
       "      <td>1.000000</td>\n",
       "      <td>0.066353</td>\n",
       "    </tr>\n",
       "    <tr>\n",
       "      <th>churned</th>\n",
       "      <td>0.053624</td>\n",
       "      <td>0.095252</td>\n",
       "      <td>0.377298</td>\n",
       "      <td>0.144707</td>\n",
       "      <td>0.234215</td>\n",
       "      <td>-0.178273</td>\n",
       "      <td>-0.140390</td>\n",
       "      <td>0.066353</td>\n",
       "      <td>1.000000</td>\n",
       "    </tr>\n",
       "  </tbody>\n",
       "</table>\n",
       "</div>"
      ],
      "text/plain": [
       "                              mrr  last_mrr  sig_exp_90  partner_flag  \\\n",
       "mrr                      1.000000  0.582746    0.096620      0.063532   \n",
       "last_mrr                 0.582746  1.000000    0.171272      0.010136   \n",
       "sig_exp_90               0.096620  0.171272    1.000000      0.150382   \n",
       "partner_flag             0.063532  0.010136    0.150382      1.000000   \n",
       "logins                   0.151409  0.223306    0.303610      0.114541   \n",
       "running_experiment_days  0.042509  0.087817    0.019164      0.014452   \n",
       "utilization              0.030040  0.079614   -0.023155     -0.023101   \n",
       "churn_dollars           -0.005181 -0.401963    0.041314     -0.006236   \n",
       "churned                  0.053624  0.095252    0.377298      0.144707   \n",
       "\n",
       "                           logins  running_experiment_days  utilization  \\\n",
       "mrr                      0.151409                 0.042509     0.030040   \n",
       "last_mrr                 0.223306                 0.087817     0.079614   \n",
       "sig_exp_90               0.303610                 0.019164    -0.023155   \n",
       "partner_flag             0.114541                 0.014452    -0.023101   \n",
       "logins                   1.000000                -0.021655    -0.019044   \n",
       "running_experiment_days -0.021655                 1.000000     0.373400   \n",
       "utilization             -0.019044                 0.373400     1.000000   \n",
       "churn_dollars            0.021282                 0.012283    -0.068949   \n",
       "churned                  0.234215                -0.178273    -0.140390   \n",
       "\n",
       "                         churn_dollars   churned  \n",
       "mrr                          -0.005181  0.053624  \n",
       "last_mrr                     -0.401963  0.095252  \n",
       "sig_exp_90                    0.041314  0.377298  \n",
       "partner_flag                 -0.006236  0.144707  \n",
       "logins                        0.021282  0.234215  \n",
       "running_experiment_days       0.012283 -0.178273  \n",
       "utilization                  -0.068949 -0.140390  \n",
       "churn_dollars                 1.000000  0.066353  \n",
       "churned                       0.066353  1.000000  "
      ]
     },
     "execution_count": 9,
     "metadata": {},
     "output_type": "execute_result"
    }
   ],
   "source": [
    "df.corr()"
   ]
  },
  {
   "cell_type": "code",
   "execution_count": 10,
   "metadata": {
    "collapsed": false
   },
   "outputs": [],
   "source": [
    "#shift gocus to try logistic regression and use churn binary flag as "
   ]
  },
  {
   "cell_type": "code",
   "execution_count": 13,
   "metadata": {
    "collapsed": false
   },
   "outputs": [],
   "source": [
    "train_df = df.sample(frac = .75, random_state = 0)\n",
    "test_df = df.drop(train_df.index)"
   ]
  },
  {
   "cell_type": "code",
   "execution_count": null,
   "metadata": {
    "collapsed": false
   },
   "outputs": [],
   "source": []
  },
  {
   "cell_type": "code",
   "execution_count": 23,
   "metadata": {
    "collapsed": false
   },
   "outputs": [
    {
     "data": {
      "text/plain": [
       "Index([u'customer_id', u'for_month', u'mrr', u'last_yr', u'last_mrr',\n",
       "       u'sig_exp_90', u'partner_flag', u'logins', u'running_experiment_days',\n",
       "       u'utilization', u'churn_dollars', u'churned'],\n",
       "      dtype='object')"
      ]
     },
     "execution_count": 23,
     "metadata": {},
     "output_type": "execute_result"
    }
   ],
   "source": [
    "train_df.columns"
   ]
  },
  {
   "cell_type": "code",
   "execution_count": 11,
   "metadata": {
    "collapsed": false
   },
   "outputs": [
    {
     "ename": "SyntaxError",
     "evalue": "invalid syntax (<ipython-input-11-9dc7f2259f50>, line 1)",
     "output_type": "error",
     "traceback": [
      "\u001b[0;36m  File \u001b[0;32m\"<ipython-input-11-9dc7f2259f50>\"\u001b[0;36m, line \u001b[0;32m1\u001b[0m\n\u001b[0;31m    names_X = ['sig_exp_90'==1, 'partner_flag'=1, 'logins',\u001b[0m\n\u001b[0m                                              ^\u001b[0m\n\u001b[0;31mSyntaxError\u001b[0m\u001b[0;31m:\u001b[0m invalid syntax\n"
     ]
    }
   ],
   "source": [
    "names_X = ['sig_exp_90', 'partner_flag', 'logins',\n",
    "    'running_experiment_days', 'utilization']       #, 'churn_dollars']\n",
    "\n",
    "def X_c(df):\n",
    "    X = df[ names_X ]\n",
    "    c = df.churned\n",
    "    return X, c\n",
    "\n",
    "train_X, train_c = X_c(train_df)\n",
    "test_X, test_c = X_c(test_df)"
   ]
  },
  {
   "cell_type": "code",
   "execution_count": null,
   "metadata": {
    "collapsed": false
   },
   "outputs": [],
   "source": [
    "model = linear_model.LogisticRegression().fit(train_X, train_c)\n",
    "\n",
    "print model.intercept_\n",
    "print model.coef_"
   ]
  },
  {
   "cell_type": "code",
   "execution_count": 34,
   "metadata": {
    "collapsed": false
   },
   "outputs": [
    {
     "name": "stdout",
     "output_type": "stream",
     "text": [
      "[ 0.00068708]\n",
      "[[  5.95686049e-04   1.72235218e-04   3.14446083e-02  -1.35420224e-02\n",
      "   -3.09179648e-07]]\n"
     ]
    }
   ],
   "source": [
    "model = linear_model.LogisticRegression().\\\n",
    "    fit(test_X, test_c)\n",
    "\n",
    "print model.intercept_\n",
    "print model.coef_"
   ]
  },
  {
   "cell_type": "code",
   "execution_count": 35,
   "metadata": {
    "collapsed": false
   },
   "outputs": [
    {
     "name": "stdout",
     "output_type": "stream",
     "text": [
      "training misclassification = 0.166185804962\n",
      "testing  misclassification = 0.160899653979\n"
     ]
    }
   ],
   "source": [
    "print 'training misclassification =', 1 - model.score(train_X, train_c)\n",
    "print 'testing  misclassification =', 1 - model.score(test_X, test_c)"
   ]
  },
  {
   "cell_type": "code",
   "execution_count": null,
   "metadata": {
    "collapsed": true
   },
   "outputs": [],
   "source": []
  }
 ],
 "metadata": {
  "anaconda-cloud": {},
  "kernelspec": {
   "display_name": "Python [conda root]",
   "language": "python",
   "name": "conda-root-py"
  },
  "language_info": {
   "codemirror_mode": {
    "name": "ipython",
    "version": 2
   },
   "file_extension": ".py",
   "mimetype": "text/x-python",
   "name": "python",
   "nbconvert_exporter": "python",
   "pygments_lexer": "ipython2",
   "version": "2.7.12"
  }
 },
 "nbformat": 4,
 "nbformat_minor": 1
}
