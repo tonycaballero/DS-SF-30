{
 "cells": [
  {
   "cell_type": "code",
   "execution_count": 4,
   "metadata": {
    "collapsed": true
   },
   "outputs": [],
   "source": [
    "import os\n",
    "\n",
    "import numpy as np\n",
    "import pandas as pd\n",
    "pd.set_option('display.max_rows', 10)\n",
    "pd.set_option('display.notebook_repr_html', True)\n",
    "pd.set_option('display.max_columns', 10)\n",
    "\n",
    "from sklearn import linear_model, metrics\n",
    "\n",
    "import matplotlib.pyplot as plt\n",
    "%matplotlib inline\n",
    "plt.style.use('ggplot')"
   ]
  },
  {
   "cell_type": "code",
   "execution_count": 13,
   "metadata": {
    "collapsed": false
   },
   "outputs": [],
   "source": [
    "df = pd.read_csv(os.path.join('..', 'datasets', 'C:/Users/tcaballero/DS-SF-30/final-project/tiny cube binary.csv'))"
   ]
  },
  {
   "cell_type": "code",
   "execution_count": 14,
   "metadata": {
    "collapsed": false
   },
   "outputs": [
    {
     "name": "stdout",
     "output_type": "stream",
     "text": [
      "rows = 2311 and columns = 12\n",
      "customer_id                 object\n",
      "for_month                   object\n",
      "mrr                          int64\n",
      "last_yr                     object\n",
      "last_mrr                     int64\n",
      "                            ...   \n",
      "logins                       int64\n",
      "running_experiment_days      int64\n",
      "utilization                  int64\n",
      "churn_dollars              float64\n",
      "churned                      int64\n",
      "dtype: object\n"
     ]
    }
   ],
   "source": [
    "rows = df.shape[0]\n",
    "cols = df.shape[1]\n",
    "print \"rows = {} and columns = {}\".format(rows, cols)\n",
    "print df.dtypes"
   ]
  },
  {
   "cell_type": "code",
   "execution_count": 29,
   "metadata": {
    "collapsed": false
   },
   "outputs": [
    {
     "data": {
      "text/plain": [
       "sig_exp_90                   0\n",
       "partner_flag                 0\n",
       "logins                       0\n",
       "running_experiment_days      0\n",
       "utilization                  0\n",
       "churn_dollars              928\n",
       "dtype: int64"
      ]
     },
     "execution_count": 29,
     "metadata": {},
     "output_type": "execute_result"
    }
   ],
   "source": [
    "df[[5,6,7,8,9,10]].isnull().sum()"
   ]
  },
  {
   "cell_type": "code",
   "execution_count": 18,
   "metadata": {
    "collapsed": false
   },
   "outputs": [
    {
     "data": {
      "text/html": [
       "<div>\n",
       "<table border=\"1\" class=\"dataframe\">\n",
       "  <thead>\n",
       "    <tr style=\"text-align: right;\">\n",
       "      <th></th>\n",
       "      <th>mrr</th>\n",
       "      <th>last_mrr</th>\n",
       "      <th>sig_exp_90</th>\n",
       "      <th>partner_flag</th>\n",
       "      <th>logins</th>\n",
       "      <th>running_experiment_days</th>\n",
       "      <th>utilization</th>\n",
       "      <th>churn_dollars</th>\n",
       "      <th>churned</th>\n",
       "    </tr>\n",
       "  </thead>\n",
       "  <tbody>\n",
       "    <tr>\n",
       "      <th>mrr</th>\n",
       "      <td>1.000000</td>\n",
       "      <td>0.582746</td>\n",
       "      <td>0.096620</td>\n",
       "      <td>0.063532</td>\n",
       "      <td>0.151409</td>\n",
       "      <td>0.042509</td>\n",
       "      <td>0.030040</td>\n",
       "      <td>-0.005181</td>\n",
       "      <td>0.053624</td>\n",
       "    </tr>\n",
       "    <tr>\n",
       "      <th>last_mrr</th>\n",
       "      <td>0.582746</td>\n",
       "      <td>1.000000</td>\n",
       "      <td>0.171272</td>\n",
       "      <td>0.010136</td>\n",
       "      <td>0.223306</td>\n",
       "      <td>0.087817</td>\n",
       "      <td>0.079614</td>\n",
       "      <td>-0.401963</td>\n",
       "      <td>0.095252</td>\n",
       "    </tr>\n",
       "    <tr>\n",
       "      <th>sig_exp_90</th>\n",
       "      <td>0.096620</td>\n",
       "      <td>0.171272</td>\n",
       "      <td>1.000000</td>\n",
       "      <td>0.150382</td>\n",
       "      <td>0.303610</td>\n",
       "      <td>0.019164</td>\n",
       "      <td>-0.023155</td>\n",
       "      <td>0.041314</td>\n",
       "      <td>0.377298</td>\n",
       "    </tr>\n",
       "    <tr>\n",
       "      <th>partner_flag</th>\n",
       "      <td>0.063532</td>\n",
       "      <td>0.010136</td>\n",
       "      <td>0.150382</td>\n",
       "      <td>1.000000</td>\n",
       "      <td>0.114541</td>\n",
       "      <td>0.014452</td>\n",
       "      <td>-0.023101</td>\n",
       "      <td>-0.006236</td>\n",
       "      <td>0.144707</td>\n",
       "    </tr>\n",
       "    <tr>\n",
       "      <th>logins</th>\n",
       "      <td>0.151409</td>\n",
       "      <td>0.223306</td>\n",
       "      <td>0.303610</td>\n",
       "      <td>0.114541</td>\n",
       "      <td>1.000000</td>\n",
       "      <td>-0.021655</td>\n",
       "      <td>-0.019044</td>\n",
       "      <td>0.021282</td>\n",
       "      <td>0.234215</td>\n",
       "    </tr>\n",
       "    <tr>\n",
       "      <th>running_experiment_days</th>\n",
       "      <td>0.042509</td>\n",
       "      <td>0.087817</td>\n",
       "      <td>0.019164</td>\n",
       "      <td>0.014452</td>\n",
       "      <td>-0.021655</td>\n",
       "      <td>1.000000</td>\n",
       "      <td>0.373400</td>\n",
       "      <td>0.012283</td>\n",
       "      <td>-0.178273</td>\n",
       "    </tr>\n",
       "    <tr>\n",
       "      <th>utilization</th>\n",
       "      <td>0.030040</td>\n",
       "      <td>0.079614</td>\n",
       "      <td>-0.023155</td>\n",
       "      <td>-0.023101</td>\n",
       "      <td>-0.019044</td>\n",
       "      <td>0.373400</td>\n",
       "      <td>1.000000</td>\n",
       "      <td>-0.068949</td>\n",
       "      <td>-0.140390</td>\n",
       "    </tr>\n",
       "    <tr>\n",
       "      <th>churn_dollars</th>\n",
       "      <td>-0.005181</td>\n",
       "      <td>-0.401963</td>\n",
       "      <td>0.041314</td>\n",
       "      <td>-0.006236</td>\n",
       "      <td>0.021282</td>\n",
       "      <td>0.012283</td>\n",
       "      <td>-0.068949</td>\n",
       "      <td>1.000000</td>\n",
       "      <td>0.066353</td>\n",
       "    </tr>\n",
       "    <tr>\n",
       "      <th>churned</th>\n",
       "      <td>0.053624</td>\n",
       "      <td>0.095252</td>\n",
       "      <td>0.377298</td>\n",
       "      <td>0.144707</td>\n",
       "      <td>0.234215</td>\n",
       "      <td>-0.178273</td>\n",
       "      <td>-0.140390</td>\n",
       "      <td>0.066353</td>\n",
       "      <td>1.000000</td>\n",
       "    </tr>\n",
       "  </tbody>\n",
       "</table>\n",
       "</div>"
      ],
      "text/plain": [
       "                              mrr  last_mrr  sig_exp_90  partner_flag  \\\n",
       "mrr                      1.000000  0.582746    0.096620      0.063532   \n",
       "last_mrr                 0.582746  1.000000    0.171272      0.010136   \n",
       "sig_exp_90               0.096620  0.171272    1.000000      0.150382   \n",
       "partner_flag             0.063532  0.010136    0.150382      1.000000   \n",
       "logins                   0.151409  0.223306    0.303610      0.114541   \n",
       "running_experiment_days  0.042509  0.087817    0.019164      0.014452   \n",
       "utilization              0.030040  0.079614   -0.023155     -0.023101   \n",
       "churn_dollars           -0.005181 -0.401963    0.041314     -0.006236   \n",
       "churned                  0.053624  0.095252    0.377298      0.144707   \n",
       "\n",
       "                           logins  running_experiment_days  utilization  \\\n",
       "mrr                      0.151409                 0.042509     0.030040   \n",
       "last_mrr                 0.223306                 0.087817     0.079614   \n",
       "sig_exp_90               0.303610                 0.019164    -0.023155   \n",
       "partner_flag             0.114541                 0.014452    -0.023101   \n",
       "logins                   1.000000                -0.021655    -0.019044   \n",
       "running_experiment_days -0.021655                 1.000000     0.373400   \n",
       "utilization             -0.019044                 0.373400     1.000000   \n",
       "churn_dollars            0.021282                 0.012283    -0.068949   \n",
       "churned                  0.234215                -0.178273    -0.140390   \n",
       "\n",
       "                         churn_dollars   churned  \n",
       "mrr                          -0.005181  0.053624  \n",
       "last_mrr                     -0.401963  0.095252  \n",
       "sig_exp_90                    0.041314  0.377298  \n",
       "partner_flag                 -0.006236  0.144707  \n",
       "logins                        0.021282  0.234215  \n",
       "running_experiment_days       0.012283 -0.178273  \n",
       "utilization                  -0.068949 -0.140390  \n",
       "churn_dollars                 1.000000  0.066353  \n",
       "churned                       0.066353  1.000000  "
      ]
     },
     "execution_count": 18,
     "metadata": {},
     "output_type": "execute_result"
    }
   ],
   "source": [
    "df.corr()"
   ]
  },
  {
   "cell_type": "code",
   "execution_count": null,
   "metadata": {
    "collapsed": false
   },
   "outputs": [],
   "source": []
  },
  {
   "cell_type": "code",
   "execution_count": 21,
   "metadata": {
    "collapsed": true
   },
   "outputs": [],
   "source": [
    "train_df = df.sample(frac = .75, random_state = 0)\n",
    "test_df = df.drop(train_df.index)"
   ]
  },
  {
   "cell_type": "code",
   "execution_count": 23,
   "metadata": {
    "collapsed": false
   },
   "outputs": [
    {
     "data": {
      "text/plain": [
       "Index([u'customer_id', u'for_month', u'mrr', u'last_yr', u'last_mrr',\n",
       "       u'sig_exp_90', u'partner_flag', u'logins', u'running_experiment_days',\n",
       "       u'utilization', u'churn_dollars', u'churned'],\n",
       "      dtype='object')"
      ]
     },
     "execution_count": 23,
     "metadata": {},
     "output_type": "execute_result"
    }
   ],
   "source": [
    "train_df.columns"
   ]
  },
  {
   "cell_type": "code",
   "execution_count": 32,
   "metadata": {
    "collapsed": false
   },
   "outputs": [],
   "source": [
    "names_X = ['sig_exp_90', 'partner_flag', 'logins',\n",
    "    'running_experiment_days', 'utilization']       #, 'churn_dollars']\n",
    "\n",
    "def X_c(df):\n",
    "    X = df[ names_X ]\n",
    "    c = df.churned\n",
    "    return X, c\n",
    "\n",
    "train_X, train_c = X_c(train_df)\n",
    "test_X, test_c = X_c(test_df)"
   ]
  },
  {
   "cell_type": "code",
   "execution_count": 33,
   "metadata": {
    "collapsed": false
   },
   "outputs": [
    {
     "name": "stdout",
     "output_type": "stream",
     "text": [
      "[ 0.00034561]\n",
      "[[  4.94613674e-04   2.21005854e-04   2.55531522e-02  -7.65023141e-03\n",
      "   -1.77418795e-06]]\n"
     ]
    }
   ],
   "source": [
    "model = linear_model.LogisticRegression().\\\n",
    "    fit(train_X, train_c)\n",
    "\n",
    "print model.intercept_\n",
    "print model.coef_"
   ]
  },
  {
   "cell_type": "code",
   "execution_count": 34,
   "metadata": {
    "collapsed": false
   },
   "outputs": [
    {
     "name": "stdout",
     "output_type": "stream",
     "text": [
      "[ 0.00068708]\n",
      "[[  5.95686049e-04   1.72235218e-04   3.14446083e-02  -1.35420224e-02\n",
      "   -3.09179648e-07]]\n"
     ]
    }
   ],
   "source": [
    "model = linear_model.LogisticRegression().\\\n",
    "    fit(test_X, test_c)\n",
    "\n",
    "print model.intercept_\n",
    "print model.coef_"
   ]
  },
  {
   "cell_type": "code",
   "execution_count": 35,
   "metadata": {
    "collapsed": false
   },
   "outputs": [
    {
     "name": "stdout",
     "output_type": "stream",
     "text": [
      "training misclassification = 0.166185804962\n",
      "testing  misclassification = 0.160899653979\n"
     ]
    }
   ],
   "source": [
    "print 'training misclassification =', 1 - model.score(train_X, train_c)\n",
    "print 'testing  misclassification =', 1 - model.score(test_X, test_c)"
   ]
  },
  {
   "cell_type": "code",
   "execution_count": null,
   "metadata": {
    "collapsed": true
   },
   "outputs": [],
   "source": []
  }
 ],
 "metadata": {
  "anaconda-cloud": {},
  "kernelspec": {
   "display_name": "Python [conda root]",
   "language": "python",
   "name": "conda-root-py"
  },
  "language_info": {
   "codemirror_mode": {
    "name": "ipython",
    "version": 2
   },
   "file_extension": ".py",
   "mimetype": "text/x-python",
   "name": "python",
   "nbconvert_exporter": "python",
   "pygments_lexer": "ipython2",
   "version": "2.7.12"
  }
 },
 "nbformat": 4,
 "nbformat_minor": 1
}
